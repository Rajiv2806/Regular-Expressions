{
 "cells": [
  {
   "cell_type": "markdown",
   "id": "3bcc0348-1662-4468-a77f-6490283eca10",
   "metadata": {},
   "source": [
    "# Regular Expressions in Python Practice\n",
    "\n",
    "[regx101.com](regx101.com)"
   ]
  },
  {
   "cell_type": "code",
   "execution_count": 1,
   "id": "d74953bb-2487-4451-864a-3e017b6f8b7a",
   "metadata": {},
   "outputs": [],
   "source": [
    "import re"
   ]
  },
  {
   "cell_type": "markdown",
   "id": "2a232e13-afd3-4671-9d5d-79b757e8ef98",
   "metadata": {},
   "source": [
    "\\d = Matches each single digit\n",
    "\n",
    "\\d\\d\\d\\d...\\d (n times) = Matches sequenct of n digits\n",
    "\n",
    "\\d{n} = Matches sequence of n digits (an efficient way of above method)"
   ]
  },
  {
   "cell_type": "code",
   "execution_count": 7,
   "id": "4d4ee323-b848-49fd-ab30-96b98b18cb3f",
   "metadata": {},
   "outputs": [],
   "source": [
    "chat1 = \"my ph nb is 1234567890\"\n",
    "chat2 = \"or u can contact me in (123)-122-3345\"\n",
    "chat3 = \"My alternative number is123-123-3333\"\n",
    "chat4 = "
   ]
  },
  {
   "cell_type": "code",
   "execution_count": 12,
   "id": "ad7899e8-ba83-434b-aad6-cd86df142702",
   "metadata": {},
   "outputs": [
    {
     "name": "stdout",
     "output_type": "stream",
     "text": [
      "In Chat1:  ['1', '2', '3', '4', '5', '6', '7', '8', '9', '0']\n",
      "In Chat2:  ['1', '2', '3', '1', '2', '2', '3', '3', '4', '5']\n",
      "In Chat3:  ['1', '2', '3', '1', '2', '3', '3', '3', '3', '3']\n"
     ]
    }
   ],
   "source": [
    "pattern = \"\\d\"\n",
    "print(\"In Chat1: \", re.findall(pattern,chat1))\n",
    "print(\"In Chat2: \", re.findall(pattern,chat2))\n",
    "print(\"In Chat3: \", re.findall(pattern,chat3))"
   ]
  },
  {
   "cell_type": "code",
   "execution_count": 13,
   "id": "83cd4229-db8a-4581-9090-70a9f65ae6fc",
   "metadata": {},
   "outputs": [
    {
     "name": "stdout",
     "output_type": "stream",
     "text": [
      "In Chat1:  ['123', '456', '789']\n",
      "In Chat2:  ['123', '122', '334']\n",
      "In Chat3:  ['123', '123', '333']\n"
     ]
    }
   ],
   "source": [
    "pattern = \"\\d\\d\\d\"\n",
    "print(\"In Chat1: \", re.findall(pattern,chat1))\n",
    "print(\"In Chat2: \", re.findall(pattern,chat2))\n",
    "print(\"In Chat3: \", re.findall(pattern,chat3))"
   ]
  },
  {
   "cell_type": "code",
   "execution_count": 14,
   "id": "2929b958-a339-4684-8272-baa8ae6822fa",
   "metadata": {},
   "outputs": [
    {
     "name": "stdout",
     "output_type": "stream",
     "text": [
      "In Chat1:  ['1234567890']\n",
      "In Chat2:  []\n",
      "In Chat3:  []\n"
     ]
    }
   ],
   "source": [
    "pattern = \"\\d{10}\"\n",
    "print(\"In Chat1: \", re.findall(pattern,chat1))\n",
    "print(\"In Chat2: \", re.findall(pattern,chat2))\n",
    "print(\"In Chat3: \", re.findall(pattern,chat3))"
   ]
  },
  {
   "cell_type": "code",
   "execution_count": 15,
   "id": "30668b52-762c-43e8-aae9-d3cd91bdcf3b",
   "metadata": {},
   "outputs": [
    {
     "name": "stdout",
     "output_type": "stream",
     "text": [
      "In Chat1:  []\n",
      "In Chat2:  ['(123)']\n",
      "In Chat3:  []\n"
     ]
    }
   ],
   "source": [
    "pattern = \"\\(\\d{3}\\)\"\n",
    "print(\"In Chat1: \", re.findall(pattern,chat1))\n",
    "print(\"In Chat2: \", re.findall(pattern,chat2))\n",
    "print(\"In Chat3: \", re.findall(pattern,chat3))"
   ]
  },
  {
   "cell_type": "code",
   "execution_count": 16,
   "id": "f48d28dc-4daf-4125-b5ca-3a7ad87a6977",
   "metadata": {},
   "outputs": [
    {
     "name": "stdout",
     "output_type": "stream",
     "text": [
      "In Chat1:  []\n",
      "In Chat2:  ['(123)-']\n",
      "In Chat3:  []\n"
     ]
    }
   ],
   "source": [
    "pattern = \"\\(\\d{3}\\)-\"\n",
    "print(\"In Chat1: \", re.findall(pattern,chat1))\n",
    "print(\"In Chat2: \", re.findall(pattern,chat2))\n",
    "print(\"In Chat3: \", re.findall(pattern,chat3))"
   ]
  },
  {
   "cell_type": "code",
   "execution_count": 17,
   "id": "6267844b-2acb-4132-9df7-cd01449bb27e",
   "metadata": {},
   "outputs": [
    {
     "name": "stdout",
     "output_type": "stream",
     "text": [
      "In Chat1:  []\n",
      "In Chat2:  ['(123)-122']\n",
      "In Chat3:  []\n"
     ]
    }
   ],
   "source": [
    "pattern = \"\\(\\d{3}\\)-\\d{3}\"\n",
    "print(\"In Chat1: \", re.findall(pattern,chat1))\n",
    "print(\"In Chat2: \", re.findall(pattern,chat2))\n",
    "print(\"In Chat3: \", re.findall(pattern,chat3))"
   ]
  },
  {
   "cell_type": "code",
   "execution_count": 18,
   "id": "f2567a7d-4058-42f1-96c0-5ff459b3c769",
   "metadata": {},
   "outputs": [
    {
     "name": "stdout",
     "output_type": "stream",
     "text": [
      "In Chat1:  []\n",
      "In Chat2:  ['(123)-122-3345']\n",
      "In Chat3:  []\n"
     ]
    }
   ],
   "source": [
    "pattern = \"\\(\\d{3}\\)-\\d{3}-\\d{4}\"\n",
    "print(\"In Chat1: \", re.findall(pattern,chat1))\n",
    "print(\"In Chat2: \", re.findall(pattern,chat2))\n",
    "print(\"In Chat3: \", re.findall(pattern,chat3))"
   ]
  },
  {
   "cell_type": "code",
   "execution_count": 21,
   "id": "7fff7a75-e1a1-45cf-842a-46c35582bbb2",
   "metadata": {},
   "outputs": [
    {
     "name": "stdout",
     "output_type": "stream",
     "text": [
      "In Chat1:  ['1234567890']\n",
      "In Chat2:  ['(123)-122-3345']\n",
      "In Chat3:  []\n"
     ]
    }
   ],
   "source": [
    "pattern = \"\\d{10}|\\(\\d{3}\\)-\\d{3}-\\d{4}\"\n",
    "print(\"In Chat1: \", re.findall(pattern,chat1))\n",
    "print(\"In Chat2: \", re.findall(pattern,chat2))\n",
    "print(\"In Chat3: \", re.findall(pattern,chat3))"
   ]
  },
  {
   "cell_type": "code",
   "execution_count": 22,
   "id": "5bc3a106-dffd-43f2-b2a7-3ceef17d4cc5",
   "metadata": {},
   "outputs": [
    {
     "name": "stdout",
     "output_type": "stream",
     "text": [
      "In Chat1:  ['1234567890']\n",
      "In Chat2:  ['(123)-122-3345']\n",
      "In Chat3:  ['123-123-3333']\n"
     ]
    }
   ],
   "source": [
    "pattern = \"\\d{10}|\\(\\d{3}\\)-\\d{3}-\\d{4}|\\d{3}-\\d{3}-\\d{4}\"\n",
    "print(\"In Chat1: \", re.findall(pattern,chat1))\n",
    "print(\"In Chat2: \", re.findall(pattern,chat2))\n",
    "print(\"In Chat3: \", re.findall(pattern,chat3))"
   ]
  },
  {
   "cell_type": "code",
   "execution_count": 23,
   "id": "f56809b6-9987-466f-981f-5619690e6372",
   "metadata": {},
   "outputs": [],
   "source": [
    "mail1 = \"abc@xyx.com\"\n",
    "mail2 = \"abc_122@asdr.com\"\n",
    "mail3 = \"abc.as@pqr.in\""
   ]
  },
  {
   "cell_type": "code",
   "execution_count": 25,
   "id": "e35d3c90-00f2-48d7-bc5f-ea8e25ecc6fa",
   "metadata": {},
   "outputs": [
    {
     "name": "stdout",
     "output_type": "stream",
     "text": [
      "In Mail1:  ['@']\n",
      "In Mail2:  ['@']\n",
      "In Mail3:  ['@']\n"
     ]
    }
   ],
   "source": [
    "pattern = \"@\"\n",
    "print(\"In Mail1: \", re.findall(pattern,mail1))\n",
    "print(\"In Mail2: \", re.findall(pattern,mail2))\n",
    "print(\"In Mail3: \", re.findall(pattern,mail3))"
   ]
  },
  {
   "cell_type": "code",
   "execution_count": 26,
   "id": "770cf2aa-5606-4e6d-85dd-cacee58e4b6f",
   "metadata": {},
   "outputs": [
    {
     "name": "stdout",
     "output_type": "stream",
     "text": [
      "In Mail1:  ['c@']\n",
      "In Mail2:  []\n",
      "In Mail3:  ['s@']\n"
     ]
    }
   ],
   "source": [
    "pattern = \"[a-z]@\"\n",
    "print(\"In Mail1: \", re.findall(pattern,mail1))\n",
    "print(\"In Mail2: \", re.findall(pattern,mail2))\n",
    "print(\"In Mail3: \", re.findall(pattern,mail3))"
   ]
  },
  {
   "cell_type": "code",
   "execution_count": 27,
   "id": "6d6f1bb4-1e5c-4b19-aecd-77706e08be40",
   "metadata": {},
   "outputs": [
    {
     "name": "stdout",
     "output_type": "stream",
     "text": [
      "In Mail1:  ['abc@']\n",
      "In Mail2:  ['@']\n",
      "In Mail3:  ['as@']\n"
     ]
    }
   ],
   "source": [
    "pattern = \"[a-z]*@\"\n",
    "print(\"In Mail1: \", re.findall(pattern,mail1))\n",
    "print(\"In Mail2: \", re.findall(pattern,mail2))\n",
    "print(\"In Mail3: \", re.findall(pattern,mail3))"
   ]
  },
  {
   "cell_type": "code",
   "execution_count": 28,
   "id": "5055066a-f67e-41b3-8a67-45d9803b0d40",
   "metadata": {},
   "outputs": [
    {
     "name": "stdout",
     "output_type": "stream",
     "text": [
      "In Mail1:  ['abc@']\n",
      "In Mail2:  ['122@']\n",
      "In Mail3:  ['as@']\n"
     ]
    }
   ],
   "source": [
    "pattern = \"[a-z0-9]*@\"\n",
    "print(\"In Mail1: \", re.findall(pattern,mail1))\n",
    "print(\"In Mail2: \", re.findall(pattern,mail2))\n",
    "print(\"In Mail3: \", re.findall(pattern,mail3))"
   ]
  },
  {
   "cell_type": "code",
   "execution_count": 29,
   "id": "17780840-7c34-417a-8a9e-1d5703cf1bd7",
   "metadata": {},
   "outputs": [
    {
     "name": "stdout",
     "output_type": "stream",
     "text": [
      "In Mail1:  ['abc@']\n",
      "In Mail2:  ['122@']\n",
      "In Mail3:  ['as@']\n"
     ]
    }
   ],
   "source": [
    "pattern = \"[a-zA-Z0-9]*@\"\n",
    "print(\"In Mail1: \", re.findall(pattern,mail1))\n",
    "print(\"In Mail2: \", re.findall(pattern,mail2))\n",
    "print(\"In Mail3: \", re.findall(pattern,mail3))"
   ]
  },
  {
   "cell_type": "code",
   "execution_count": 30,
   "id": "053c701c-dbe1-49ab-a1c9-783a2c664e21",
   "metadata": {},
   "outputs": [
    {
     "name": "stdout",
     "output_type": "stream",
     "text": [
      "In Mail1:  ['abc@']\n",
      "In Mail2:  ['abc_122@']\n",
      "In Mail3:  ['as@']\n"
     ]
    }
   ],
   "source": [
    "pattern = \"[a-zA-Z0-9_]*@\"\n",
    "print(\"In Mail1: \", re.findall(pattern,mail1))\n",
    "print(\"In Mail2: \", re.findall(pattern,mail2))\n",
    "print(\"In Mail3: \", re.findall(pattern,mail3))"
   ]
  },
  {
   "cell_type": "code",
   "execution_count": 31,
   "id": "36c830b3-7eb3-4a55-b941-248bc5a16819",
   "metadata": {},
   "outputs": [
    {
     "name": "stdout",
     "output_type": "stream",
     "text": [
      "In Mail1:  ['abc@']\n",
      "In Mail2:  ['abc_122@']\n",
      "In Mail3:  ['abc.as@']\n"
     ]
    }
   ],
   "source": [
    "pattern = \"[a-zA-Z0-9_.]*@\"\n",
    "print(\"In Mail1: \", re.findall(pattern,mail1))\n",
    "print(\"In Mail2: \", re.findall(pattern,mail2))\n",
    "print(\"In Mail3: \", re.findall(pattern,mail3))"
   ]
  },
  {
   "cell_type": "code",
   "execution_count": 32,
   "id": "c0783b8f-7453-4a95-bc77-971eb30b7a5b",
   "metadata": {},
   "outputs": [
    {
     "name": "stdout",
     "output_type": "stream",
     "text": [
      "In Mail1:  ['abc@x']\n",
      "In Mail2:  ['abc_122@a']\n",
      "In Mail3:  ['abc.as@p']\n"
     ]
    }
   ],
   "source": [
    "pattern = \"[a-zA-Z0-9_.]*@[a-zA-Z0-9]\"\n",
    "print(\"In Mail1: \", re.findall(pattern,mail1))\n",
    "print(\"In Mail2: \", re.findall(pattern,mail2))\n",
    "print(\"In Mail3: \", re.findall(pattern,mail3))"
   ]
  },
  {
   "cell_type": "code",
   "execution_count": 33,
   "id": "26ca5c89-a3f3-4572-a981-5099a803b0cd",
   "metadata": {},
   "outputs": [
    {
     "name": "stdout",
     "output_type": "stream",
     "text": [
      "In Mail1:  ['abc@xyx']\n",
      "In Mail2:  ['abc_122@asdr']\n",
      "In Mail3:  ['abc.as@pqr']\n"
     ]
    }
   ],
   "source": [
    "pattern = \"[a-zA-Z0-9_.]*@[a-zA-Z0-9]*\"\n",
    "print(\"In Mail1: \", re.findall(pattern,mail1))\n",
    "print(\"In Mail2: \", re.findall(pattern,mail2))\n",
    "print(\"In Mail3: \", re.findall(pattern,mail3))"
   ]
  },
  {
   "cell_type": "code",
   "execution_count": 34,
   "id": "732cbb7b-d433-4318-931a-bea72cef60d8",
   "metadata": {},
   "outputs": [
    {
     "name": "stdout",
     "output_type": "stream",
     "text": [
      "In Mail1:  ['abc@xyx.']\n",
      "In Mail2:  ['abc_122@asdr.']\n",
      "In Mail3:  ['abc.as@pqr.']\n"
     ]
    }
   ],
   "source": [
    "pattern = \"[a-zA-Z0-9_.]*@[a-zA-Z0-9]*.\"\n",
    "print(\"In Mail1: \", re.findall(pattern,mail1))\n",
    "print(\"In Mail2: \", re.findall(pattern,mail2))\n",
    "print(\"In Mail3: \", re.findall(pattern,mail3))"
   ]
  },
  {
   "cell_type": "code",
   "execution_count": 35,
   "id": "cf53c836-c805-4dc4-98b4-56143e768b51",
   "metadata": {},
   "outputs": [
    {
     "name": "stdout",
     "output_type": "stream",
     "text": [
      "In Mail1:  ['abc@xyx.']\n",
      "In Mail2:  ['abc_122@asdr.']\n",
      "In Mail3:  ['abc.as@pqr.']\n"
     ]
    }
   ],
   "source": [
    "pattern = \"[a-zA-Z0-9_.]*@[a-zA-Z0-9]*\\.\"\n",
    "print(\"In Mail1: \", re.findall(pattern,mail1))\n",
    "print(\"In Mail2: \", re.findall(pattern,mail2))\n",
    "print(\"In Mail3: \", re.findall(pattern,mail3))"
   ]
  },
  {
   "cell_type": "code",
   "execution_count": 36,
   "id": "7c41ec10-19b8-4f8e-a752-d35bdfdf6193",
   "metadata": {},
   "outputs": [
    {
     "name": "stdout",
     "output_type": "stream",
     "text": [
      "In Mail1:  ['abc@xyx.com']\n",
      "In Mail2:  ['abc_122@asdr.com']\n",
      "In Mail3:  []\n"
     ]
    }
   ],
   "source": [
    "pattern = \"[a-zA-Z0-9_.]*@[a-zA-Z0-9]*\\.com\"\n",
    "print(\"In Mail1: \", re.findall(pattern,mail1))\n",
    "print(\"In Mail2: \", re.findall(pattern,mail2))\n",
    "print(\"In Mail3: \", re.findall(pattern,mail3))"
   ]
  },
  {
   "cell_type": "code",
   "execution_count": 37,
   "id": "bd2cbffa-6801-4cd5-b1b1-3da6fe855b42",
   "metadata": {},
   "outputs": [
    {
     "name": "stdout",
     "output_type": "stream",
     "text": [
      "In Mail1:  ['abc@xyx.c']\n",
      "In Mail2:  ['abc_122@asdr.c']\n",
      "In Mail3:  ['abc.as@pqr.i']\n"
     ]
    }
   ],
   "source": [
    "pattern = \"[a-zA-Z0-9_.]*@[a-zA-Z0-9]*\\.[a-zA-Z]\"\n",
    "print(\"In Mail1: \", re.findall(pattern,mail1))\n",
    "print(\"In Mail2: \", re.findall(pattern,mail2))\n",
    "print(\"In Mail3: \", re.findall(pattern,mail3))"
   ]
  },
  {
   "cell_type": "code",
   "execution_count": 38,
   "id": "98df1187-61ef-4457-8341-13cae8fcbfe3",
   "metadata": {},
   "outputs": [
    {
     "name": "stdout",
     "output_type": "stream",
     "text": [
      "In Mail1:  ['abc@xyx.com']\n",
      "In Mail2:  ['abc_122@asdr.com']\n",
      "In Mail3:  ['abc.as@pqr.in']\n"
     ]
    }
   ],
   "source": [
    "pattern = \"[a-zA-Z0-9_.]*@[a-zA-Z0-9]*\\.[a-zA-Z]*\"\n",
    "print(\"In Mail1: \", re.findall(pattern,mail1))\n",
    "print(\"In Mail2: \", re.findall(pattern,mail2))\n",
    "print(\"In Mail3: \", re.findall(pattern,mail3))"
   ]
  },
  {
   "cell_type": "code",
   "execution_count": 43,
   "id": "9ba3e382-2d14-4201-8eb5-0a534c6277ad",
   "metadata": {},
   "outputs": [],
   "source": [
    "text1 = 'My order 412889912 is having an issue, I was charged 300$ when online it says 280$'\n",
    "text2 = 'My order number is 412889912 is having an issue, I was charged 300$ when online it says 280$'\n",
    "text3 = 'My order # 412889912 is having an issue, I was charged 300$ when online it says 280$'\n",
    "text4 = 'My order# 412889912 is having an issue, I was charged 300$ when online it says 280$'"
   ]
  },
  {
   "cell_type": "code",
   "execution_count": 44,
   "id": "0df8de76-f1ed-452b-aa53-62695366c3a5",
   "metadata": {},
   "outputs": [
    {
     "name": "stdout",
     "output_type": "stream",
     "text": [
      "In text1:  ['order']\n",
      "In text2:  ['order']\n",
      "In text3:  ['order']\n",
      "In text4:  ['order']\n"
     ]
    }
   ],
   "source": [
    "pattern = 'order'\n",
    "\n",
    "print(\"In text1: \",re.findall(pattern, text1))\n",
    "print(\"In text2: \",re.findall(pattern, text2))\n",
    "print(\"In text3: \",re.findall(pattern, text3))\n",
    "print(\"In text4: \",re.findall(pattern, text4))"
   ]
  },
  {
   "cell_type": "code",
   "execution_count": 45,
   "id": "4e45ac35-99e8-4627-a9d6-a94befa340bb",
   "metadata": {},
   "outputs": [
    {
     "name": "stdout",
     "output_type": "stream",
     "text": [
      "In text1:  ['order ']\n",
      "In text2:  ['order ']\n",
      "In text3:  ['order ']\n",
      "In text4:  ['order#']\n"
     ]
    }
   ],
   "source": [
    "pattern = 'order[^\\d]'\n",
    "print(\"In text1: \",re.findall(pattern, text1))\n",
    "print(\"In text2: \",re.findall(pattern, text2))\n",
    "print(\"In text3: \",re.findall(pattern, text3))\n",
    "print(\"In text4: \",re.findall(pattern, text4))"
   ]
  },
  {
   "cell_type": "code",
   "execution_count": 46,
   "id": "895dc817-f081-40e3-9e6b-99fe94b8dd3d",
   "metadata": {},
   "outputs": [
    {
     "name": "stdout",
     "output_type": "stream",
     "text": [
      "In text1:  ['order ']\n",
      "In text2:  ['order number is ']\n",
      "In text3:  ['order # ']\n",
      "In text4:  ['order# ']\n"
     ]
    }
   ],
   "source": [
    "pattern = 'order[^\\d]*' \n",
    "print(\"In text1: \",re.findall(pattern, text1))\n",
    "print(\"In text2: \",re.findall(pattern, text2))\n",
    "print(\"In text3: \",re.findall(pattern, text3))\n",
    "print(\"In text4: \",re.findall(pattern, text4))"
   ]
  },
  {
   "cell_type": "code",
   "execution_count": 48,
   "id": "c97a911c-d92e-4208-a24a-721f7bc2e07f",
   "metadata": {},
   "outputs": [
    {
     "name": "stdout",
     "output_type": "stream",
     "text": [
      "In text1:  ['order 4']\n",
      "In text2:  ['order number is 4']\n",
      "In text3:  ['order # 4']\n",
      "In text4:  ['order# 4']\n"
     ]
    }
   ],
   "source": [
    "pattern = 'order[^\\d]*\\d'\n",
    "print(\"In text1: \",re.findall(pattern, text1))\n",
    "print(\"In text2: \",re.findall(pattern, text2))\n",
    "print(\"In text3: \",re.findall(pattern, text3))\n",
    "print(\"In text4: \",re.findall(pattern, text4))"
   ]
  },
  {
   "cell_type": "code",
   "execution_count": 49,
   "id": "01c8fba4-4134-4f7d-ae2e-89e4d0a359e2",
   "metadata": {},
   "outputs": [
    {
     "name": "stdout",
     "output_type": "stream",
     "text": [
      "In text1:  ['order 412889912']\n",
      "In text2:  ['order number is 412889912']\n",
      "In text3:  ['order # 412889912']\n",
      "In text4:  ['order# 412889912']\n"
     ]
    }
   ],
   "source": [
    "pattern = 'order[^\\d]*\\d*' \n",
    "print(\"In text1: \",re.findall(pattern, text1))\n",
    "print(\"In text2: \",re.findall(pattern, text2))\n",
    "print(\"In text3: \",re.findall(pattern, text3))\n",
    "print(\"In text4: \",re.findall(pattern, text4))"
   ]
  },
  {
   "cell_type": "code",
   "execution_count": 50,
   "id": "dad31916-d477-4e29-8ca1-161d9f1eea0f",
   "metadata": {},
   "outputs": [
    {
     "name": "stdout",
     "output_type": "stream",
     "text": [
      "In text1:  ['412889912']\n",
      "In text2:  ['412889912']\n",
      "In text3:  ['412889912']\n",
      "In text4:  ['412889912']\n"
     ]
    }
   ],
   "source": [
    "pattern = 'order[^\\d]*(\\d*)'\n",
    "print(\"In text1: \",re.findall(pattern, text1))\n",
    "print(\"In text2: \",re.findall(pattern, text2))\n",
    "print(\"In text3: \",re.findall(pattern, text3))\n",
    "print(\"In text4: \",re.findall(pattern, text4))"
   ]
  },
  {
   "cell_type": "markdown",
   "id": "afea7afd-debc-4ecb-8db0-f7b009be5be2",
   "metadata": {},
   "source": [
    "### Key Information Extraction"
   ]
  },
  {
   "cell_type": "code",
   "execution_count": 53,
   "id": "2e3f6382-9c83-4d9c-afc2-f740f40f0375",
   "metadata": {},
   "outputs": [],
   "source": [
    "text_from_wiki = \"\"\"\n",
    "Bezos at the opening of Amazon Spheres in Seattle, 2018\n",
    "Born\tJeffrey Preston Jorgensen\n",
    "January 12, 1964 (age 58)\n",
    "Albuquerque, New Mexico, United States\n",
    "Education\tPrinceton University (BSE)\n",
    "Occupation\t\n",
    "Entrepreneurmedia proprietorinvestorcomputer engineer\n",
    "Years active\t1986–present\n",
    "Title\t\n",
    "Founder and Executive Chairman of Amazon\n",
    "Founder of Blue Origin\n",
    "Founder of Bezos Expeditions\n",
    "Spouse(s)\tMacKenzie Scott\n",
    "​\n",
    "​(m. 1993; div. 2019)​\n",
    "Partner(s)\tLauren Sánchez\n",
    "(2019–present)\n",
    "Children\t4\n",
    "Relatives\tMark Bezos (brother)\n",
    "George Strait (cousin)\n",
    "\"\"\""
   ]
  },
  {
   "cell_type": "code",
   "execution_count": 58,
   "id": "f53074f8-5286-4634-99dd-85d49603d527",
   "metadata": {},
   "outputs": [
    {
     "data": {
      "text/plain": [
       "['age 58']"
      ]
     },
     "execution_count": 58,
     "metadata": {},
     "output_type": "execute_result"
    }
   ],
   "source": [
    "age_pattern = \"age \\d+\"\n",
    "re.findall(age_pattern, text_from_wiki)"
   ]
  },
  {
   "cell_type": "code",
   "execution_count": 59,
   "id": "952bb56c-465d-4070-a5fd-705ce6b20c77",
   "metadata": {},
   "outputs": [
    {
     "data": {
      "text/plain": [
       "['58']"
      ]
     },
     "execution_count": 59,
     "metadata": {},
     "output_type": "execute_result"
    }
   ],
   "source": [
    "age_pattern = \"age (\\d+)\"\n",
    "re.findall(age_pattern, text_from_wiki)"
   ]
  },
  {
   "cell_type": "code",
   "execution_count": 62,
   "id": "868d6784-6959-41c5-9b26-4f0c75b0382d",
   "metadata": {},
   "outputs": [
    {
     "data": {
      "text/plain": [
       "['58']"
      ]
     },
     "execution_count": 62,
     "metadata": {},
     "output_type": "execute_result"
    }
   ],
   "source": [
    "age_pattern = \"age[ ](\\d+)\"\n",
    "re.findall(age_pattern, text_from_wiki)"
   ]
  },
  {
   "cell_type": "code",
   "execution_count": 66,
   "id": "1a2c9b09-2f5c-40cc-bb8e-5166dbd887fb",
   "metadata": {},
   "outputs": [
    {
     "data": {
      "text/plain": [
       "'Born'"
      ]
     },
     "execution_count": 66,
     "metadata": {},
     "output_type": "execute_result"
    }
   ],
   "source": [
    "born_pattern = \"Born\"\n",
    "born = re.findall(born_pattern, text_from_wiki)\n",
    "born[0].strip()"
   ]
  },
  {
   "cell_type": "code",
   "execution_count": 67,
   "id": "9d62ab51-e3a0-4ab2-b85c-36fc84a1a0e6",
   "metadata": {},
   "outputs": [
    {
     "data": {
      "text/plain": [
       "'Jeffrey Preston Jorgensen'"
      ]
     },
     "execution_count": 67,
     "metadata": {},
     "output_type": "execute_result"
    }
   ],
   "source": [
    "born_pattern = \"Born(.*)\"\n",
    "born = re.findall(born_pattern, text_from_wiki)\n",
    "born[0].strip()"
   ]
  },
  {
   "cell_type": "code",
   "execution_count": 68,
   "id": "2c6852a1-e69c-4a89-9d1b-51e48b0fadd8",
   "metadata": {},
   "outputs": [
    {
     "data": {
      "text/plain": [
       "'January 12, 1964 (age 58)'"
      ]
     },
     "execution_count": 68,
     "metadata": {},
     "output_type": "execute_result"
    }
   ],
   "source": [
    "born_pattern = \"Born.*\\n(.*)\"\n",
    "born = re.findall(born_pattern, text_from_wiki)\n",
    "born[0].strip()"
   ]
  },
  {
   "cell_type": "code",
   "execution_count": 86,
   "id": "22bb36f4-c1eb-4b27-bcf7-c1d0fccfe8ff",
   "metadata": {},
   "outputs": [
    {
     "data": {
      "text/plain": [
       "'January 12, 1964'"
      ]
     },
     "execution_count": 86,
     "metadata": {},
     "output_type": "execute_result"
    }
   ],
   "source": [
    "born_pattern = \"Born.*\\n(.*)\\(age\"\n",
    "born = re.findall(born_pattern, text_from_wiki)\n",
    "born[0].strip()"
   ]
  },
  {
   "cell_type": "code",
   "execution_count": 71,
   "id": "b9c1f06a-5a43-48da-9dae-89b8629b67d1",
   "metadata": {},
   "outputs": [
    {
     "data": {
      "text/plain": [
       "'Albuquerque, New Mexico, United States'"
      ]
     },
     "execution_count": 71,
     "metadata": {},
     "output_type": "execute_result"
    }
   ],
   "source": [
    "born_pattern = \"\\(age.*\\n(.*)\"\n",
    "born = re.findall(born_pattern, text_from_wiki)\n",
    "born[0].strip()"
   ]
  },
  {
   "cell_type": "code",
   "execution_count": 89,
   "id": "c9c74929-2b8a-4180-8e4f-fb8ec5dd073c",
   "metadata": {},
   "outputs": [],
   "source": [
    "def get_pattern_match(pattern, text):\n",
    "    matches = re.findall(pattern, text)\n",
    "    if matches:\n",
    "        return matches[0]\n",
    "    \n",
    "def get_personal_info(text):\n",
    "    age = get_pattern_match('age (\\d+)', text)\n",
    "    full_name = get_pattern_match('Born(.*)\\n', text)\n",
    "    birth_date = get_pattern_match('Born.*\\n(.*)\\(age', text)    \n",
    "    birth_place = get_pattern_match('\\(age.*\\n(.*)', text)\n",
    "    return {\"age\":int(age),\n",
    "            \"full_name\":full_name.strip(),\n",
    "            \"birth_place\":birth_place, \n",
    "            \"birth_date\": birth_date}"
   ]
  },
  {
   "cell_type": "code",
   "execution_count": 82,
   "id": "2616345b-5501-42ab-b9a4-819922b5462c",
   "metadata": {},
   "outputs": [
    {
     "data": {
      "text/plain": [
       "'Albuquerque, New Mexico, United States'"
      ]
     },
     "execution_count": 82,
     "metadata": {},
     "output_type": "execute_result"
    }
   ],
   "source": [
    "get_pattern_match('\\(age.*\\n(.*)', text)"
   ]
  },
  {
   "cell_type": "code",
   "execution_count": 90,
   "id": "c4fde3e1-1579-4fb3-9d14-361d57a2b77c",
   "metadata": {},
   "outputs": [
    {
     "data": {
      "text/plain": [
       "{'age': 58,\n",
       " 'full_name': 'Jeffrey Preston Jorgensen',\n",
       " 'birth_place': 'Albuquerque, New Mexico, United States',\n",
       " 'birth_date': 'January 12, 1964 '}"
      ]
     },
     "execution_count": 90,
     "metadata": {},
     "output_type": "execute_result"
    }
   ],
   "source": [
    "get_personal_info(text)"
   ]
  }
 ],
 "metadata": {
  "kernelspec": {
   "display_name": "Python 3",
   "language": "python",
   "name": "python3"
  },
  "language_info": {
   "codemirror_mode": {
    "name": "ipython",
    "version": 3
   },
   "file_extension": ".py",
   "mimetype": "text/x-python",
   "name": "python",
   "nbconvert_exporter": "python",
   "pygments_lexer": "ipython3",
   "version": "3.8.8"
  }
 },
 "nbformat": 4,
 "nbformat_minor": 5
}
