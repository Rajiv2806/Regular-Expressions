{
 "cells": [
  {
   "cell_type": "markdown",
   "id": "e6322f2e-b5a5-439f-9c4d-5f7aaa055fb9",
   "metadata": {},
   "source": [
    "# Python Regular Expression Exericse"
   ]
  },
  {
   "cell_type": "code",
   "execution_count": 1,
   "id": "95271dff-0b57-4742-84ab-a6dbf8e6d165",
   "metadata": {},
   "outputs": [],
   "source": [
    "import re"
   ]
  },
  {
   "cell_type": "markdown",
   "id": "4a3511d5-3ca7-41e5-aea3-aa82f2010d79",
   "metadata": {},
   "source": [
    "**1. Extract all twitter handles from following text. Twitter handle is the text that appears after https://twitter.com/ and is a single word. Also it contains only alpha numeric characters i.e. A-Z a-z , o to 9 and underscore _**"
   ]
  },
  {
   "cell_type": "code",
   "execution_count": 4,
   "id": "d5cb3f56-d5df-42cd-99e9-f548696d4a45",
   "metadata": {},
   "outputs": [
    {
     "data": {
      "text/plain": [
       "['elonmusk', 'teslarati', 'dummy_tesla', 'dummy_2_tesla']"
      ]
     },
     "execution_count": 4,
     "metadata": {},
     "output_type": "execute_result"
    }
   ],
   "source": [
    "text = '''\n",
    "Follow our leader Elon musk on twitter here: https://twitter.com/elonmusk, more information \n",
    "on Tesla's products can be found at https://www.tesla.com/. Also here are leading influencers \n",
    "for tesla related news,\n",
    "https://twitter.com/teslarati\n",
    "https://twitter.com/dummy_tesla\n",
    "https://twitter.com/dummy_2_tesla\n",
    "'''\n",
    "\n",
    "pattern = 'https://twitter.com/([A-Za-z0-9_]*)'\n",
    "\n",
    "re.findall(pattern, text)"
   ]
  },
  {
   "cell_type": "markdown",
   "id": "50cbf561-83e5-427d-b4ab-a2ef40de11fa",
   "metadata": {},
   "source": [
    "**2. Extract Concentration Risk Types. It will be a text that appears after \"Concentration Risk:\", In below example, your regex should extract these two strings.**\n",
    "\n",
    "(1) Credit Risk\n",
    "\n",
    "(2) Supply Rish"
   ]
  },
  {
   "cell_type": "code",
   "execution_count": 5,
   "id": "11607e0c-1461-409b-979a-c3477adb1917",
   "metadata": {},
   "outputs": [
    {
     "data": {
      "text/plain": [
       "['Concentration of Risk', 'Concentration of Risk']"
      ]
     },
     "execution_count": 5,
     "metadata": {},
     "output_type": "execute_result"
    }
   ],
   "source": [
    "text = '''\n",
    "Concentration of Risk: Credit Risk\n",
    "Financial instruments that potentially subject us to a concentration of credit risk consist of cash, cash equivalents, marketable securities,\n",
    "restricted cash, accounts receivable, convertible note hedges, and interest rate swaps. Our cash balances are primarily invested in money market funds\n",
    "or on deposit at high credit quality financial institutions in the U.S. These deposits are typically in excess of insured limits. As of September 30, 2021\n",
    "and December 31, 2020, no entity represented 10% or more of our total accounts receivable balance. The risk of concentration for our convertible note\n",
    "hedges and interest rate swaps is mitigated by transacting with several highly-rated multinational banks.\n",
    "Concentration of Risk: Supply Risk\n",
    "We are dependent on our suppliers, including single source suppliers, and the inability of these suppliers to deliver necessary components of our\n",
    "products in a timely manner at prices, quality levels and volumes acceptable to us, or our inability to efficiently manage these components from these\n",
    "suppliers, could have a material adverse effect on our business, prospects, financial condition and operating results.\n",
    "'''\n",
    "pattern = 'Concentration of Risk' # todo: type your regex here\n",
    "\n",
    "re.findall(pattern, text)"
   ]
  },
  {
   "cell_type": "code",
   "execution_count": 21,
   "id": "68a9c693-5653-4058-91d9-8afa478f1f5e",
   "metadata": {},
   "outputs": [
    {
     "data": {
      "text/plain": [
       "['Credit Risk', 'Supply Risk']"
      ]
     },
     "execution_count": 21,
     "metadata": {},
     "output_type": "execute_result"
    }
   ],
   "source": [
    "pattern = 'Concentration[a-zA-z0-9_ ]*Risk: ([a-zA-z ]*)'\n",
    "re.findall(pattern, text)"
   ]
  },
  {
   "cell_type": "markdown",
   "id": "4c3e67b7-4e04-4120-9522-374e22ca3d20",
   "metadata": {},
   "source": [
    "**3. Companies in europe reports their financial numbers of semi annual basis and you can have a document like this. To exatract quarterly and semin annual period you can use a regex as shown below**\n",
    "\n",
    "Hint: you need to use (?:) here to match everything enclosed"
   ]
  },
  {
   "cell_type": "code",
   "execution_count": 35,
   "id": "eaec51bf-f073-4a1b-b086-06c02131134a",
   "metadata": {},
   "outputs": [
    {
     "data": {
      "text/plain": [
       "['FY2021', 'FY2021', 'FY2021']"
      ]
     },
     "execution_count": 35,
     "metadata": {},
     "output_type": "execute_result"
    }
   ],
   "source": [
    "text = '''\n",
    "Tesla's gross cost of operating lease vehicles in FY2021 Q1 was $4.85 billion.\n",
    "BMW's gross cost of operating vehicles in FY2021 S1 was $8 billion.\n",
    "BMW's gross cost of operating vehicles in FY2021 it is S1 was $8 billion.\n",
    "'''\n",
    "\n",
    "pattern = 'FY\\d{4}' \n",
    "re.findall(pattern, text)"
   ]
  },
  {
   "cell_type": "code",
   "execution_count": 36,
   "id": "23ecc26d-7f5b-4092-8f31-216956ccfadc",
   "metadata": {},
   "outputs": [
    {
     "data": {
      "text/plain": [
       "['FY2021 Q1', 'FY2021 S1']"
      ]
     },
     "execution_count": 36,
     "metadata": {},
     "output_type": "execute_result"
    }
   ],
   "source": [
    "pattern = 'FY\\d{4} \\w\\d' \n",
    "re.findall(pattern, text)"
   ]
  },
  {
   "cell_type": "code",
   "execution_count": 38,
   "id": "9cc4e63b-7113-405f-a4d0-e8ec4ff2fcc8",
   "metadata": {},
   "outputs": [
    {
     "data": {
      "text/plain": [
       "['FY2021 Q1', 'FY2021 S1', 'FY2021 it is S1']"
      ]
     },
     "execution_count": 38,
     "metadata": {},
     "output_type": "execute_result"
    }
   ],
   "source": [
    "pattern = 'FY\\d{4}[a-zA-Z0-9 ]*\\w\\d' \n",
    "re.findall(pattern, text)"
   ]
  },
  {
   "cell_type": "code",
   "execution_count": 41,
   "id": "284a4c2c-bcde-4551-90b7-1b07c2688a0b",
   "metadata": {},
   "outputs": [
    {
     "data": {
      "text/plain": [
       "['FY2021 Q1 was ', 'FY2021 S1 was ', 'FY2021 it is S1 was ']"
      ]
     },
     "execution_count": 41,
     "metadata": {},
     "output_type": "execute_result"
    }
   ],
   "source": [
    "pattern = 'FY\\d{4}[a-zA-Z0-9 ]*\\w\\d[a-zA-Z0-9 ]*' \n",
    "re.findall(pattern, text)"
   ]
  },
  {
   "cell_type": "code",
   "execution_count": 44,
   "id": "d09873a8-4bb4-407a-aeeb-7e4183adaa2e",
   "metadata": {},
   "outputs": [
    {
     "data": {
      "text/plain": [
       "['FY2021 Q1 was $', 'FY2021 S1 was $', 'FY2021 it is S1 was $']"
      ]
     },
     "execution_count": 44,
     "metadata": {},
     "output_type": "execute_result"
    }
   ],
   "source": [
    "pattern = 'FY\\d{4}[a-zA-Z0-9 ]*\\w\\d[a-zA-Z0-9 ]* \\$' \n",
    "re.findall(pattern, text)"
   ]
  },
  {
   "cell_type": "code",
   "execution_count": 53,
   "id": "718b6669-1985-4f9f-926b-20d1bfb819e5",
   "metadata": {},
   "outputs": [
    {
     "data": {
      "text/plain": [
       "['$4.85 billion', '$8 billion', '$8 billion']"
      ]
     },
     "execution_count": 53,
     "metadata": {},
     "output_type": "execute_result"
    }
   ],
   "source": [
    "pattern = 'FY\\d{4}[a-zA-Z0-9 ]*\\w\\d[a-zA-Z0-9 ]* (\\$[\\d.]*[a-zA-Z0-9 ]*)' \n",
    "re.findall(pattern, text)"
   ]
  }
 ],
 "metadata": {
  "kernelspec": {
   "display_name": "Python 3",
   "language": "python",
   "name": "python3"
  },
  "language_info": {
   "codemirror_mode": {
    "name": "ipython",
    "version": 3
   },
   "file_extension": ".py",
   "mimetype": "text/x-python",
   "name": "python",
   "nbconvert_exporter": "python",
   "pygments_lexer": "ipython3",
   "version": "3.8.8"
  }
 },
 "nbformat": 4,
 "nbformat_minor": 5
}
