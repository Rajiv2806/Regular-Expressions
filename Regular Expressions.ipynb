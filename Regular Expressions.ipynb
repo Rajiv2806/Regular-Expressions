{
 "cells": [
  {
   "cell_type": "markdown",
   "id": "6ac25e6e-9c15-42b4-8fe9-aaf712a246a1",
   "metadata": {},
   "source": [
    "# Learning Regular Expressions"
   ]
  },
  {
   "cell_type": "markdown",
   "id": "d299ae15-31ed-430c-a48b-1d8ab234f88c",
   "metadata": {
    "tags": []
   },
   "source": [
    "# Crack Concepts"
   ]
  },
  {
   "cell_type": "markdown",
   "id": "6798b41d-eacd-4c56-baba-83539dada2f8",
   "metadata": {},
   "source": [
    "Used for Pattern Matching or String Matching\n",
    "\n",
    "* [abc]   match a or b or c\n",
    "\n",
    "* [^abc]  any character except a,b,c\n",
    "\n",
    "* [a-z]   any character from a-z\n",
    "\n",
    "* [A-Z]   any character from A-Z\n",
    "\n",
    "* [a-zA-Z]   any character from a-z and A-Z\n",
    "\n",
    "* [0-9]   any numeric from 0-9\n",
    "\n",
    "============================================="
   ]
  },
  {
   "cell_type": "markdown",
   "id": "7b423c83-d450-4217-91e4-d7e9f275779b",
   "metadata": {},
   "source": [
    "Quantifiers\n",
    "\n",
    "* [ ]? Occurs 0 or 1 time\n",
    "\n",
    "* [ ]+ Occurs 1 or more times\n",
    "\n",
    "* [ ]* Occurs 0 or more times\n",
    "\n",
    "* [ ]{n} Occurs n times\n",
    "\n",
    "* [ ]{n,} Occurs n or more times\n",
    "\n",
    "* [ ]{y,z} Occurs atleast y times but less than z times"
   ]
  },
  {
   "cell_type": "markdown",
   "id": "a810c196-942c-4468-8f94-be47e83752a4",
   "metadata": {},
   "source": [
    "**Meta Characters**\n",
    "\n",
    "Alternatives or short form Characters\n",
    "\n",
    "The \"\\\\\" __Escape Sequence__ tells computer to treat following characters as search character for \"+\", \".\", \"-\"\n",
    "\n",
    "* \\d              [0-9]\n",
    "\n",
    "* \\D              [^0-9]\n",
    "\n",
    "* \\w              [a-zA-Z_0-9]\n",
    "\n",
    "* \\W              [^\\w]"
   ]
  },
  {
   "cell_type": "code",
   "execution_count": null,
   "id": "19ce83e8-0d55-4527-9ccc-14d4c309e55b",
   "metadata": {},
   "outputs": [],
   "source": [
    "# Examples"
   ]
  },
  {
   "cell_type": "code",
   "execution_count": 2,
   "id": "b4852c26-74aa-421f-92e5-138588e96024",
   "metadata": {},
   "outputs": [],
   "source": [
    "# Mobile Number: Starts with 8 or 9 and total digits be 10\n",
    "\n",
    "# [89][0-9]{9}"
   ]
  },
  {
   "cell_type": "code",
   "execution_count": null,
   "id": "f70dd360-ef40-4fd4-abc1-2c50224e2dca",
   "metadata": {},
   "outputs": [],
   "source": [
    "# First Character should be Upper Case, Contains Lower case alphabets, Only one digit allowed in-between\n",
    "\n",
    "# [A-Z][a-z]*[0-9][a-z]*"
   ]
  },
  {
   "cell_type": "code",
   "execution_count": 3,
   "id": "716b8a70-12a8-4352-86a1-4f430374b8f2",
   "metadata": {},
   "outputs": [],
   "source": [
    "# Email ID:\n",
    "\n",
    "# raj_i-v.2806@gmail.com\n",
    "\n",
    "# [a-zA-Z0-9_\\-\\.]+[@][a-z]+[\\.][a-z]{2,3}"
   ]
  },
  {
   "cell_type": "markdown",
   "id": "9d863585-fe1a-4d5e-a0c2-203bfb9594f8",
   "metadata": {},
   "source": [
    "# Tests"
   ]
  },
  {
   "cell_type": "markdown",
   "id": "91fb4ca0-0187-4119-b249-12ecbbf73a6a",
   "metadata": {},
   "source": [
    "abcdefghijklmnopqrstuvwxyz\n",
    "\n",
    "ABCDEFGHIJKLMNOPQRSTUVWXYZ\n",
    "\n",
    "0123456789\n",
    "\n",
    "Meta Characters (Need to be Escaped):\n",
    "    .[{()\\^$|?*+\n",
    "    \n",
    "    \n",
    "* a dot \".\" matches all the characters except an new line\n",
    "\n",
    "* \\d - matches any digit\n",
    "\n",
    "* \\D - matches anything other than digits\n",
    "\n",
    "* \\w - matches Word Character A-Z, a-z, 0-9 and _ (underscore)\n",
    "\n",
    "* \\W - matches everything Except a word Character\n",
    "\n",
    "* \\s  - matches a space, tab, newline\n",
    "\n",
    "* \\S   - matches every thing except a space, tab, newline\n",
    "\n",
    "\n",
    "=============================================\n",
    "\n",
    "**Anchors**: They dont actually match any character but rather they match an invisible position before or after characters. \n",
    "\n",
    "\n",
    "* \\b  - matches Word Boundary\n",
    "\n",
    "* \\B  - matches everything except a word boundary\n",
    "\n",
    "* ^   - Begining of a string\n",
    "\n",
    "* $    - End of a sting\n",
    "\n",
    "\n",
    "============================================================\n",
    "\n",
    "\n",
    "* [  ]  - matches character in braces\n",
    "\n",
    "* [^   ]  - matches characters not in braces\n",
    "\n",
    "* | (a pipe)  - matches either or\n",
    "\n",
    "* ()    - Group\n",
    "\n",
    "\n",
    "=============================================================\n",
    "\n",
    "**Quantifiers**\n",
    "\n",
    "*   A \"*\" Star - Matches 0 or More Characters\n",
    "\n",
    "*  A \"+\" Plus  - Matches 1 or More\n",
    "\n",
    "* A \"?\" QuestionMark - Matches 0 or 1\n",
    "\n",
    "* A {3} - Matches exact one number\n",
    "\n",
    "* A {3,4} - Range of Numbers min, max\n",
    "\n",
    "=================================================================\n",
    "\n",
    "[a-zA-Z0-9_.+-]+@[a-zA-Z0-9-]+\\.[a-zA-Z0-9-.]+"
   ]
  },
  {
   "cell_type": "code",
   "execution_count": 8,
   "id": "6c1d9457-5fae-4efc-ba18-e52d6f452b89",
   "metadata": {},
   "outputs": [],
   "source": [
    "# Matching Mobile Numebrs\n",
    "\n",
    "# Pattern:   \\d\\d\\d.\\d\\d\\d.\\d\\d\\d\\d     >  MAtches: 321-444-2222 , 321.555.4534 , 541*548*8754\n",
    "# Pattern:   \\d{3}.\\d{3}.\\d{4}     >  MAtches: 321-444-2222 , 321.555.4534 , 541*548*8754\n",
    "\n",
    "# Pattern:   \\d\\d\\d[.-]\\d\\d\\d[.-]\\d\\d\\d\\d     >  MAtches: 321-444-2222 , 321.555.4534  But Not 541*548*8754, 541--548*8754 \n",
    "\n",
    "# Pattern:   [89]00[-.]\\d\\d\\d[.-]\\d\\d\\d\\d     >   Matches: 800-1542-4862, 900.1547.1485 But Not: 546-784-8457\n",
    "\n",
    "# Pattern:   [^a-z]        >     Matches assdjnosd But not ASSDODMD\n",
    "\n",
    "# Pattern:   [^b]at         > Matches: cat, mat, pat But Not bat\n",
    "\n",
    "# Pattern:   Mr\\.        > Matches: Mr. Rajiv and Mr. Apple But Not Mr gama, Mr felo\n",
    "\n",
    "# Pattern:   Mr\\.?        > Matches: Mr. Rajiv and Mr. Apple, Mr gama, Mr felo\n",
    "\n",
    "# Pattern:   Mr\\.?\\s[A-Z]        > Matches: Mr. Rajiv and Mr Apple, But Not Mr. gama, Mr felo\n",
    "\n",
    "# Pattern:   Mr\\.?\\s[A-Z]\\w        > Matches: Mr. Rajiv and Mr Apple, But Not Mr. T,Mr felo\n",
    "\n",
    "# Pattern:   Mr\\.?\\s[A-Z]\\w+        > Matches: Mr. Rajiv and Mr Apple,  But Not Mr. T, Mr felo\n",
    "\n",
    "# Pattern:   Mr\\.?\\s[A-Z]\\w*        > Matches: Mr. Rajiv and Mr Apple, Mr. T But Not Mr felo\n",
    "\n",
    "# Pattern:   M(r|s)\\.?\\s[A-Z]\\w*        > Matches: Mr. Rajiv and Ms Apple, Mr. T But Not Mrs felo\n",
    "\n",
    "# Pattern:   M(r|s|rs)\\.?\\s[A-Z]\\w*        > Matches: Mr. Rajiv and Ms Apple, Mr. T Mrs Felo But Not Mrs felo"
   ]
  },
  {
   "cell_type": "markdown",
   "id": "0c0d9a6c-492d-4b83-afe0-f7d166961336",
   "metadata": {
    "tags": []
   },
   "source": [
    "# Write an RegEx to Match below 3 mail ID:\n",
    "\n",
    "> raJIv@gmail.com\n",
    "\n",
    "> raj.iv@univ.edu\n",
    "\n",
    "> rajiv-321-fello@my-work.net\n",
    "\n",
    "- [a-zA-Z]+@[a-zA-Z]+\\.com    > Matches: raJIv@gmail.com\n",
    "\n",
    "- [a-zA-Z.]+@[a-zA-Z]+\\.(com|edu)    > Matches: raJIv@gmail.com, raj.iv@univ.edu\n",
    "\n",
    "- [a-zA-Z0-9.-]+@[a-zA-Z-]+\\.(com|edu|net)    > Matches: raJIv@gmail.com, raj.iv@univ.edu, rajiv-321-fello@my-work.net\n",
    "\n",
    "**One Pattern to Match any kind of Mail ID**\n",
    "\n",
    "- [a-zA-Z0-9_.+-]+@[a-zA-Z0-9-]+\\.[a-zA-Z0-9-.]+ "
   ]
  },
  {
   "cell_type": "markdown",
   "id": "4239b828-11f8-4f6c-9a8c-70c0544cb82b",
   "metadata": {},
   "source": [
    "## Matching URL's\n",
    "\n",
    "> https://www.goggle.com\n",
    "\n",
    "> http://www.rajiv.com\n",
    "\n",
    "> https://youtube.com\n",
    "\n",
    "> https://www.isro.gov\n",
    "\n",
    "\n",
    "- https?://(www\\.)?\\w+\\.\\w\n",
    "\n",
    "- https?://(www\\.)?(\\w+)(\\.\\w+)"
   ]
  },
  {
   "cell_type": "markdown",
   "id": "9812d331-c46c-43b0-8990-da9528f19b19",
   "metadata": {},
   "source": [
    "## BackReferencing: \n",
    "\n",
    "In order to get only a domain name or the last part of it\n",
    "\n",
    "In the below pattern: \n",
    "    \n",
    "- https?://(www\\.)?(\\w+)(\\.\\w+)\n",
    "\n",
    "if you want to fetch: Protocol > $1 > Fetches: https, http, https, http\n",
    "\n",
    "\n",
    "if you want to fetch: Domain Name > $2 > Fetches: google, rajiv, youtube, isro\n",
    "\n",
    "if you want to fetch: Last Part > $3 > Fetches: com, com, com, gov\n",
    "\n",
    "if you want to fetch: Domain and Last Part > $2$3 > Fetches: google.com, rajiv.com, youtube.com, isro.gov"
   ]
  },
  {
   "cell_type": "markdown",
   "id": "6e04cf40-6970-410c-9c5b-725414bb3616",
   "metadata": {},
   "source": [
    "# Python Implementation"
   ]
  },
  {
   "cell_type": "code",
   "execution_count": 10,
   "id": "420f59f8-e5a1-4ed7-af77-a75db2bfed35",
   "metadata": {},
   "outputs": [],
   "source": [
    "import re"
   ]
  },
  {
   "cell_type": "code",
   "execution_count": 11,
   "id": "b6ec84c9-776b-4bbf-8bf2-cb5d495879d1",
   "metadata": {},
   "outputs": [],
   "source": [
    "text_to_search = \"\"\"\n",
    "abcdefghijklmnopqustuvwxyz\n",
    "ABCDEFGHIJKLMNOPQRSTUVWXYZ\n",
    "0123456789\n",
    "\n",
    "Ha HaHa\n",
    "\n",
    "MetaCharacters (Need to be escaped):\n",
    ". ^ $ * + ? { } [ ] \\ | ( )\n",
    "\n",
    "rajiv.com\n",
    "\n",
    "rajiv_125\n",
    "\n",
    "321-254-7854\n",
    "458.476.3654\n",
    "\n",
    "Mr. Schafer\n",
    "Mr Smith\n",
    "Ms Davis\n",
    "Mrs. Robin\n",
    "Mr. T\n",
    "\"\"\""
   ]
  },
  {
   "cell_type": "code",
   "execution_count": 12,
   "id": "441e4fc6-a21e-47ff-a867-3383a055cb0a",
   "metadata": {},
   "outputs": [],
   "source": [
    "sentence = 'Start a sentence and then bring it to an end'"
   ]
  },
  {
   "cell_type": "code",
   "execution_count": 13,
   "id": "fb509fe3-ce2c-4818-9de1-2e00018ad4f9",
   "metadata": {},
   "outputs": [],
   "source": [
    "data = \"\"\"\n",
    "Dave Martin\n",
    "615-555-7164\n",
    "173 Main St., Springfield RI 55924\n",
    "davemartin@bogusemail.com\n",
    "\n",
    "Charles Harris\n",
    "800-555-5669\n",
    "969 High St., Atlantis VA 34075\n",
    "charlesharris@bogusemail.com\n",
    "\n",
    "Eric Williams\n",
    "560-555-5153\n",
    "806 1st St., Faketown AK 86847\n",
    "laurawilliams@bogusemail.com\n",
    "\n",
    "Corey Jefferson\n",
    "900-555-9340\n",
    "826 Elm St., Epicburg NE 10671\n",
    "coreyjefferson@bogusemail.com\n",
    "\n",
    "Jennifer Martin-White\n",
    "714-555-7405\n",
    "212 Cedar St., Sunnydale CT 74983\n",
    "jenniferwhite@bogusemail.com\n",
    "\n",
    "Erick Davis\n",
    "800-555-6771\n",
    "519 Washington St., Olympus TN 32425\n",
    "tomdavis@bogusemail.com\n",
    "\n",
    "Neil Patterson\n",
    "783-555-4799\n",
    "625 Oak St., Dawnstar IL 61914\n",
    "neilpatterson@bogusemail.com\n",
    "\n",
    "Laura Jefferson\n",
    "516-555-4615\n",
    "890 Main St., Pythonville LA 29947\n",
    "laurajefferson@bogusemail.com\n",
    "\n",
    "Maria Johnson\n",
    "127-555-1867\n",
    "884 High St., Braavos‎ ME 43597\n",
    "mariajohnson@bogusemail.com\n",
    "\n",
    "Michael Arnold\n",
    "608-555-4938\n",
    "249 Elm St., Quahog OR 90938\n",
    "michaelarnold@bogusemail.com\n",
    "\n",
    "Michael Smith\n",
    "568-555-6051\n",
    "619 Park St., Winterfell VA 99000\n",
    "michaelsmith@bogusemail.com\n",
    "\n",
    "Erik Stuart\n",
    "292-555-1875\n",
    "220 Cedar St., Lakeview NY 87282\n",
    "robertstuart@bogusemail.com\n",
    "\n",
    "Laura Martin\n",
    "900-555-3205\n",
    "391 High St., Smalltown WY 28362\n",
    "lauramartin@bogusemail.com\n",
    "\n",
    "Barbara Martin\n",
    "614-555-1166\n",
    "121 Hill St., Braavos‎ UT 92474\n",
    "barbaramartin@bogusemail.com\n",
    "\n",
    "Linda Jackson\n",
    "530-555-2676\n",
    "433 Elm St., Westworld TX 61967\n",
    "lindajackson@bogusemail.com\n",
    "\n",
    "Eric Miller\n",
    "470-555-2750\n",
    "838 Main St., Balmora MT 56526\n",
    "stevemiller@bogusemail.com\n",
    "\n",
    "Dave Arnold\n",
    "800-555-6089\n",
    "732 High St., Valyria KY 97152\n",
    "davearnold@bogusemail.com\n",
    "\n",
    "Jennifer Jacobs\n",
    "880-555-8319\n",
    "217 High St., Old-town IA 82767\n",
    "jenniferjacobs@bogusemail.com\n",
    "\n",
    "Neil Wilson\n",
    "777-555-8378\n",
    "191 Main St., Mordor IL 72160\n",
    "neilwilson@bogusemail.com\n",
    "\n",
    "Kurt Jackson\n",
    "998-555-7385\n",
    "607 Washington St., Blackwater NH 97183\n",
    "kurtjackson@bogusemail.com\n",
    "\n",
    "Mary Jacobs\n",
    "800-555-7100\n",
    "478 Oak St., Bedrock IA 58176\n",
    "maryjacobs@bogusemail.com\n",
    "\n",
    "Michael White\n",
    "903-555-8277\n",
    "906 Elm St., Mordor TX 89212\n",
    "michaelwhite@bogusemail.com\n",
    "\n",
    "Jennifer Jenkins\n",
    "196-555-5674\n",
    "949 Main St., Smalltown SC 96962\n",
    "jenniferjenkins@bogusemail.com\n",
    "\n",
    "Sam Wright\n",
    "900-555-5118\n",
    "835 Pearl St., Smalltown ND 77737\n",
    "samwright@bogusemail.com\n",
    "\n",
    "John Davis\n",
    "905-555-1630\n",
    "451 Lake St., Bedrock GA 34615\n",
    "johndavis@bogusemail.com\n",
    "\n",
    "Eric Davis\n",
    "203-555-3475\n",
    "419 Lake St., Balmora OR 30826\n",
    "neildavis@bogusemail.com\n",
    "\n",
    "Laura Jackson\n",
    "884-555-8444\n",
    "443 Maple St., Quahog MS 29348\n",
    "laurajackson@bogusemail.com\n",
    "\n",
    "John Williams\n",
    "904-555-8559\n",
    "756 Hill St., Valyria KY 94854\n",
    "johnwilliams@bogusemail.com\n",
    "\n",
    "Michael Martin\n",
    "889-555-7393\n",
    "216 High St., Olympus NV 21888\n",
    "michaelmartin@bogusemail.com\n",
    "\n",
    "Maggie Brown\n",
    "195-555-2405\n",
    "806 Lake St., Lakeview MD 59348\n",
    "maggiebrown@bogusemail.com\n",
    "\n",
    "Erik Wilson\n",
    "321-555-9053\n",
    "354 Hill St., Mordor FL 74122\n",
    "kurtwilson@bogusemail.com\n",
    "\n",
    "Elizabeth Arnold\n",
    "133-555-1711\n",
    "805 Maple St., Winterfell NV 99431\n",
    "elizabetharnold@bogusemail.com\n",
    "\n",
    "Jane Martin\n",
    "900-555-5428\n",
    "418 Park St., Metropolis ID 16576\n",
    "janemartin@bogusemail.com\n",
    "\n",
    "Travis Johnson\n",
    "760-555-7147\n",
    "749 Washington St., Braavos‎ SD 25668\n",
    "travisjohnson@bogusemail.com\n",
    "\n",
    "Laura Jefferson\n",
    "391-555-6621\n",
    "122 High St., Metropolis ME 29540\n",
    "laurajefferson@bogusemail.com\n",
    "\n",
    "Tom Williams\n",
    "932-555-7724\n",
    "610 High St., Old-town FL 60758\n",
    "tomwilliams@bogusemail.com\n",
    "\n",
    "Jennifer Taylor\n",
    "609-555-7908\n",
    "332 Main St., Pythonville OH 78172\n",
    "jennifertaylor@bogusemail.com\n",
    "\n",
    "Erick Wright\n",
    "800-555-8810\n",
    "858 Hill St., Blackwater NC 79714\n",
    "jenniferwright@bogusemail.com\n",
    "\n",
    "Steve Doe\n",
    "149-555-7657\n",
    "441 Elm St., Atlantis MS 87195\n",
    "stevedoe@bogusemail.com\n",
    "\n",
    "Kurt Davis\n",
    "130-555-9709\n",
    "404 Oak St., Atlantis ND 85386\n",
    "kurtdavis@bogusemail.com\n",
    "\n",
    "Corey Harris\n",
    "143-555-9295\n",
    "286 Pearl St., Vice City TX 57112\n",
    "coreyharris@bogusemail.com\n",
    "\n",
    "Nicole Taylor\n",
    "903-555-9878\n",
    "465 Hill St., Old-town LA 64102\n",
    "nicoletaylor@bogusemail.com\n",
    "\n",
    "Elizabeth Davis\n",
    "574-555-3194\n",
    "151 Lake St., Eerie SD 17880\n",
    "elizabethdavis@bogusemail.com\n",
    "\n",
    "Maggie Jenkins\n",
    "496-555-7533\n",
    "504 Lake St., Gotham PA 46692\n",
    "maggiejenkins@bogusemail.com\n",
    "\n",
    "Linda Davis\n",
    "210-555-3757\n",
    "201 Pine St., Vice City AR 78455\n",
    "lindadavis@bogusemail.com\n",
    "\n",
    "Dave Moore\n",
    "900-555-9598\n",
    "251 Pine St., Old-town OK 29087\n",
    "davemoore@bogusemail.com\n",
    "\n",
    "Linda Jenkins\n",
    "866-555-9844\n",
    "117 High St., Bedrock NE 11899\n",
    "lindajenkins@bogusemail.com\n",
    "\n",
    "Eric White\n",
    "669-555-7159\n",
    "650 Oak St., Smalltown TN 43281\n",
    "samwhite@bogusemail.com\n",
    "\n",
    "Laura Robinson\n",
    "152-555-7417\n",
    "377 Pine St., Valyria NC 78036\n",
    "laurarobinson@bogusemail.com\n",
    "\n",
    "Charles Patterson\n",
    "893-555-9832\n",
    "416 Pearl St., Valyria AK 62260\n",
    "charlespatterson@bogusemail.com\n",
    "\n",
    "Joe Jackson\n",
    "217-555-7123\n",
    "683 Cedar St., South Park KS 66724\n",
    "joejackson@bogusemail.com\n",
    "\n",
    "Michael Johnson\n",
    "786-555-6544\n",
    "288 Hill St., Smalltown AZ 18586\n",
    "michaeljohnson@bogusemail.com\n",
    "\n",
    "Corey Miller\n",
    "780-555-2574\n",
    "286 High St., Springfield IA 16272\n",
    "coreymiller@bogusemail.com\n",
    "\n",
    "James Moore\n",
    "926-555-8735\n",
    "278 Main St., Gotham KY 89569\n",
    "jamesmoore@bogusemail.com\n",
    "\n",
    "Jennifer Stuart\n",
    "895-555-3539\n",
    "766 Hill St., King's Landing GA 54999\n",
    "jenniferstuart@bogusemail.com\n",
    "\n",
    "Charles Martin\n",
    "874-555-3949\n",
    "775 High St., Faketown PA 89260\n",
    "charlesmartin@bogusemail.com\n",
    "\n",
    "Eric Wilks\n",
    "800-555-2420\n",
    "885 Main St., Blackwater OH 61275\n",
    "joewilks@bogusemail.com\n",
    "\n",
    "Elizabeth Arnold\n",
    "936-555-6340\n",
    "528 Hill St., Atlantis NH 88289\n",
    "elizabetharnold@bogusemail.com\n",
    "\n",
    "John Miller\n",
    "372-555-9809\n",
    "117 Cedar St., Thundera NM 75205\n",
    "johnmiller@bogusemail.com\n",
    "\n",
    "Corey Jackson\n",
    "890-555-5618\n",
    "115 Oak St., Gotham UT 36433\n",
    "coreyjackson@bogusemail.com\n",
    "\n",
    "Sam Thomas\n",
    "670-555-3005\n",
    "743 Lake St., Springfield MS 25473\n",
    "samthomas@bogusemail.com\n",
    "\n",
    "Patricia Thomas\n",
    "509-555-5997\n",
    "381 Hill St., Blackwater CT 30958\n",
    "patriciathomas@bogusemail.com\n",
    "\n",
    "Jennifer Davis\n",
    "721-555-5632\n",
    "125 Main St., Smalltown MT 62155\n",
    "jenniferdavis@bogusemail.com\n",
    "\n",
    "Patricia Brown\n",
    "900-555-3567\n",
    "292 Hill St., Gotham WV 57680\n",
    "patriciabrown@bogusemail.com\n",
    "\n",
    "Barbara Williams\n",
    "147-555-6830\n",
    "514 Park St., Balmora NV 55462\n",
    "barbarawilliams@bogusemail.com\n",
    "\n",
    "James Taylor\n",
    "582-555-3426\n",
    "776 Hill St., Dawnstar MA 51312\n",
    "jamestaylor@bogusemail.com\n",
    "\n",
    "Eric Harris\n",
    "400-555-1706\n",
    "421 Elm St., Smalltown NV 72025\n",
    "barbaraharris@bogusemail.com\n",
    "\n",
    "Travis Anderson\n",
    "525-555-1793\n",
    "937 Cedar St., Thundera WA 78862\n",
    "travisanderson@bogusemail.com\n",
    "\n",
    "Sam Robinson\n",
    "317-555-6700\n",
    "417 Pine St., Lakeview MD 13147\n",
    "samrobinson@bogusemail.com\n",
    "\n",
    "Steve Robinson\n",
    "974-555-8301\n",
    "478 Park St., Springfield NM 92369\n",
    "steverobinson@bogusemail.com\n",
    "\n",
    "Mary Wilson\n",
    "800-555-3216\n",
    "708 Maple St., Braavos‎ UT 29551\n",
    "marywilson@bogusemail.com\n",
    "\n",
    "Sam Wilson\n",
    "746-555-4094\n",
    "557 Pearl St., Westworld KS 23225\n",
    "samwilson@bogusemail.com\n",
    "\n",
    "Charles Jones\n",
    "922-555-1773\n",
    "855 Hill St., Olympus HI 81427\n",
    "charlesjones@bogusemail.com\n",
    "\n",
    "Laura Brown\n",
    "711-555-4427\n",
    "980 Maple St., Smalltown MO 96421\n",
    "laurabrown@bogusemail.com\n",
    "\n",
    "Tom Harris\n",
    "355-555-1872\n",
    "676 Hill St., Blackwater AR 96698\n",
    "tomharris@bogusemail.com\n",
    "\n",
    "Patricia Taylor\n",
    "852-555-6521\n",
    "588 Pine St., Olympus FL 98412\n",
    "patriciataylor@bogusemail.com\n",
    "\n",
    "Barbara Williams\n",
    "691-555-5773\n",
    "351 Elm St., Sunnydale GA 26245\n",
    "barbarawilliams@bogusemail.com\n",
    "\n",
    "Maggie Johnson\n",
    "332-555-5441\n",
    "948 Cedar St., Quahog DE 56449\n",
    "maggiejohnson@bogusemail.com\n",
    "\n",
    "Kurt Miller\n",
    "900-555-7755\n",
    "381 Hill St., Quahog AL 97503\n",
    "kurtmiller@bogusemail.com\n",
    "\n",
    "Neil Stuart\n",
    "379-555-3685\n",
    "496 Cedar St., Sunnydale RI 49113\n",
    "neilstuart@bogusemail.com\n",
    "\n",
    "Linda Patterson\n",
    "127-555-9682\n",
    "736 Cedar St., Lakeview KY 47472\n",
    "lindapatterson@bogusemail.com\n",
    "\n",
    "Charles Davis\n",
    "789-555-7032\n",
    "678 Lake St., Mordor MN 11845\n",
    "charlesdavis@bogusemail.com\n",
    "\n",
    "Jennifer Jefferson\n",
    "783-555-5135\n",
    "289 Park St., Sunnydale WA 74526\n",
    "jenniferjefferson@bogusemail.com\n",
    "\n",
    "Erick Taylor\n",
    "315-555-6507\n",
    "245 Washington St., Bedrock IL 26941\n",
    "coreytaylor@bogusemail.com\n",
    "\n",
    "Robert Wilks\n",
    "481-555-5835\n",
    "573 Elm St., Sunnydale IL 47182\n",
    "robertwilks@bogusemail.com\n",
    "\n",
    "Travis Jackson\n",
    "365-555-8287\n",
    "851 Lake St., Metropolis PA 22772\n",
    "travisjackson@bogusemail.com\n",
    "\n",
    "Travis Jackson\n",
    "911-555-7535\n",
    "489 Oak St., Atlantis HI 73725\n",
    "travisjackson@bogusemail.com\n",
    "\n",
    "Laura Wilks\n",
    "681-555-2460\n",
    "371 Pearl St., Smalltown SC 47466\n",
    "laurawilks@bogusemail.com\n",
    "\n",
    "Neil Arnold\n",
    "274-555-9800\n",
    "504 Oak St., Faketown PA 73860\n",
    "neilarnold@bogusemail.com\n",
    "\n",
    "Linda Johnson\n",
    "800-555-1372\n",
    "667 High St., Balmora IN 82473\n",
    "lindajohnson@bogusemail.com\n",
    "\n",
    "Jennifer Wilson\n",
    "300-555-7821\n",
    "266 Pine St., Westworld DC 58720\n",
    "jenniferwilson@bogusemail.com\n",
    "\n",
    "Nicole White\n",
    "900*555*9598\n",
    "276 High St., Braavos‎ IL 57764\n",
    "nicolewhite@bogusemail.com\n",
    "\n",
    "Maria Arnold\n",
    "705-555-6863\n",
    "491 Elm St., Metropolis PA 31836\n",
    "mariaarnold@bogusemail.com\n",
    "\n",
    "Jennifer Davis\n",
    "215-555-9449\n",
    "859 Cedar St., Old-town MT 31169\n",
    "jenniferdavis@bogusemail.com\n",
    "\n",
    "Mary Patterson\n",
    "988-555-6112\n",
    "956 Park St., Valyria CT 81541\n",
    "marypatterson@bogusemail.com\n",
    "\n",
    "Jane Stuart\n",
    "623-555-3006\n",
    "983 Oak St., Old-town RI 15445\n",
    "janestuart@bogusemail.com\n",
    "\n",
    "Robert Davis\n",
    "192-555-4977\n",
    "789 Maple St., Mordor IN 22215\n",
    "robertdavis@bogusemail.com\n",
    "\n",
    "James Taylor\n",
    "178-555-4899\n",
    "439 Hill St., Olympus NV 39308\n",
    "jamestaylor@bogusemail.com\n",
    "\n",
    "Eric Stuart\n",
    "952-555-3089\n",
    "777 High St., King's Landing AZ 16547\n",
    "johnstuart@bogusemail.com\n",
    "\n",
    "Charles Miller\n",
    "900-555-6426\n",
    "207 Washington St., Blackwater MA 24886\n",
    "charlesmiller@bogusemail.com\n",
    "\"\"\""
   ]
  },
  {
   "cell_type": "code",
   "execution_count": 14,
   "id": "1e388958-9c53-438f-803c-ebd1040a17d5",
   "metadata": {},
   "outputs": [
    {
     "name": "stdout",
     "output_type": "stream",
     "text": [
      "\tTab\n",
      "\\tTab\n"
     ]
    }
   ],
   "source": [
    "print(\"\\tTab\")\n",
    "print(r\"\\tTab\")"
   ]
  },
  {
   "cell_type": "code",
   "execution_count": 15,
   "id": "978b164c-b295-4cba-be44-c08fe064f828",
   "metadata": {},
   "outputs": [
    {
     "name": "stdout",
     "output_type": "stream",
     "text": [
      "<_sre.SRE_Match object; span=(1, 4), match='abc'>\n",
      "abc\n"
     ]
    }
   ],
   "source": [
    "# Searching text: \"abc\"\n",
    "pattern = re.compile(r\"abc\")\n",
    "matches = pattern.finditer(text_to_search)\n",
    "for match in matches:\n",
    "    print(match)\n",
    "print(text_to_search[1:4])"
   ]
  },
  {
   "cell_type": "code",
   "execution_count": 16,
   "id": "9ae32606-3331-4d70-9c8d-a6a46bb6bff5",
   "metadata": {},
   "outputs": [],
   "source": [
    "# Searching text: \"cba\"\n",
    "# Nothing gets printed\n",
    "pattern = re.compile(r\"cba\")\n",
    "matches = pattern.finditer(text_to_search)\n",
    "for match in matches:\n",
    "    print(match)"
   ]
  },
  {
   "cell_type": "code",
   "execution_count": 17,
   "id": "5464cfc6-ab24-4619-abe5-c8915ae35f9f",
   "metadata": {
    "scrolled": true,
    "tags": []
   },
   "outputs": [
    {
     "name": "stdout",
     "output_type": "stream",
     "text": [
      "<_sre.SRE_Match object; span=(1, 2), match='a'>\n",
      "<_sre.SRE_Match object; span=(2, 3), match='b'>\n",
      "<_sre.SRE_Match object; span=(3, 4), match='c'>\n",
      "<_sre.SRE_Match object; span=(4, 5), match='d'>\n",
      "<_sre.SRE_Match object; span=(5, 6), match='e'>\n",
      "<_sre.SRE_Match object; span=(6, 7), match='f'>\n",
      "<_sre.SRE_Match object; span=(7, 8), match='g'>\n",
      "<_sre.SRE_Match object; span=(8, 9), match='h'>\n",
      "<_sre.SRE_Match object; span=(9, 10), match='i'>\n",
      "<_sre.SRE_Match object; span=(10, 11), match='j'>\n",
      "<_sre.SRE_Match object; span=(11, 12), match='k'>\n",
      "<_sre.SRE_Match object; span=(12, 13), match='l'>\n",
      "<_sre.SRE_Match object; span=(13, 14), match='m'>\n",
      "<_sre.SRE_Match object; span=(14, 15), match='n'>\n",
      "<_sre.SRE_Match object; span=(15, 16), match='o'>\n",
      "<_sre.SRE_Match object; span=(16, 17), match='p'>\n",
      "<_sre.SRE_Match object; span=(17, 18), match='q'>\n",
      "<_sre.SRE_Match object; span=(18, 19), match='u'>\n",
      "<_sre.SRE_Match object; span=(19, 20), match='s'>\n",
      "<_sre.SRE_Match object; span=(20, 21), match='t'>\n",
      "<_sre.SRE_Match object; span=(21, 22), match='u'>\n",
      "<_sre.SRE_Match object; span=(22, 23), match='v'>\n",
      "<_sre.SRE_Match object; span=(23, 24), match='w'>\n",
      "<_sre.SRE_Match object; span=(24, 25), match='x'>\n",
      "<_sre.SRE_Match object; span=(25, 26), match='y'>\n",
      "<_sre.SRE_Match object; span=(26, 27), match='z'>\n",
      "<_sre.SRE_Match object; span=(28, 29), match='A'>\n",
      "<_sre.SRE_Match object; span=(29, 30), match='B'>\n",
      "<_sre.SRE_Match object; span=(30, 31), match='C'>\n",
      "<_sre.SRE_Match object; span=(31, 32), match='D'>\n",
      "<_sre.SRE_Match object; span=(32, 33), match='E'>\n",
      "<_sre.SRE_Match object; span=(33, 34), match='F'>\n",
      "<_sre.SRE_Match object; span=(34, 35), match='G'>\n",
      "<_sre.SRE_Match object; span=(35, 36), match='H'>\n",
      "<_sre.SRE_Match object; span=(36, 37), match='I'>\n",
      "<_sre.SRE_Match object; span=(37, 38), match='J'>\n",
      "<_sre.SRE_Match object; span=(38, 39), match='K'>\n",
      "<_sre.SRE_Match object; span=(39, 40), match='L'>\n",
      "<_sre.SRE_Match object; span=(40, 41), match='M'>\n",
      "<_sre.SRE_Match object; span=(41, 42), match='N'>\n",
      "<_sre.SRE_Match object; span=(42, 43), match='O'>\n",
      "<_sre.SRE_Match object; span=(43, 44), match='P'>\n",
      "<_sre.SRE_Match object; span=(44, 45), match='Q'>\n",
      "<_sre.SRE_Match object; span=(45, 46), match='R'>\n",
      "<_sre.SRE_Match object; span=(46, 47), match='S'>\n",
      "<_sre.SRE_Match object; span=(47, 48), match='T'>\n",
      "<_sre.SRE_Match object; span=(48, 49), match='U'>\n",
      "<_sre.SRE_Match object; span=(49, 50), match='V'>\n",
      "<_sre.SRE_Match object; span=(50, 51), match='W'>\n",
      "<_sre.SRE_Match object; span=(51, 52), match='X'>\n",
      "<_sre.SRE_Match object; span=(52, 53), match='Y'>\n",
      "<_sre.SRE_Match object; span=(53, 54), match='Z'>\n",
      "<_sre.SRE_Match object; span=(55, 56), match='0'>\n",
      "<_sre.SRE_Match object; span=(56, 57), match='1'>\n",
      "<_sre.SRE_Match object; span=(57, 58), match='2'>\n",
      "<_sre.SRE_Match object; span=(58, 59), match='3'>\n",
      "<_sre.SRE_Match object; span=(59, 60), match='4'>\n",
      "<_sre.SRE_Match object; span=(60, 61), match='5'>\n",
      "<_sre.SRE_Match object; span=(61, 62), match='6'>\n",
      "<_sre.SRE_Match object; span=(62, 63), match='7'>\n",
      "<_sre.SRE_Match object; span=(63, 64), match='8'>\n",
      "<_sre.SRE_Match object; span=(64, 65), match='9'>\n",
      "<_sre.SRE_Match object; span=(67, 68), match='H'>\n",
      "<_sre.SRE_Match object; span=(68, 69), match='a'>\n",
      "<_sre.SRE_Match object; span=(69, 70), match=' '>\n",
      "<_sre.SRE_Match object; span=(70, 71), match='H'>\n",
      "<_sre.SRE_Match object; span=(71, 72), match='a'>\n",
      "<_sre.SRE_Match object; span=(72, 73), match='H'>\n",
      "<_sre.SRE_Match object; span=(73, 74), match='a'>\n",
      "<_sre.SRE_Match object; span=(76, 77), match='M'>\n",
      "<_sre.SRE_Match object; span=(77, 78), match='e'>\n",
      "<_sre.SRE_Match object; span=(78, 79), match='t'>\n",
      "<_sre.SRE_Match object; span=(79, 80), match='a'>\n",
      "<_sre.SRE_Match object; span=(80, 81), match='C'>\n",
      "<_sre.SRE_Match object; span=(81, 82), match='h'>\n",
      "<_sre.SRE_Match object; span=(82, 83), match='a'>\n",
      "<_sre.SRE_Match object; span=(83, 84), match='r'>\n",
      "<_sre.SRE_Match object; span=(84, 85), match='a'>\n",
      "<_sre.SRE_Match object; span=(85, 86), match='c'>\n",
      "<_sre.SRE_Match object; span=(86, 87), match='t'>\n",
      "<_sre.SRE_Match object; span=(87, 88), match='e'>\n",
      "<_sre.SRE_Match object; span=(88, 89), match='r'>\n",
      "<_sre.SRE_Match object; span=(89, 90), match='s'>\n",
      "<_sre.SRE_Match object; span=(90, 91), match=' '>\n",
      "<_sre.SRE_Match object; span=(91, 92), match='('>\n",
      "<_sre.SRE_Match object; span=(92, 93), match='N'>\n",
      "<_sre.SRE_Match object; span=(93, 94), match='e'>\n",
      "<_sre.SRE_Match object; span=(94, 95), match='e'>\n",
      "<_sre.SRE_Match object; span=(95, 96), match='d'>\n",
      "<_sre.SRE_Match object; span=(96, 97), match=' '>\n",
      "<_sre.SRE_Match object; span=(97, 98), match='t'>\n",
      "<_sre.SRE_Match object; span=(98, 99), match='o'>\n",
      "<_sre.SRE_Match object; span=(99, 100), match=' '>\n",
      "<_sre.SRE_Match object; span=(100, 101), match='b'>\n",
      "<_sre.SRE_Match object; span=(101, 102), match='e'>\n",
      "<_sre.SRE_Match object; span=(102, 103), match=' '>\n",
      "<_sre.SRE_Match object; span=(103, 104), match='e'>\n",
      "<_sre.SRE_Match object; span=(104, 105), match='s'>\n",
      "<_sre.SRE_Match object; span=(105, 106), match='c'>\n",
      "<_sre.SRE_Match object; span=(106, 107), match='a'>\n",
      "<_sre.SRE_Match object; span=(107, 108), match='p'>\n",
      "<_sre.SRE_Match object; span=(108, 109), match='e'>\n",
      "<_sre.SRE_Match object; span=(109, 110), match='d'>\n",
      "<_sre.SRE_Match object; span=(110, 111), match=')'>\n",
      "<_sre.SRE_Match object; span=(111, 112), match=':'>\n",
      "<_sre.SRE_Match object; span=(113, 114), match='.'>\n",
      "<_sre.SRE_Match object; span=(114, 115), match=' '>\n",
      "<_sre.SRE_Match object; span=(115, 116), match='^'>\n",
      "<_sre.SRE_Match object; span=(116, 117), match=' '>\n",
      "<_sre.SRE_Match object; span=(117, 118), match='$'>\n",
      "<_sre.SRE_Match object; span=(118, 119), match=' '>\n",
      "<_sre.SRE_Match object; span=(119, 120), match='*'>\n",
      "<_sre.SRE_Match object; span=(120, 121), match=' '>\n",
      "<_sre.SRE_Match object; span=(121, 122), match='+'>\n",
      "<_sre.SRE_Match object; span=(122, 123), match=' '>\n",
      "<_sre.SRE_Match object; span=(123, 124), match='?'>\n",
      "<_sre.SRE_Match object; span=(124, 125), match=' '>\n",
      "<_sre.SRE_Match object; span=(125, 126), match='{'>\n",
      "<_sre.SRE_Match object; span=(126, 127), match=' '>\n",
      "<_sre.SRE_Match object; span=(127, 128), match='}'>\n",
      "<_sre.SRE_Match object; span=(128, 129), match=' '>\n",
      "<_sre.SRE_Match object; span=(129, 130), match='['>\n",
      "<_sre.SRE_Match object; span=(130, 131), match=' '>\n",
      "<_sre.SRE_Match object; span=(131, 132), match=']'>\n",
      "<_sre.SRE_Match object; span=(132, 133), match=' '>\n",
      "<_sre.SRE_Match object; span=(133, 134), match='\\\\'>\n",
      "<_sre.SRE_Match object; span=(134, 135), match=' '>\n",
      "<_sre.SRE_Match object; span=(135, 136), match='|'>\n",
      "<_sre.SRE_Match object; span=(136, 137), match=' '>\n",
      "<_sre.SRE_Match object; span=(137, 138), match='('>\n",
      "<_sre.SRE_Match object; span=(138, 139), match=' '>\n",
      "<_sre.SRE_Match object; span=(139, 140), match=')'>\n",
      "<_sre.SRE_Match object; span=(142, 143), match='c'>\n",
      "<_sre.SRE_Match object; span=(143, 144), match='o'>\n",
      "<_sre.SRE_Match object; span=(144, 145), match='r'>\n",
      "<_sre.SRE_Match object; span=(145, 146), match='e'>\n",
      "<_sre.SRE_Match object; span=(146, 147), match='y'>\n",
      "<_sre.SRE_Match object; span=(147, 148), match='m'>\n",
      "<_sre.SRE_Match object; span=(148, 149), match='s'>\n",
      "<_sre.SRE_Match object; span=(149, 150), match='.'>\n",
      "<_sre.SRE_Match object; span=(150, 151), match='c'>\n",
      "<_sre.SRE_Match object; span=(151, 152), match='o'>\n",
      "<_sre.SRE_Match object; span=(152, 153), match='m'>\n",
      "<_sre.SRE_Match object; span=(155, 156), match='r'>\n",
      "<_sre.SRE_Match object; span=(156, 157), match='a'>\n",
      "<_sre.SRE_Match object; span=(157, 158), match='j'>\n",
      "<_sre.SRE_Match object; span=(158, 159), match='i'>\n",
      "<_sre.SRE_Match object; span=(159, 160), match='v'>\n",
      "<_sre.SRE_Match object; span=(160, 161), match='_'>\n",
      "<_sre.SRE_Match object; span=(161, 162), match='1'>\n",
      "<_sre.SRE_Match object; span=(162, 163), match='2'>\n",
      "<_sre.SRE_Match object; span=(163, 164), match='5'>\n",
      "<_sre.SRE_Match object; span=(166, 167), match='3'>\n",
      "<_sre.SRE_Match object; span=(167, 168), match='2'>\n",
      "<_sre.SRE_Match object; span=(168, 169), match='1'>\n",
      "<_sre.SRE_Match object; span=(169, 170), match='-'>\n",
      "<_sre.SRE_Match object; span=(170, 171), match='2'>\n",
      "<_sre.SRE_Match object; span=(171, 172), match='5'>\n",
      "<_sre.SRE_Match object; span=(172, 173), match='4'>\n",
      "<_sre.SRE_Match object; span=(173, 174), match='-'>\n",
      "<_sre.SRE_Match object; span=(174, 175), match='7'>\n",
      "<_sre.SRE_Match object; span=(175, 176), match='8'>\n",
      "<_sre.SRE_Match object; span=(176, 177), match='5'>\n",
      "<_sre.SRE_Match object; span=(177, 178), match='4'>\n",
      "<_sre.SRE_Match object; span=(179, 180), match='4'>\n",
      "<_sre.SRE_Match object; span=(180, 181), match='5'>\n",
      "<_sre.SRE_Match object; span=(181, 182), match='8'>\n",
      "<_sre.SRE_Match object; span=(182, 183), match='.'>\n",
      "<_sre.SRE_Match object; span=(183, 184), match='4'>\n",
      "<_sre.SRE_Match object; span=(184, 185), match='7'>\n",
      "<_sre.SRE_Match object; span=(185, 186), match='6'>\n",
      "<_sre.SRE_Match object; span=(186, 187), match='.'>\n",
      "<_sre.SRE_Match object; span=(187, 188), match='3'>\n",
      "<_sre.SRE_Match object; span=(188, 189), match='6'>\n",
      "<_sre.SRE_Match object; span=(189, 190), match='5'>\n",
      "<_sre.SRE_Match object; span=(190, 191), match='4'>\n",
      "<_sre.SRE_Match object; span=(193, 194), match='M'>\n",
      "<_sre.SRE_Match object; span=(194, 195), match='r'>\n",
      "<_sre.SRE_Match object; span=(195, 196), match='.'>\n",
      "<_sre.SRE_Match object; span=(196, 197), match=' '>\n",
      "<_sre.SRE_Match object; span=(197, 198), match='S'>\n",
      "<_sre.SRE_Match object; span=(198, 199), match='c'>\n",
      "<_sre.SRE_Match object; span=(199, 200), match='h'>\n",
      "<_sre.SRE_Match object; span=(200, 201), match='a'>\n",
      "<_sre.SRE_Match object; span=(201, 202), match='f'>\n",
      "<_sre.SRE_Match object; span=(202, 203), match='e'>\n",
      "<_sre.SRE_Match object; span=(203, 204), match='r'>\n",
      "<_sre.SRE_Match object; span=(205, 206), match='M'>\n",
      "<_sre.SRE_Match object; span=(206, 207), match='r'>\n",
      "<_sre.SRE_Match object; span=(207, 208), match=' '>\n",
      "<_sre.SRE_Match object; span=(208, 209), match='S'>\n",
      "<_sre.SRE_Match object; span=(209, 210), match='m'>\n",
      "<_sre.SRE_Match object; span=(210, 211), match='i'>\n",
      "<_sre.SRE_Match object; span=(211, 212), match='t'>\n",
      "<_sre.SRE_Match object; span=(212, 213), match='h'>\n",
      "<_sre.SRE_Match object; span=(214, 215), match='M'>\n",
      "<_sre.SRE_Match object; span=(215, 216), match='s'>\n",
      "<_sre.SRE_Match object; span=(216, 217), match=' '>\n",
      "<_sre.SRE_Match object; span=(217, 218), match='D'>\n",
      "<_sre.SRE_Match object; span=(218, 219), match='a'>\n",
      "<_sre.SRE_Match object; span=(219, 220), match='v'>\n",
      "<_sre.SRE_Match object; span=(220, 221), match='i'>\n",
      "<_sre.SRE_Match object; span=(221, 222), match='s'>\n",
      "<_sre.SRE_Match object; span=(223, 224), match='M'>\n",
      "<_sre.SRE_Match object; span=(224, 225), match='r'>\n",
      "<_sre.SRE_Match object; span=(225, 226), match='s'>\n",
      "<_sre.SRE_Match object; span=(226, 227), match='.'>\n",
      "<_sre.SRE_Match object; span=(227, 228), match=' '>\n",
      "<_sre.SRE_Match object; span=(228, 229), match='R'>\n",
      "<_sre.SRE_Match object; span=(229, 230), match='o'>\n",
      "<_sre.SRE_Match object; span=(230, 231), match='b'>\n",
      "<_sre.SRE_Match object; span=(231, 232), match='i'>\n",
      "<_sre.SRE_Match object; span=(232, 233), match='n'>\n",
      "<_sre.SRE_Match object; span=(234, 235), match='M'>\n",
      "<_sre.SRE_Match object; span=(235, 236), match='r'>\n",
      "<_sre.SRE_Match object; span=(236, 237), match='.'>\n",
      "<_sre.SRE_Match object; span=(237, 238), match=' '>\n",
      "<_sre.SRE_Match object; span=(238, 239), match='T'>\n"
     ]
    }
   ],
   "source": [
    "# Searching everything - using a dot (Does not return new line)\n",
    "pattern = re.compile(r\".\")\n",
    "matches = pattern.finditer(text_to_search)\n",
    "for match in matches:\n",
    "    print(match)"
   ]
  },
  {
   "cell_type": "code",
   "execution_count": 18,
   "id": "00dc723f-5e59-42a1-9b69-eab5dc512402",
   "metadata": {},
   "outputs": [
    {
     "name": "stdout",
     "output_type": "stream",
     "text": [
      "<_sre.SRE_Match object; span=(113, 114), match='.'>\n",
      "<_sre.SRE_Match object; span=(149, 150), match='.'>\n",
      "<_sre.SRE_Match object; span=(182, 183), match='.'>\n",
      "<_sre.SRE_Match object; span=(186, 187), match='.'>\n",
      "<_sre.SRE_Match object; span=(195, 196), match='.'>\n",
      "<_sre.SRE_Match object; span=(226, 227), match='.'>\n",
      "<_sre.SRE_Match object; span=(236, 237), match='.'>\n"
     ]
    }
   ],
   "source": [
    "# Searching all dot / full stop\n",
    "pattern = re.compile(r\"\\.\")\n",
    "matches = pattern.finditer(text_to_search)\n",
    "for match in matches:\n",
    "    print(match)"
   ]
  },
  {
   "cell_type": "code",
   "execution_count": 82,
   "id": "b5ca6c35-a6b7-4e27-bcee-07dcd01d5ff0",
   "metadata": {},
   "outputs": [],
   "source": [
    "# Searching rajiv.com\n",
    "pattern = re.compile(r\"rajiv\\.com\")\n",
    "matches = pattern.finditer(text_to_search)\n",
    "for match in matches:\n",
    "    print(match)"
   ]
  },
  {
   "cell_type": "code",
   "execution_count": 83,
   "id": "d816d51d-1675-4448-9d18-11a5d7fecfe7",
   "metadata": {},
   "outputs": [],
   "source": [
    "# Searching rajiv.com\n",
    "pattern = re.compile(r\"rajiv\\.com\")\n",
    "matches = pattern.finditer(text_to_search)\n",
    "for match in matches:\n",
    "    print(match)"
   ]
  },
  {
   "cell_type": "code",
   "execution_count": 21,
   "id": "d6122735-52b5-4930-b8b9-8cc6ac08f9bc",
   "metadata": {
    "scrolled": true,
    "tags": []
   },
   "outputs": [
    {
     "name": "stdout",
     "output_type": "stream",
     "text": [
      "<_sre.SRE_Match object; span=(55, 56), match='0'>\n",
      "<_sre.SRE_Match object; span=(56, 57), match='1'>\n",
      "<_sre.SRE_Match object; span=(57, 58), match='2'>\n",
      "<_sre.SRE_Match object; span=(58, 59), match='3'>\n",
      "<_sre.SRE_Match object; span=(59, 60), match='4'>\n",
      "<_sre.SRE_Match object; span=(60, 61), match='5'>\n",
      "<_sre.SRE_Match object; span=(61, 62), match='6'>\n",
      "<_sre.SRE_Match object; span=(62, 63), match='7'>\n",
      "<_sre.SRE_Match object; span=(63, 64), match='8'>\n",
      "<_sre.SRE_Match object; span=(64, 65), match='9'>\n",
      "<_sre.SRE_Match object; span=(161, 162), match='1'>\n",
      "<_sre.SRE_Match object; span=(162, 163), match='2'>\n",
      "<_sre.SRE_Match object; span=(163, 164), match='5'>\n",
      "<_sre.SRE_Match object; span=(166, 167), match='3'>\n",
      "<_sre.SRE_Match object; span=(167, 168), match='2'>\n",
      "<_sre.SRE_Match object; span=(168, 169), match='1'>\n",
      "<_sre.SRE_Match object; span=(170, 171), match='2'>\n",
      "<_sre.SRE_Match object; span=(171, 172), match='5'>\n",
      "<_sre.SRE_Match object; span=(172, 173), match='4'>\n",
      "<_sre.SRE_Match object; span=(174, 175), match='7'>\n",
      "<_sre.SRE_Match object; span=(175, 176), match='8'>\n",
      "<_sre.SRE_Match object; span=(176, 177), match='5'>\n",
      "<_sre.SRE_Match object; span=(177, 178), match='4'>\n",
      "<_sre.SRE_Match object; span=(179, 180), match='4'>\n",
      "<_sre.SRE_Match object; span=(180, 181), match='5'>\n",
      "<_sre.SRE_Match object; span=(181, 182), match='8'>\n",
      "<_sre.SRE_Match object; span=(183, 184), match='4'>\n",
      "<_sre.SRE_Match object; span=(184, 185), match='7'>\n",
      "<_sre.SRE_Match object; span=(185, 186), match='6'>\n",
      "<_sre.SRE_Match object; span=(187, 188), match='3'>\n",
      "<_sre.SRE_Match object; span=(188, 189), match='6'>\n",
      "<_sre.SRE_Match object; span=(189, 190), match='5'>\n",
      "<_sre.SRE_Match object; span=(190, 191), match='4'>\n"
     ]
    }
   ],
   "source": [
    "# Searching: ALl digits\n",
    "pattern = re.compile(r\"\\d\")\n",
    "matches = pattern.finditer(text_to_search)\n",
    "for match in matches:\n",
    "    print(match)"
   ]
  },
  {
   "cell_type": "code",
   "execution_count": 22,
   "id": "a21156ce-744c-4948-a2ae-29522e7d8f2c",
   "metadata": {
    "scrolled": true,
    "tags": []
   },
   "outputs": [
    {
     "name": "stdout",
     "output_type": "stream",
     "text": [
      "<_sre.SRE_Match object; span=(0, 1), match='\\n'>\n",
      "<_sre.SRE_Match object; span=(1, 2), match='a'>\n",
      "<_sre.SRE_Match object; span=(2, 3), match='b'>\n",
      "<_sre.SRE_Match object; span=(3, 4), match='c'>\n",
      "<_sre.SRE_Match object; span=(4, 5), match='d'>\n",
      "<_sre.SRE_Match object; span=(5, 6), match='e'>\n",
      "<_sre.SRE_Match object; span=(6, 7), match='f'>\n",
      "<_sre.SRE_Match object; span=(7, 8), match='g'>\n",
      "<_sre.SRE_Match object; span=(8, 9), match='h'>\n",
      "<_sre.SRE_Match object; span=(9, 10), match='i'>\n",
      "<_sre.SRE_Match object; span=(10, 11), match='j'>\n",
      "<_sre.SRE_Match object; span=(11, 12), match='k'>\n",
      "<_sre.SRE_Match object; span=(12, 13), match='l'>\n",
      "<_sre.SRE_Match object; span=(13, 14), match='m'>\n",
      "<_sre.SRE_Match object; span=(14, 15), match='n'>\n",
      "<_sre.SRE_Match object; span=(15, 16), match='o'>\n",
      "<_sre.SRE_Match object; span=(16, 17), match='p'>\n",
      "<_sre.SRE_Match object; span=(17, 18), match='q'>\n",
      "<_sre.SRE_Match object; span=(18, 19), match='u'>\n",
      "<_sre.SRE_Match object; span=(19, 20), match='s'>\n",
      "<_sre.SRE_Match object; span=(20, 21), match='t'>\n",
      "<_sre.SRE_Match object; span=(21, 22), match='u'>\n",
      "<_sre.SRE_Match object; span=(22, 23), match='v'>\n",
      "<_sre.SRE_Match object; span=(23, 24), match='w'>\n",
      "<_sre.SRE_Match object; span=(24, 25), match='x'>\n",
      "<_sre.SRE_Match object; span=(25, 26), match='y'>\n",
      "<_sre.SRE_Match object; span=(26, 27), match='z'>\n",
      "<_sre.SRE_Match object; span=(27, 28), match='\\n'>\n",
      "<_sre.SRE_Match object; span=(28, 29), match='A'>\n",
      "<_sre.SRE_Match object; span=(29, 30), match='B'>\n",
      "<_sre.SRE_Match object; span=(30, 31), match='C'>\n",
      "<_sre.SRE_Match object; span=(31, 32), match='D'>\n",
      "<_sre.SRE_Match object; span=(32, 33), match='E'>\n",
      "<_sre.SRE_Match object; span=(33, 34), match='F'>\n",
      "<_sre.SRE_Match object; span=(34, 35), match='G'>\n",
      "<_sre.SRE_Match object; span=(35, 36), match='H'>\n",
      "<_sre.SRE_Match object; span=(36, 37), match='I'>\n",
      "<_sre.SRE_Match object; span=(37, 38), match='J'>\n",
      "<_sre.SRE_Match object; span=(38, 39), match='K'>\n",
      "<_sre.SRE_Match object; span=(39, 40), match='L'>\n",
      "<_sre.SRE_Match object; span=(40, 41), match='M'>\n",
      "<_sre.SRE_Match object; span=(41, 42), match='N'>\n",
      "<_sre.SRE_Match object; span=(42, 43), match='O'>\n",
      "<_sre.SRE_Match object; span=(43, 44), match='P'>\n",
      "<_sre.SRE_Match object; span=(44, 45), match='Q'>\n",
      "<_sre.SRE_Match object; span=(45, 46), match='R'>\n",
      "<_sre.SRE_Match object; span=(46, 47), match='S'>\n",
      "<_sre.SRE_Match object; span=(47, 48), match='T'>\n",
      "<_sre.SRE_Match object; span=(48, 49), match='U'>\n",
      "<_sre.SRE_Match object; span=(49, 50), match='V'>\n",
      "<_sre.SRE_Match object; span=(50, 51), match='W'>\n",
      "<_sre.SRE_Match object; span=(51, 52), match='X'>\n",
      "<_sre.SRE_Match object; span=(52, 53), match='Y'>\n",
      "<_sre.SRE_Match object; span=(53, 54), match='Z'>\n",
      "<_sre.SRE_Match object; span=(54, 55), match='\\n'>\n",
      "<_sre.SRE_Match object; span=(65, 66), match='\\n'>\n",
      "<_sre.SRE_Match object; span=(66, 67), match='\\n'>\n",
      "<_sre.SRE_Match object; span=(67, 68), match='H'>\n",
      "<_sre.SRE_Match object; span=(68, 69), match='a'>\n",
      "<_sre.SRE_Match object; span=(69, 70), match=' '>\n",
      "<_sre.SRE_Match object; span=(70, 71), match='H'>\n",
      "<_sre.SRE_Match object; span=(71, 72), match='a'>\n",
      "<_sre.SRE_Match object; span=(72, 73), match='H'>\n",
      "<_sre.SRE_Match object; span=(73, 74), match='a'>\n",
      "<_sre.SRE_Match object; span=(74, 75), match='\\n'>\n",
      "<_sre.SRE_Match object; span=(75, 76), match='\\n'>\n",
      "<_sre.SRE_Match object; span=(76, 77), match='M'>\n",
      "<_sre.SRE_Match object; span=(77, 78), match='e'>\n",
      "<_sre.SRE_Match object; span=(78, 79), match='t'>\n",
      "<_sre.SRE_Match object; span=(79, 80), match='a'>\n",
      "<_sre.SRE_Match object; span=(80, 81), match='C'>\n",
      "<_sre.SRE_Match object; span=(81, 82), match='h'>\n",
      "<_sre.SRE_Match object; span=(82, 83), match='a'>\n",
      "<_sre.SRE_Match object; span=(83, 84), match='r'>\n",
      "<_sre.SRE_Match object; span=(84, 85), match='a'>\n",
      "<_sre.SRE_Match object; span=(85, 86), match='c'>\n",
      "<_sre.SRE_Match object; span=(86, 87), match='t'>\n",
      "<_sre.SRE_Match object; span=(87, 88), match='e'>\n",
      "<_sre.SRE_Match object; span=(88, 89), match='r'>\n",
      "<_sre.SRE_Match object; span=(89, 90), match='s'>\n",
      "<_sre.SRE_Match object; span=(90, 91), match=' '>\n",
      "<_sre.SRE_Match object; span=(91, 92), match='('>\n",
      "<_sre.SRE_Match object; span=(92, 93), match='N'>\n",
      "<_sre.SRE_Match object; span=(93, 94), match='e'>\n",
      "<_sre.SRE_Match object; span=(94, 95), match='e'>\n",
      "<_sre.SRE_Match object; span=(95, 96), match='d'>\n",
      "<_sre.SRE_Match object; span=(96, 97), match=' '>\n",
      "<_sre.SRE_Match object; span=(97, 98), match='t'>\n",
      "<_sre.SRE_Match object; span=(98, 99), match='o'>\n",
      "<_sre.SRE_Match object; span=(99, 100), match=' '>\n",
      "<_sre.SRE_Match object; span=(100, 101), match='b'>\n",
      "<_sre.SRE_Match object; span=(101, 102), match='e'>\n",
      "<_sre.SRE_Match object; span=(102, 103), match=' '>\n",
      "<_sre.SRE_Match object; span=(103, 104), match='e'>\n",
      "<_sre.SRE_Match object; span=(104, 105), match='s'>\n",
      "<_sre.SRE_Match object; span=(105, 106), match='c'>\n",
      "<_sre.SRE_Match object; span=(106, 107), match='a'>\n",
      "<_sre.SRE_Match object; span=(107, 108), match='p'>\n",
      "<_sre.SRE_Match object; span=(108, 109), match='e'>\n",
      "<_sre.SRE_Match object; span=(109, 110), match='d'>\n",
      "<_sre.SRE_Match object; span=(110, 111), match=')'>\n",
      "<_sre.SRE_Match object; span=(111, 112), match=':'>\n",
      "<_sre.SRE_Match object; span=(112, 113), match='\\n'>\n",
      "<_sre.SRE_Match object; span=(113, 114), match='.'>\n",
      "<_sre.SRE_Match object; span=(114, 115), match=' '>\n",
      "<_sre.SRE_Match object; span=(115, 116), match='^'>\n",
      "<_sre.SRE_Match object; span=(116, 117), match=' '>\n",
      "<_sre.SRE_Match object; span=(117, 118), match='$'>\n",
      "<_sre.SRE_Match object; span=(118, 119), match=' '>\n",
      "<_sre.SRE_Match object; span=(119, 120), match='*'>\n",
      "<_sre.SRE_Match object; span=(120, 121), match=' '>\n",
      "<_sre.SRE_Match object; span=(121, 122), match='+'>\n",
      "<_sre.SRE_Match object; span=(122, 123), match=' '>\n",
      "<_sre.SRE_Match object; span=(123, 124), match='?'>\n",
      "<_sre.SRE_Match object; span=(124, 125), match=' '>\n",
      "<_sre.SRE_Match object; span=(125, 126), match='{'>\n",
      "<_sre.SRE_Match object; span=(126, 127), match=' '>\n",
      "<_sre.SRE_Match object; span=(127, 128), match='}'>\n",
      "<_sre.SRE_Match object; span=(128, 129), match=' '>\n",
      "<_sre.SRE_Match object; span=(129, 130), match='['>\n",
      "<_sre.SRE_Match object; span=(130, 131), match=' '>\n",
      "<_sre.SRE_Match object; span=(131, 132), match=']'>\n",
      "<_sre.SRE_Match object; span=(132, 133), match=' '>\n",
      "<_sre.SRE_Match object; span=(133, 134), match='\\\\'>\n",
      "<_sre.SRE_Match object; span=(134, 135), match=' '>\n",
      "<_sre.SRE_Match object; span=(135, 136), match='|'>\n",
      "<_sre.SRE_Match object; span=(136, 137), match=' '>\n",
      "<_sre.SRE_Match object; span=(137, 138), match='('>\n",
      "<_sre.SRE_Match object; span=(138, 139), match=' '>\n",
      "<_sre.SRE_Match object; span=(139, 140), match=')'>\n",
      "<_sre.SRE_Match object; span=(140, 141), match='\\n'>\n",
      "<_sre.SRE_Match object; span=(141, 142), match='\\n'>\n",
      "<_sre.SRE_Match object; span=(142, 143), match='c'>\n",
      "<_sre.SRE_Match object; span=(143, 144), match='o'>\n",
      "<_sre.SRE_Match object; span=(144, 145), match='r'>\n",
      "<_sre.SRE_Match object; span=(145, 146), match='e'>\n",
      "<_sre.SRE_Match object; span=(146, 147), match='y'>\n",
      "<_sre.SRE_Match object; span=(147, 148), match='m'>\n",
      "<_sre.SRE_Match object; span=(148, 149), match='s'>\n",
      "<_sre.SRE_Match object; span=(149, 150), match='.'>\n",
      "<_sre.SRE_Match object; span=(150, 151), match='c'>\n",
      "<_sre.SRE_Match object; span=(151, 152), match='o'>\n",
      "<_sre.SRE_Match object; span=(152, 153), match='m'>\n",
      "<_sre.SRE_Match object; span=(153, 154), match='\\n'>\n",
      "<_sre.SRE_Match object; span=(154, 155), match='\\n'>\n",
      "<_sre.SRE_Match object; span=(155, 156), match='r'>\n",
      "<_sre.SRE_Match object; span=(156, 157), match='a'>\n",
      "<_sre.SRE_Match object; span=(157, 158), match='j'>\n",
      "<_sre.SRE_Match object; span=(158, 159), match='i'>\n",
      "<_sre.SRE_Match object; span=(159, 160), match='v'>\n",
      "<_sre.SRE_Match object; span=(160, 161), match='_'>\n",
      "<_sre.SRE_Match object; span=(164, 165), match='\\n'>\n",
      "<_sre.SRE_Match object; span=(165, 166), match='\\n'>\n",
      "<_sre.SRE_Match object; span=(169, 170), match='-'>\n",
      "<_sre.SRE_Match object; span=(173, 174), match='-'>\n",
      "<_sre.SRE_Match object; span=(178, 179), match='\\n'>\n",
      "<_sre.SRE_Match object; span=(182, 183), match='.'>\n",
      "<_sre.SRE_Match object; span=(186, 187), match='.'>\n",
      "<_sre.SRE_Match object; span=(191, 192), match='\\n'>\n",
      "<_sre.SRE_Match object; span=(192, 193), match='\\n'>\n",
      "<_sre.SRE_Match object; span=(193, 194), match='M'>\n",
      "<_sre.SRE_Match object; span=(194, 195), match='r'>\n",
      "<_sre.SRE_Match object; span=(195, 196), match='.'>\n",
      "<_sre.SRE_Match object; span=(196, 197), match=' '>\n",
      "<_sre.SRE_Match object; span=(197, 198), match='S'>\n",
      "<_sre.SRE_Match object; span=(198, 199), match='c'>\n",
      "<_sre.SRE_Match object; span=(199, 200), match='h'>\n",
      "<_sre.SRE_Match object; span=(200, 201), match='a'>\n",
      "<_sre.SRE_Match object; span=(201, 202), match='f'>\n",
      "<_sre.SRE_Match object; span=(202, 203), match='e'>\n",
      "<_sre.SRE_Match object; span=(203, 204), match='r'>\n",
      "<_sre.SRE_Match object; span=(204, 205), match='\\n'>\n",
      "<_sre.SRE_Match object; span=(205, 206), match='M'>\n",
      "<_sre.SRE_Match object; span=(206, 207), match='r'>\n",
      "<_sre.SRE_Match object; span=(207, 208), match=' '>\n",
      "<_sre.SRE_Match object; span=(208, 209), match='S'>\n",
      "<_sre.SRE_Match object; span=(209, 210), match='m'>\n",
      "<_sre.SRE_Match object; span=(210, 211), match='i'>\n",
      "<_sre.SRE_Match object; span=(211, 212), match='t'>\n",
      "<_sre.SRE_Match object; span=(212, 213), match='h'>\n",
      "<_sre.SRE_Match object; span=(213, 214), match='\\n'>\n",
      "<_sre.SRE_Match object; span=(214, 215), match='M'>\n",
      "<_sre.SRE_Match object; span=(215, 216), match='s'>\n",
      "<_sre.SRE_Match object; span=(216, 217), match=' '>\n",
      "<_sre.SRE_Match object; span=(217, 218), match='D'>\n",
      "<_sre.SRE_Match object; span=(218, 219), match='a'>\n",
      "<_sre.SRE_Match object; span=(219, 220), match='v'>\n",
      "<_sre.SRE_Match object; span=(220, 221), match='i'>\n",
      "<_sre.SRE_Match object; span=(221, 222), match='s'>\n",
      "<_sre.SRE_Match object; span=(222, 223), match='\\n'>\n",
      "<_sre.SRE_Match object; span=(223, 224), match='M'>\n",
      "<_sre.SRE_Match object; span=(224, 225), match='r'>\n",
      "<_sre.SRE_Match object; span=(225, 226), match='s'>\n",
      "<_sre.SRE_Match object; span=(226, 227), match='.'>\n",
      "<_sre.SRE_Match object; span=(227, 228), match=' '>\n",
      "<_sre.SRE_Match object; span=(228, 229), match='R'>\n",
      "<_sre.SRE_Match object; span=(229, 230), match='o'>\n",
      "<_sre.SRE_Match object; span=(230, 231), match='b'>\n",
      "<_sre.SRE_Match object; span=(231, 232), match='i'>\n",
      "<_sre.SRE_Match object; span=(232, 233), match='n'>\n",
      "<_sre.SRE_Match object; span=(233, 234), match='\\n'>\n",
      "<_sre.SRE_Match object; span=(234, 235), match='M'>\n",
      "<_sre.SRE_Match object; span=(235, 236), match='r'>\n",
      "<_sre.SRE_Match object; span=(236, 237), match='.'>\n",
      "<_sre.SRE_Match object; span=(237, 238), match=' '>\n",
      "<_sre.SRE_Match object; span=(238, 239), match='T'>\n",
      "<_sre.SRE_Match object; span=(239, 240), match='\\n'>\n"
     ]
    }
   ],
   "source": [
    "# Searching: ALl but not digits\n",
    "pattern = re.compile(r\"\\D\")\n",
    "matches = pattern.finditer(text_to_search)\n",
    "for match in matches:\n",
    "    print(match)"
   ]
  },
  {
   "cell_type": "code",
   "execution_count": 23,
   "id": "fa84dee4-6350-4b55-af2c-3878c6e2d93a",
   "metadata": {
    "scrolled": true,
    "tags": []
   },
   "outputs": [
    {
     "name": "stdout",
     "output_type": "stream",
     "text": [
      "<_sre.SRE_Match object; span=(1, 2), match='a'>\n",
      "<_sre.SRE_Match object; span=(2, 3), match='b'>\n",
      "<_sre.SRE_Match object; span=(3, 4), match='c'>\n",
      "<_sre.SRE_Match object; span=(4, 5), match='d'>\n",
      "<_sre.SRE_Match object; span=(5, 6), match='e'>\n",
      "<_sre.SRE_Match object; span=(6, 7), match='f'>\n",
      "<_sre.SRE_Match object; span=(7, 8), match='g'>\n",
      "<_sre.SRE_Match object; span=(8, 9), match='h'>\n",
      "<_sre.SRE_Match object; span=(9, 10), match='i'>\n",
      "<_sre.SRE_Match object; span=(10, 11), match='j'>\n",
      "<_sre.SRE_Match object; span=(11, 12), match='k'>\n",
      "<_sre.SRE_Match object; span=(12, 13), match='l'>\n",
      "<_sre.SRE_Match object; span=(13, 14), match='m'>\n",
      "<_sre.SRE_Match object; span=(14, 15), match='n'>\n",
      "<_sre.SRE_Match object; span=(15, 16), match='o'>\n",
      "<_sre.SRE_Match object; span=(16, 17), match='p'>\n",
      "<_sre.SRE_Match object; span=(17, 18), match='q'>\n",
      "<_sre.SRE_Match object; span=(18, 19), match='u'>\n",
      "<_sre.SRE_Match object; span=(19, 20), match='s'>\n",
      "<_sre.SRE_Match object; span=(20, 21), match='t'>\n",
      "<_sre.SRE_Match object; span=(21, 22), match='u'>\n",
      "<_sre.SRE_Match object; span=(22, 23), match='v'>\n",
      "<_sre.SRE_Match object; span=(23, 24), match='w'>\n",
      "<_sre.SRE_Match object; span=(24, 25), match='x'>\n",
      "<_sre.SRE_Match object; span=(25, 26), match='y'>\n",
      "<_sre.SRE_Match object; span=(26, 27), match='z'>\n",
      "<_sre.SRE_Match object; span=(28, 29), match='A'>\n",
      "<_sre.SRE_Match object; span=(29, 30), match='B'>\n",
      "<_sre.SRE_Match object; span=(30, 31), match='C'>\n",
      "<_sre.SRE_Match object; span=(31, 32), match='D'>\n",
      "<_sre.SRE_Match object; span=(32, 33), match='E'>\n",
      "<_sre.SRE_Match object; span=(33, 34), match='F'>\n",
      "<_sre.SRE_Match object; span=(34, 35), match='G'>\n",
      "<_sre.SRE_Match object; span=(35, 36), match='H'>\n",
      "<_sre.SRE_Match object; span=(36, 37), match='I'>\n",
      "<_sre.SRE_Match object; span=(37, 38), match='J'>\n",
      "<_sre.SRE_Match object; span=(38, 39), match='K'>\n",
      "<_sre.SRE_Match object; span=(39, 40), match='L'>\n",
      "<_sre.SRE_Match object; span=(40, 41), match='M'>\n",
      "<_sre.SRE_Match object; span=(41, 42), match='N'>\n",
      "<_sre.SRE_Match object; span=(42, 43), match='O'>\n",
      "<_sre.SRE_Match object; span=(43, 44), match='P'>\n",
      "<_sre.SRE_Match object; span=(44, 45), match='Q'>\n",
      "<_sre.SRE_Match object; span=(45, 46), match='R'>\n",
      "<_sre.SRE_Match object; span=(46, 47), match='S'>\n",
      "<_sre.SRE_Match object; span=(47, 48), match='T'>\n",
      "<_sre.SRE_Match object; span=(48, 49), match='U'>\n",
      "<_sre.SRE_Match object; span=(49, 50), match='V'>\n",
      "<_sre.SRE_Match object; span=(50, 51), match='W'>\n",
      "<_sre.SRE_Match object; span=(51, 52), match='X'>\n",
      "<_sre.SRE_Match object; span=(52, 53), match='Y'>\n",
      "<_sre.SRE_Match object; span=(53, 54), match='Z'>\n",
      "<_sre.SRE_Match object; span=(55, 56), match='0'>\n",
      "<_sre.SRE_Match object; span=(56, 57), match='1'>\n",
      "<_sre.SRE_Match object; span=(57, 58), match='2'>\n",
      "<_sre.SRE_Match object; span=(58, 59), match='3'>\n",
      "<_sre.SRE_Match object; span=(59, 60), match='4'>\n",
      "<_sre.SRE_Match object; span=(60, 61), match='5'>\n",
      "<_sre.SRE_Match object; span=(61, 62), match='6'>\n",
      "<_sre.SRE_Match object; span=(62, 63), match='7'>\n",
      "<_sre.SRE_Match object; span=(63, 64), match='8'>\n",
      "<_sre.SRE_Match object; span=(64, 65), match='9'>\n",
      "<_sre.SRE_Match object; span=(67, 68), match='H'>\n",
      "<_sre.SRE_Match object; span=(68, 69), match='a'>\n",
      "<_sre.SRE_Match object; span=(70, 71), match='H'>\n",
      "<_sre.SRE_Match object; span=(71, 72), match='a'>\n",
      "<_sre.SRE_Match object; span=(72, 73), match='H'>\n",
      "<_sre.SRE_Match object; span=(73, 74), match='a'>\n",
      "<_sre.SRE_Match object; span=(76, 77), match='M'>\n",
      "<_sre.SRE_Match object; span=(77, 78), match='e'>\n",
      "<_sre.SRE_Match object; span=(78, 79), match='t'>\n",
      "<_sre.SRE_Match object; span=(79, 80), match='a'>\n",
      "<_sre.SRE_Match object; span=(80, 81), match='C'>\n",
      "<_sre.SRE_Match object; span=(81, 82), match='h'>\n",
      "<_sre.SRE_Match object; span=(82, 83), match='a'>\n",
      "<_sre.SRE_Match object; span=(83, 84), match='r'>\n",
      "<_sre.SRE_Match object; span=(84, 85), match='a'>\n",
      "<_sre.SRE_Match object; span=(85, 86), match='c'>\n",
      "<_sre.SRE_Match object; span=(86, 87), match='t'>\n",
      "<_sre.SRE_Match object; span=(87, 88), match='e'>\n",
      "<_sre.SRE_Match object; span=(88, 89), match='r'>\n",
      "<_sre.SRE_Match object; span=(89, 90), match='s'>\n",
      "<_sre.SRE_Match object; span=(92, 93), match='N'>\n",
      "<_sre.SRE_Match object; span=(93, 94), match='e'>\n",
      "<_sre.SRE_Match object; span=(94, 95), match='e'>\n",
      "<_sre.SRE_Match object; span=(95, 96), match='d'>\n",
      "<_sre.SRE_Match object; span=(97, 98), match='t'>\n",
      "<_sre.SRE_Match object; span=(98, 99), match='o'>\n",
      "<_sre.SRE_Match object; span=(100, 101), match='b'>\n",
      "<_sre.SRE_Match object; span=(101, 102), match='e'>\n",
      "<_sre.SRE_Match object; span=(103, 104), match='e'>\n",
      "<_sre.SRE_Match object; span=(104, 105), match='s'>\n",
      "<_sre.SRE_Match object; span=(105, 106), match='c'>\n",
      "<_sre.SRE_Match object; span=(106, 107), match='a'>\n",
      "<_sre.SRE_Match object; span=(107, 108), match='p'>\n",
      "<_sre.SRE_Match object; span=(108, 109), match='e'>\n",
      "<_sre.SRE_Match object; span=(109, 110), match='d'>\n",
      "<_sre.SRE_Match object; span=(142, 143), match='c'>\n",
      "<_sre.SRE_Match object; span=(143, 144), match='o'>\n",
      "<_sre.SRE_Match object; span=(144, 145), match='r'>\n",
      "<_sre.SRE_Match object; span=(145, 146), match='e'>\n",
      "<_sre.SRE_Match object; span=(146, 147), match='y'>\n",
      "<_sre.SRE_Match object; span=(147, 148), match='m'>\n",
      "<_sre.SRE_Match object; span=(148, 149), match='s'>\n",
      "<_sre.SRE_Match object; span=(150, 151), match='c'>\n",
      "<_sre.SRE_Match object; span=(151, 152), match='o'>\n",
      "<_sre.SRE_Match object; span=(152, 153), match='m'>\n",
      "<_sre.SRE_Match object; span=(155, 156), match='r'>\n",
      "<_sre.SRE_Match object; span=(156, 157), match='a'>\n",
      "<_sre.SRE_Match object; span=(157, 158), match='j'>\n",
      "<_sre.SRE_Match object; span=(158, 159), match='i'>\n",
      "<_sre.SRE_Match object; span=(159, 160), match='v'>\n",
      "<_sre.SRE_Match object; span=(160, 161), match='_'>\n",
      "<_sre.SRE_Match object; span=(161, 162), match='1'>\n",
      "<_sre.SRE_Match object; span=(162, 163), match='2'>\n",
      "<_sre.SRE_Match object; span=(163, 164), match='5'>\n",
      "<_sre.SRE_Match object; span=(166, 167), match='3'>\n",
      "<_sre.SRE_Match object; span=(167, 168), match='2'>\n",
      "<_sre.SRE_Match object; span=(168, 169), match='1'>\n",
      "<_sre.SRE_Match object; span=(170, 171), match='2'>\n",
      "<_sre.SRE_Match object; span=(171, 172), match='5'>\n",
      "<_sre.SRE_Match object; span=(172, 173), match='4'>\n",
      "<_sre.SRE_Match object; span=(174, 175), match='7'>\n",
      "<_sre.SRE_Match object; span=(175, 176), match='8'>\n",
      "<_sre.SRE_Match object; span=(176, 177), match='5'>\n",
      "<_sre.SRE_Match object; span=(177, 178), match='4'>\n",
      "<_sre.SRE_Match object; span=(179, 180), match='4'>\n",
      "<_sre.SRE_Match object; span=(180, 181), match='5'>\n",
      "<_sre.SRE_Match object; span=(181, 182), match='8'>\n",
      "<_sre.SRE_Match object; span=(183, 184), match='4'>\n",
      "<_sre.SRE_Match object; span=(184, 185), match='7'>\n",
      "<_sre.SRE_Match object; span=(185, 186), match='6'>\n",
      "<_sre.SRE_Match object; span=(187, 188), match='3'>\n",
      "<_sre.SRE_Match object; span=(188, 189), match='6'>\n",
      "<_sre.SRE_Match object; span=(189, 190), match='5'>\n",
      "<_sre.SRE_Match object; span=(190, 191), match='4'>\n",
      "<_sre.SRE_Match object; span=(193, 194), match='M'>\n",
      "<_sre.SRE_Match object; span=(194, 195), match='r'>\n",
      "<_sre.SRE_Match object; span=(197, 198), match='S'>\n",
      "<_sre.SRE_Match object; span=(198, 199), match='c'>\n",
      "<_sre.SRE_Match object; span=(199, 200), match='h'>\n",
      "<_sre.SRE_Match object; span=(200, 201), match='a'>\n",
      "<_sre.SRE_Match object; span=(201, 202), match='f'>\n",
      "<_sre.SRE_Match object; span=(202, 203), match='e'>\n",
      "<_sre.SRE_Match object; span=(203, 204), match='r'>\n",
      "<_sre.SRE_Match object; span=(205, 206), match='M'>\n",
      "<_sre.SRE_Match object; span=(206, 207), match='r'>\n",
      "<_sre.SRE_Match object; span=(208, 209), match='S'>\n",
      "<_sre.SRE_Match object; span=(209, 210), match='m'>\n",
      "<_sre.SRE_Match object; span=(210, 211), match='i'>\n",
      "<_sre.SRE_Match object; span=(211, 212), match='t'>\n",
      "<_sre.SRE_Match object; span=(212, 213), match='h'>\n",
      "<_sre.SRE_Match object; span=(214, 215), match='M'>\n",
      "<_sre.SRE_Match object; span=(215, 216), match='s'>\n",
      "<_sre.SRE_Match object; span=(217, 218), match='D'>\n",
      "<_sre.SRE_Match object; span=(218, 219), match='a'>\n",
      "<_sre.SRE_Match object; span=(219, 220), match='v'>\n",
      "<_sre.SRE_Match object; span=(220, 221), match='i'>\n",
      "<_sre.SRE_Match object; span=(221, 222), match='s'>\n",
      "<_sre.SRE_Match object; span=(223, 224), match='M'>\n",
      "<_sre.SRE_Match object; span=(224, 225), match='r'>\n",
      "<_sre.SRE_Match object; span=(225, 226), match='s'>\n",
      "<_sre.SRE_Match object; span=(228, 229), match='R'>\n",
      "<_sre.SRE_Match object; span=(229, 230), match='o'>\n",
      "<_sre.SRE_Match object; span=(230, 231), match='b'>\n",
      "<_sre.SRE_Match object; span=(231, 232), match='i'>\n",
      "<_sre.SRE_Match object; span=(232, 233), match='n'>\n",
      "<_sre.SRE_Match object; span=(234, 235), match='M'>\n",
      "<_sre.SRE_Match object; span=(235, 236), match='r'>\n",
      "<_sre.SRE_Match object; span=(238, 239), match='T'>\n"
     ]
    }
   ],
   "source": [
    "# Searching: All lower case, upper case, digits\n",
    "pattern = re.compile(r\"\\w\")\n",
    "matches = pattern.finditer(text_to_search)\n",
    "for match in matches:\n",
    "    print(match)"
   ]
  },
  {
   "cell_type": "code",
   "execution_count": 24,
   "id": "16745fac-cf5e-4b86-a000-a06e1eca0cdc",
   "metadata": {
    "scrolled": true,
    "tags": []
   },
   "outputs": [
    {
     "name": "stdout",
     "output_type": "stream",
     "text": [
      "<_sre.SRE_Match object; span=(0, 1), match='\\n'>\n",
      "<_sre.SRE_Match object; span=(27, 28), match='\\n'>\n",
      "<_sre.SRE_Match object; span=(54, 55), match='\\n'>\n",
      "<_sre.SRE_Match object; span=(65, 66), match='\\n'>\n",
      "<_sre.SRE_Match object; span=(66, 67), match='\\n'>\n",
      "<_sre.SRE_Match object; span=(69, 70), match=' '>\n",
      "<_sre.SRE_Match object; span=(74, 75), match='\\n'>\n",
      "<_sre.SRE_Match object; span=(75, 76), match='\\n'>\n",
      "<_sre.SRE_Match object; span=(90, 91), match=' '>\n",
      "<_sre.SRE_Match object; span=(91, 92), match='('>\n",
      "<_sre.SRE_Match object; span=(96, 97), match=' '>\n",
      "<_sre.SRE_Match object; span=(99, 100), match=' '>\n",
      "<_sre.SRE_Match object; span=(102, 103), match=' '>\n",
      "<_sre.SRE_Match object; span=(110, 111), match=')'>\n",
      "<_sre.SRE_Match object; span=(111, 112), match=':'>\n",
      "<_sre.SRE_Match object; span=(112, 113), match='\\n'>\n",
      "<_sre.SRE_Match object; span=(113, 114), match='.'>\n",
      "<_sre.SRE_Match object; span=(114, 115), match=' '>\n",
      "<_sre.SRE_Match object; span=(115, 116), match='^'>\n",
      "<_sre.SRE_Match object; span=(116, 117), match=' '>\n",
      "<_sre.SRE_Match object; span=(117, 118), match='$'>\n",
      "<_sre.SRE_Match object; span=(118, 119), match=' '>\n",
      "<_sre.SRE_Match object; span=(119, 120), match='*'>\n",
      "<_sre.SRE_Match object; span=(120, 121), match=' '>\n",
      "<_sre.SRE_Match object; span=(121, 122), match='+'>\n",
      "<_sre.SRE_Match object; span=(122, 123), match=' '>\n",
      "<_sre.SRE_Match object; span=(123, 124), match='?'>\n",
      "<_sre.SRE_Match object; span=(124, 125), match=' '>\n",
      "<_sre.SRE_Match object; span=(125, 126), match='{'>\n",
      "<_sre.SRE_Match object; span=(126, 127), match=' '>\n",
      "<_sre.SRE_Match object; span=(127, 128), match='}'>\n",
      "<_sre.SRE_Match object; span=(128, 129), match=' '>\n",
      "<_sre.SRE_Match object; span=(129, 130), match='['>\n",
      "<_sre.SRE_Match object; span=(130, 131), match=' '>\n",
      "<_sre.SRE_Match object; span=(131, 132), match=']'>\n",
      "<_sre.SRE_Match object; span=(132, 133), match=' '>\n",
      "<_sre.SRE_Match object; span=(133, 134), match='\\\\'>\n",
      "<_sre.SRE_Match object; span=(134, 135), match=' '>\n",
      "<_sre.SRE_Match object; span=(135, 136), match='|'>\n",
      "<_sre.SRE_Match object; span=(136, 137), match=' '>\n",
      "<_sre.SRE_Match object; span=(137, 138), match='('>\n",
      "<_sre.SRE_Match object; span=(138, 139), match=' '>\n",
      "<_sre.SRE_Match object; span=(139, 140), match=')'>\n",
      "<_sre.SRE_Match object; span=(140, 141), match='\\n'>\n",
      "<_sre.SRE_Match object; span=(141, 142), match='\\n'>\n",
      "<_sre.SRE_Match object; span=(149, 150), match='.'>\n",
      "<_sre.SRE_Match object; span=(153, 154), match='\\n'>\n",
      "<_sre.SRE_Match object; span=(154, 155), match='\\n'>\n",
      "<_sre.SRE_Match object; span=(164, 165), match='\\n'>\n",
      "<_sre.SRE_Match object; span=(165, 166), match='\\n'>\n",
      "<_sre.SRE_Match object; span=(169, 170), match='-'>\n",
      "<_sre.SRE_Match object; span=(173, 174), match='-'>\n",
      "<_sre.SRE_Match object; span=(178, 179), match='\\n'>\n",
      "<_sre.SRE_Match object; span=(182, 183), match='.'>\n",
      "<_sre.SRE_Match object; span=(186, 187), match='.'>\n",
      "<_sre.SRE_Match object; span=(191, 192), match='\\n'>\n",
      "<_sre.SRE_Match object; span=(192, 193), match='\\n'>\n",
      "<_sre.SRE_Match object; span=(195, 196), match='.'>\n",
      "<_sre.SRE_Match object; span=(196, 197), match=' '>\n",
      "<_sre.SRE_Match object; span=(204, 205), match='\\n'>\n",
      "<_sre.SRE_Match object; span=(207, 208), match=' '>\n",
      "<_sre.SRE_Match object; span=(213, 214), match='\\n'>\n",
      "<_sre.SRE_Match object; span=(216, 217), match=' '>\n",
      "<_sre.SRE_Match object; span=(222, 223), match='\\n'>\n",
      "<_sre.SRE_Match object; span=(226, 227), match='.'>\n",
      "<_sre.SRE_Match object; span=(227, 228), match=' '>\n",
      "<_sre.SRE_Match object; span=(233, 234), match='\\n'>\n",
      "<_sre.SRE_Match object; span=(236, 237), match='.'>\n",
      "<_sre.SRE_Match object; span=(237, 238), match=' '>\n",
      "<_sre.SRE_Match object; span=(239, 240), match='\\n'>\n"
     ]
    }
   ],
   "source": [
    "# Searching: All which are not: lower case, upper case, digits\n",
    "pattern = re.compile(r\"\\W\")\n",
    "matches = pattern.finditer(text_to_search)\n",
    "for match in matches:\n",
    "    print(match)"
   ]
  },
  {
   "cell_type": "code",
   "execution_count": 25,
   "id": "d35529fb-830d-4d25-bf91-c4fdc8d5244b",
   "metadata": {
    "scrolled": true,
    "tags": []
   },
   "outputs": [
    {
     "name": "stdout",
     "output_type": "stream",
     "text": [
      "<_sre.SRE_Match object; span=(0, 1), match='\\n'>\n",
      "<_sre.SRE_Match object; span=(27, 28), match='\\n'>\n",
      "<_sre.SRE_Match object; span=(54, 55), match='\\n'>\n",
      "<_sre.SRE_Match object; span=(65, 66), match='\\n'>\n",
      "<_sre.SRE_Match object; span=(66, 67), match='\\n'>\n",
      "<_sre.SRE_Match object; span=(69, 70), match=' '>\n",
      "<_sre.SRE_Match object; span=(74, 75), match='\\n'>\n",
      "<_sre.SRE_Match object; span=(75, 76), match='\\n'>\n",
      "<_sre.SRE_Match object; span=(90, 91), match=' '>\n",
      "<_sre.SRE_Match object; span=(96, 97), match=' '>\n",
      "<_sre.SRE_Match object; span=(99, 100), match=' '>\n",
      "<_sre.SRE_Match object; span=(102, 103), match=' '>\n",
      "<_sre.SRE_Match object; span=(112, 113), match='\\n'>\n",
      "<_sre.SRE_Match object; span=(114, 115), match=' '>\n",
      "<_sre.SRE_Match object; span=(116, 117), match=' '>\n",
      "<_sre.SRE_Match object; span=(118, 119), match=' '>\n",
      "<_sre.SRE_Match object; span=(120, 121), match=' '>\n",
      "<_sre.SRE_Match object; span=(122, 123), match=' '>\n",
      "<_sre.SRE_Match object; span=(124, 125), match=' '>\n",
      "<_sre.SRE_Match object; span=(126, 127), match=' '>\n",
      "<_sre.SRE_Match object; span=(128, 129), match=' '>\n",
      "<_sre.SRE_Match object; span=(130, 131), match=' '>\n",
      "<_sre.SRE_Match object; span=(132, 133), match=' '>\n",
      "<_sre.SRE_Match object; span=(134, 135), match=' '>\n",
      "<_sre.SRE_Match object; span=(136, 137), match=' '>\n",
      "<_sre.SRE_Match object; span=(138, 139), match=' '>\n",
      "<_sre.SRE_Match object; span=(140, 141), match='\\n'>\n",
      "<_sre.SRE_Match object; span=(141, 142), match='\\n'>\n",
      "<_sre.SRE_Match object; span=(153, 154), match='\\n'>\n",
      "<_sre.SRE_Match object; span=(154, 155), match='\\n'>\n",
      "<_sre.SRE_Match object; span=(164, 165), match='\\n'>\n",
      "<_sre.SRE_Match object; span=(165, 166), match='\\n'>\n",
      "<_sre.SRE_Match object; span=(178, 179), match='\\n'>\n",
      "<_sre.SRE_Match object; span=(191, 192), match='\\n'>\n",
      "<_sre.SRE_Match object; span=(192, 193), match='\\n'>\n",
      "<_sre.SRE_Match object; span=(196, 197), match=' '>\n",
      "<_sre.SRE_Match object; span=(204, 205), match='\\n'>\n",
      "<_sre.SRE_Match object; span=(207, 208), match=' '>\n",
      "<_sre.SRE_Match object; span=(213, 214), match='\\n'>\n",
      "<_sre.SRE_Match object; span=(216, 217), match=' '>\n",
      "<_sre.SRE_Match object; span=(222, 223), match='\\n'>\n",
      "<_sre.SRE_Match object; span=(227, 228), match=' '>\n",
      "<_sre.SRE_Match object; span=(233, 234), match='\\n'>\n",
      "<_sre.SRE_Match object; span=(237, 238), match=' '>\n",
      "<_sre.SRE_Match object; span=(239, 240), match='\\n'>\n"
     ]
    }
   ],
   "source": [
    "# Searching: All spaces and New Line\n",
    "pattern = re.compile(r\"\\s\")\n",
    "matches = pattern.finditer(text_to_search)\n",
    "for match in matches:\n",
    "    print(match)"
   ]
  },
  {
   "cell_type": "code",
   "execution_count": 26,
   "id": "3618bd1c-63c4-4d77-8818-c2d10e0818dd",
   "metadata": {
    "scrolled": true,
    "tags": []
   },
   "outputs": [
    {
     "name": "stdout",
     "output_type": "stream",
     "text": [
      "<_sre.SRE_Match object; span=(1, 2), match='a'>\n",
      "<_sre.SRE_Match object; span=(2, 3), match='b'>\n",
      "<_sre.SRE_Match object; span=(3, 4), match='c'>\n",
      "<_sre.SRE_Match object; span=(4, 5), match='d'>\n",
      "<_sre.SRE_Match object; span=(5, 6), match='e'>\n",
      "<_sre.SRE_Match object; span=(6, 7), match='f'>\n",
      "<_sre.SRE_Match object; span=(7, 8), match='g'>\n",
      "<_sre.SRE_Match object; span=(8, 9), match='h'>\n",
      "<_sre.SRE_Match object; span=(9, 10), match='i'>\n",
      "<_sre.SRE_Match object; span=(10, 11), match='j'>\n",
      "<_sre.SRE_Match object; span=(11, 12), match='k'>\n",
      "<_sre.SRE_Match object; span=(12, 13), match='l'>\n",
      "<_sre.SRE_Match object; span=(13, 14), match='m'>\n",
      "<_sre.SRE_Match object; span=(14, 15), match='n'>\n",
      "<_sre.SRE_Match object; span=(15, 16), match='o'>\n",
      "<_sre.SRE_Match object; span=(16, 17), match='p'>\n",
      "<_sre.SRE_Match object; span=(17, 18), match='q'>\n",
      "<_sre.SRE_Match object; span=(18, 19), match='u'>\n",
      "<_sre.SRE_Match object; span=(19, 20), match='s'>\n",
      "<_sre.SRE_Match object; span=(20, 21), match='t'>\n",
      "<_sre.SRE_Match object; span=(21, 22), match='u'>\n",
      "<_sre.SRE_Match object; span=(22, 23), match='v'>\n",
      "<_sre.SRE_Match object; span=(23, 24), match='w'>\n",
      "<_sre.SRE_Match object; span=(24, 25), match='x'>\n",
      "<_sre.SRE_Match object; span=(25, 26), match='y'>\n",
      "<_sre.SRE_Match object; span=(26, 27), match='z'>\n",
      "<_sre.SRE_Match object; span=(28, 29), match='A'>\n",
      "<_sre.SRE_Match object; span=(29, 30), match='B'>\n",
      "<_sre.SRE_Match object; span=(30, 31), match='C'>\n",
      "<_sre.SRE_Match object; span=(31, 32), match='D'>\n",
      "<_sre.SRE_Match object; span=(32, 33), match='E'>\n",
      "<_sre.SRE_Match object; span=(33, 34), match='F'>\n",
      "<_sre.SRE_Match object; span=(34, 35), match='G'>\n",
      "<_sre.SRE_Match object; span=(35, 36), match='H'>\n",
      "<_sre.SRE_Match object; span=(36, 37), match='I'>\n",
      "<_sre.SRE_Match object; span=(37, 38), match='J'>\n",
      "<_sre.SRE_Match object; span=(38, 39), match='K'>\n",
      "<_sre.SRE_Match object; span=(39, 40), match='L'>\n",
      "<_sre.SRE_Match object; span=(40, 41), match='M'>\n",
      "<_sre.SRE_Match object; span=(41, 42), match='N'>\n",
      "<_sre.SRE_Match object; span=(42, 43), match='O'>\n",
      "<_sre.SRE_Match object; span=(43, 44), match='P'>\n",
      "<_sre.SRE_Match object; span=(44, 45), match='Q'>\n",
      "<_sre.SRE_Match object; span=(45, 46), match='R'>\n",
      "<_sre.SRE_Match object; span=(46, 47), match='S'>\n",
      "<_sre.SRE_Match object; span=(47, 48), match='T'>\n",
      "<_sre.SRE_Match object; span=(48, 49), match='U'>\n",
      "<_sre.SRE_Match object; span=(49, 50), match='V'>\n",
      "<_sre.SRE_Match object; span=(50, 51), match='W'>\n",
      "<_sre.SRE_Match object; span=(51, 52), match='X'>\n",
      "<_sre.SRE_Match object; span=(52, 53), match='Y'>\n",
      "<_sre.SRE_Match object; span=(53, 54), match='Z'>\n",
      "<_sre.SRE_Match object; span=(55, 56), match='0'>\n",
      "<_sre.SRE_Match object; span=(56, 57), match='1'>\n",
      "<_sre.SRE_Match object; span=(57, 58), match='2'>\n",
      "<_sre.SRE_Match object; span=(58, 59), match='3'>\n",
      "<_sre.SRE_Match object; span=(59, 60), match='4'>\n",
      "<_sre.SRE_Match object; span=(60, 61), match='5'>\n",
      "<_sre.SRE_Match object; span=(61, 62), match='6'>\n",
      "<_sre.SRE_Match object; span=(62, 63), match='7'>\n",
      "<_sre.SRE_Match object; span=(63, 64), match='8'>\n",
      "<_sre.SRE_Match object; span=(64, 65), match='9'>\n",
      "<_sre.SRE_Match object; span=(67, 68), match='H'>\n",
      "<_sre.SRE_Match object; span=(68, 69), match='a'>\n",
      "<_sre.SRE_Match object; span=(70, 71), match='H'>\n",
      "<_sre.SRE_Match object; span=(71, 72), match='a'>\n",
      "<_sre.SRE_Match object; span=(72, 73), match='H'>\n",
      "<_sre.SRE_Match object; span=(73, 74), match='a'>\n",
      "<_sre.SRE_Match object; span=(76, 77), match='M'>\n",
      "<_sre.SRE_Match object; span=(77, 78), match='e'>\n",
      "<_sre.SRE_Match object; span=(78, 79), match='t'>\n",
      "<_sre.SRE_Match object; span=(79, 80), match='a'>\n",
      "<_sre.SRE_Match object; span=(80, 81), match='C'>\n",
      "<_sre.SRE_Match object; span=(81, 82), match='h'>\n",
      "<_sre.SRE_Match object; span=(82, 83), match='a'>\n",
      "<_sre.SRE_Match object; span=(83, 84), match='r'>\n",
      "<_sre.SRE_Match object; span=(84, 85), match='a'>\n",
      "<_sre.SRE_Match object; span=(85, 86), match='c'>\n",
      "<_sre.SRE_Match object; span=(86, 87), match='t'>\n",
      "<_sre.SRE_Match object; span=(87, 88), match='e'>\n",
      "<_sre.SRE_Match object; span=(88, 89), match='r'>\n",
      "<_sre.SRE_Match object; span=(89, 90), match='s'>\n",
      "<_sre.SRE_Match object; span=(91, 92), match='('>\n",
      "<_sre.SRE_Match object; span=(92, 93), match='N'>\n",
      "<_sre.SRE_Match object; span=(93, 94), match='e'>\n",
      "<_sre.SRE_Match object; span=(94, 95), match='e'>\n",
      "<_sre.SRE_Match object; span=(95, 96), match='d'>\n",
      "<_sre.SRE_Match object; span=(97, 98), match='t'>\n",
      "<_sre.SRE_Match object; span=(98, 99), match='o'>\n",
      "<_sre.SRE_Match object; span=(100, 101), match='b'>\n",
      "<_sre.SRE_Match object; span=(101, 102), match='e'>\n",
      "<_sre.SRE_Match object; span=(103, 104), match='e'>\n",
      "<_sre.SRE_Match object; span=(104, 105), match='s'>\n",
      "<_sre.SRE_Match object; span=(105, 106), match='c'>\n",
      "<_sre.SRE_Match object; span=(106, 107), match='a'>\n",
      "<_sre.SRE_Match object; span=(107, 108), match='p'>\n",
      "<_sre.SRE_Match object; span=(108, 109), match='e'>\n",
      "<_sre.SRE_Match object; span=(109, 110), match='d'>\n",
      "<_sre.SRE_Match object; span=(110, 111), match=')'>\n",
      "<_sre.SRE_Match object; span=(111, 112), match=':'>\n",
      "<_sre.SRE_Match object; span=(113, 114), match='.'>\n",
      "<_sre.SRE_Match object; span=(115, 116), match='^'>\n",
      "<_sre.SRE_Match object; span=(117, 118), match='$'>\n",
      "<_sre.SRE_Match object; span=(119, 120), match='*'>\n",
      "<_sre.SRE_Match object; span=(121, 122), match='+'>\n",
      "<_sre.SRE_Match object; span=(123, 124), match='?'>\n",
      "<_sre.SRE_Match object; span=(125, 126), match='{'>\n",
      "<_sre.SRE_Match object; span=(127, 128), match='}'>\n",
      "<_sre.SRE_Match object; span=(129, 130), match='['>\n",
      "<_sre.SRE_Match object; span=(131, 132), match=']'>\n",
      "<_sre.SRE_Match object; span=(133, 134), match='\\\\'>\n",
      "<_sre.SRE_Match object; span=(135, 136), match='|'>\n",
      "<_sre.SRE_Match object; span=(137, 138), match='('>\n",
      "<_sre.SRE_Match object; span=(139, 140), match=')'>\n",
      "<_sre.SRE_Match object; span=(142, 143), match='c'>\n",
      "<_sre.SRE_Match object; span=(143, 144), match='o'>\n",
      "<_sre.SRE_Match object; span=(144, 145), match='r'>\n",
      "<_sre.SRE_Match object; span=(145, 146), match='e'>\n",
      "<_sre.SRE_Match object; span=(146, 147), match='y'>\n",
      "<_sre.SRE_Match object; span=(147, 148), match='m'>\n",
      "<_sre.SRE_Match object; span=(148, 149), match='s'>\n",
      "<_sre.SRE_Match object; span=(149, 150), match='.'>\n",
      "<_sre.SRE_Match object; span=(150, 151), match='c'>\n",
      "<_sre.SRE_Match object; span=(151, 152), match='o'>\n",
      "<_sre.SRE_Match object; span=(152, 153), match='m'>\n",
      "<_sre.SRE_Match object; span=(155, 156), match='r'>\n",
      "<_sre.SRE_Match object; span=(156, 157), match='a'>\n",
      "<_sre.SRE_Match object; span=(157, 158), match='j'>\n",
      "<_sre.SRE_Match object; span=(158, 159), match='i'>\n",
      "<_sre.SRE_Match object; span=(159, 160), match='v'>\n",
      "<_sre.SRE_Match object; span=(160, 161), match='_'>\n",
      "<_sre.SRE_Match object; span=(161, 162), match='1'>\n",
      "<_sre.SRE_Match object; span=(162, 163), match='2'>\n",
      "<_sre.SRE_Match object; span=(163, 164), match='5'>\n",
      "<_sre.SRE_Match object; span=(166, 167), match='3'>\n",
      "<_sre.SRE_Match object; span=(167, 168), match='2'>\n",
      "<_sre.SRE_Match object; span=(168, 169), match='1'>\n",
      "<_sre.SRE_Match object; span=(169, 170), match='-'>\n",
      "<_sre.SRE_Match object; span=(170, 171), match='2'>\n",
      "<_sre.SRE_Match object; span=(171, 172), match='5'>\n",
      "<_sre.SRE_Match object; span=(172, 173), match='4'>\n",
      "<_sre.SRE_Match object; span=(173, 174), match='-'>\n",
      "<_sre.SRE_Match object; span=(174, 175), match='7'>\n",
      "<_sre.SRE_Match object; span=(175, 176), match='8'>\n",
      "<_sre.SRE_Match object; span=(176, 177), match='5'>\n",
      "<_sre.SRE_Match object; span=(177, 178), match='4'>\n",
      "<_sre.SRE_Match object; span=(179, 180), match='4'>\n",
      "<_sre.SRE_Match object; span=(180, 181), match='5'>\n",
      "<_sre.SRE_Match object; span=(181, 182), match='8'>\n",
      "<_sre.SRE_Match object; span=(182, 183), match='.'>\n",
      "<_sre.SRE_Match object; span=(183, 184), match='4'>\n",
      "<_sre.SRE_Match object; span=(184, 185), match='7'>\n",
      "<_sre.SRE_Match object; span=(185, 186), match='6'>\n",
      "<_sre.SRE_Match object; span=(186, 187), match='.'>\n",
      "<_sre.SRE_Match object; span=(187, 188), match='3'>\n",
      "<_sre.SRE_Match object; span=(188, 189), match='6'>\n",
      "<_sre.SRE_Match object; span=(189, 190), match='5'>\n",
      "<_sre.SRE_Match object; span=(190, 191), match='4'>\n",
      "<_sre.SRE_Match object; span=(193, 194), match='M'>\n",
      "<_sre.SRE_Match object; span=(194, 195), match='r'>\n",
      "<_sre.SRE_Match object; span=(195, 196), match='.'>\n",
      "<_sre.SRE_Match object; span=(197, 198), match='S'>\n",
      "<_sre.SRE_Match object; span=(198, 199), match='c'>\n",
      "<_sre.SRE_Match object; span=(199, 200), match='h'>\n",
      "<_sre.SRE_Match object; span=(200, 201), match='a'>\n",
      "<_sre.SRE_Match object; span=(201, 202), match='f'>\n",
      "<_sre.SRE_Match object; span=(202, 203), match='e'>\n",
      "<_sre.SRE_Match object; span=(203, 204), match='r'>\n",
      "<_sre.SRE_Match object; span=(205, 206), match='M'>\n",
      "<_sre.SRE_Match object; span=(206, 207), match='r'>\n",
      "<_sre.SRE_Match object; span=(208, 209), match='S'>\n",
      "<_sre.SRE_Match object; span=(209, 210), match='m'>\n",
      "<_sre.SRE_Match object; span=(210, 211), match='i'>\n",
      "<_sre.SRE_Match object; span=(211, 212), match='t'>\n",
      "<_sre.SRE_Match object; span=(212, 213), match='h'>\n",
      "<_sre.SRE_Match object; span=(214, 215), match='M'>\n",
      "<_sre.SRE_Match object; span=(215, 216), match='s'>\n",
      "<_sre.SRE_Match object; span=(217, 218), match='D'>\n",
      "<_sre.SRE_Match object; span=(218, 219), match='a'>\n",
      "<_sre.SRE_Match object; span=(219, 220), match='v'>\n",
      "<_sre.SRE_Match object; span=(220, 221), match='i'>\n",
      "<_sre.SRE_Match object; span=(221, 222), match='s'>\n",
      "<_sre.SRE_Match object; span=(223, 224), match='M'>\n",
      "<_sre.SRE_Match object; span=(224, 225), match='r'>\n",
      "<_sre.SRE_Match object; span=(225, 226), match='s'>\n",
      "<_sre.SRE_Match object; span=(226, 227), match='.'>\n",
      "<_sre.SRE_Match object; span=(228, 229), match='R'>\n",
      "<_sre.SRE_Match object; span=(229, 230), match='o'>\n",
      "<_sre.SRE_Match object; span=(230, 231), match='b'>\n",
      "<_sre.SRE_Match object; span=(231, 232), match='i'>\n",
      "<_sre.SRE_Match object; span=(232, 233), match='n'>\n",
      "<_sre.SRE_Match object; span=(234, 235), match='M'>\n",
      "<_sre.SRE_Match object; span=(235, 236), match='r'>\n",
      "<_sre.SRE_Match object; span=(236, 237), match='.'>\n",
      "<_sre.SRE_Match object; span=(238, 239), match='T'>\n"
     ]
    }
   ],
   "source": [
    "# Searching: All which are not spaces and New Line\n",
    "pattern = re.compile(r\"\\S\")\n",
    "matches = pattern.finditer(text_to_search)\n",
    "for match in matches:\n",
    "    print(match)"
   ]
  },
  {
   "cell_type": "code",
   "execution_count": 27,
   "id": "71a3124d-9cb1-4515-9379-f6bcf7135f49",
   "metadata": {},
   "outputs": [
    {
     "name": "stdout",
     "output_type": "stream",
     "text": [
      "<_sre.SRE_Match object; span=(67, 69), match='Ha'>\n",
      "<_sre.SRE_Match object; span=(72, 74), match='Ha'>\n"
     ]
    }
   ],
   "source": [
    "# Searching: Searching Word Boundary - Starting with Ha \n",
    "pattern = re.compile(r\"Ha\\b\")\n",
    "matches = pattern.finditer(text_to_search)\n",
    "for match in matches:\n",
    "    print(match)"
   ]
  },
  {
   "cell_type": "code",
   "execution_count": 28,
   "id": "6ebaf29c-0d22-46f9-9a58-04696eeb0d2b",
   "metadata": {},
   "outputs": [
    {
     "name": "stdout",
     "output_type": "stream",
     "text": [
      "<_sre.SRE_Match object; span=(70, 72), match='Ha'>\n"
     ]
    }
   ],
   "source": [
    "# Searching: Searching Word Boundary - ending with Ha\n",
    "pattern = re.compile(r\"Ha\\B\")\n",
    "matches = pattern.finditer(text_to_search)\n",
    "for match in matches:\n",
    "    print(match)"
   ]
  },
  {
   "cell_type": "code",
   "execution_count": 29,
   "id": "ef0a3c93-526a-48b6-8add-457096a97629",
   "metadata": {},
   "outputs": [
    {
     "name": "stdout",
     "output_type": "stream",
     "text": [
      "<_sre.SRE_Match object; span=(67, 69), match='Ha'>\n"
     ]
    }
   ],
   "source": [
    "# Searching: Searching Word Boundary -  starting and ending with Ha\n",
    "pattern = re.compile(r\"\\bHa\\b\")\n",
    "matches = pattern.finditer(text_to_search)\n",
    "for match in matches:\n",
    "    print(match)"
   ]
  },
  {
   "cell_type": "code",
   "execution_count": 30,
   "id": "c298d67b-d21a-46c6-af1e-9950ff49de87",
   "metadata": {},
   "outputs": [
    {
     "name": "stdout",
     "output_type": "stream",
     "text": [
      "<_sre.SRE_Match object; span=(0, 5), match='Start'>\n"
     ]
    }
   ],
   "source": [
    "# Searching: All words that begin with \"Start\"\n",
    "pattern = re.compile(r\"^Start\")\n",
    "matches = pattern.finditer(sentence)\n",
    "for match in matches:\n",
    "    print(match)"
   ]
  },
  {
   "cell_type": "code",
   "execution_count": 31,
   "id": "1c34fd16-d840-404e-9c2d-986b7c699af1",
   "metadata": {},
   "outputs": [],
   "source": [
    "# Searching: All sentences that begin with \"a\"\n",
    "pattern = re.compile(r\"^a\")\n",
    "matches = pattern.finditer(sentence)\n",
    "for match in matches:\n",
    "    print(match)"
   ]
  },
  {
   "cell_type": "code",
   "execution_count": 32,
   "id": "270df943-d06c-4406-a32e-1c0bf85384c9",
   "metadata": {},
   "outputs": [
    {
     "name": "stdout",
     "output_type": "stream",
     "text": [
      "<_sre.SRE_Match object; span=(41, 44), match='end'>\n"
     ]
    }
   ],
   "source": [
    "# Searching: All sentences that end with \"end\"\n",
    "pattern = re.compile(r\"end$\")\n",
    "matches = pattern.finditer(sentence)\n",
    "for match in matches:\n",
    "    print(match)"
   ]
  },
  {
   "cell_type": "code",
   "execution_count": 33,
   "id": "5e930c55-d03e-4717-b30a-e7cc3a67a39c",
   "metadata": {},
   "outputs": [],
   "source": [
    "# Searching: All sentences that end with \"a\"\n",
    "pattern = re.compile(r\"a$\")\n",
    "matches = pattern.finditer(sentence)\n",
    "for match in matches:\n",
    "    print(match)"
   ]
  },
  {
   "cell_type": "code",
   "execution_count": 34,
   "id": "86dde089-e423-4632-bcc5-9d74e5f397c3",
   "metadata": {},
   "outputs": [
    {
     "name": "stdout",
     "output_type": "stream",
     "text": [
      "<_sre.SRE_Match object; span=(55, 58), match='012'>\n",
      "<_sre.SRE_Match object; span=(58, 61), match='345'>\n",
      "<_sre.SRE_Match object; span=(61, 64), match='678'>\n",
      "<_sre.SRE_Match object; span=(161, 164), match='125'>\n",
      "<_sre.SRE_Match object; span=(166, 169), match='321'>\n",
      "<_sre.SRE_Match object; span=(170, 173), match='254'>\n",
      "<_sre.SRE_Match object; span=(174, 177), match='785'>\n",
      "<_sre.SRE_Match object; span=(179, 182), match='458'>\n",
      "<_sre.SRE_Match object; span=(183, 186), match='476'>\n",
      "<_sre.SRE_Match object; span=(187, 190), match='365'>\n"
     ]
    }
   ],
   "source": [
    "# Searching: mobile number\n",
    "pattern = re.compile(r\"[\\d]{3}\")\n",
    "matches = pattern.finditer(text_to_search)\n",
    "for match in matches:\n",
    "    print(match)"
   ]
  },
  {
   "cell_type": "code",
   "execution_count": 35,
   "id": "aaeaabac-1e05-47bc-b978-4fc730f31ad1",
   "metadata": {},
   "outputs": [
    {
     "name": "stdout",
     "output_type": "stream",
     "text": [
      "<_sre.SRE_Match object; span=(166, 178), match='321-254-7854'>\n"
     ]
    }
   ],
   "source": [
    "# Searching: mobile number\n",
    "pattern = re.compile(r\"[\\d]{3}-[\\d]{3}-[\\d]{4}\")\n",
    "matches = pattern.finditer(text_to_search)\n",
    "for match in matches:\n",
    "    print(match)"
   ]
  },
  {
   "cell_type": "code",
   "execution_count": 36,
   "id": "e407e8c2-7870-41bc-ac04-37e86c739596",
   "metadata": {},
   "outputs": [
    {
     "name": "stdout",
     "output_type": "stream",
     "text": [
      "<_sre.SRE_Match object; span=(166, 178), match='321-254-7854'>\n",
      "<_sre.SRE_Match object; span=(179, 191), match='458.476.3654'>\n"
     ]
    }
   ],
   "source": [
    "# Searching: mobile number\n",
    "pattern = re.compile(r\"[\\d]{3}.[\\d]{3}.[\\d]{4}\")\n",
    "matches = pattern.finditer(text_to_search)\n",
    "for match in matches:\n",
    "    print(match)"
   ]
  },
  {
   "cell_type": "code",
   "execution_count": 37,
   "id": "14c8846c-2ded-42ed-ad27-93eea9294132",
   "metadata": {},
   "outputs": [
    {
     "name": "stdout",
     "output_type": "stream",
     "text": [
      "<_sre.SRE_Match object; span=(166, 178), match='321-254-7854'>\n",
      "<_sre.SRE_Match object; span=(179, 191), match='458.476.3654'>\n"
     ]
    }
   ],
   "source": [
    "# Searching: mobile number\n",
    "pattern = re.compile(r\"[\\d]{3}[.-][\\d]{3}[.-][\\d]{4}\")\n",
    "matches = pattern.finditer(text_to_search)\n",
    "for match in matches:\n",
    "    print(match)"
   ]
  },
  {
   "cell_type": "markdown",
   "id": "6bb0b643-06cd-47cb-856f-85b93fdff91d",
   "metadata": {},
   "source": [
    "## Data File"
   ]
  },
  {
   "cell_type": "code",
   "execution_count": 38,
   "id": "6697d25e-3358-483f-87c5-09bc708ebca0",
   "metadata": {
    "scrolled": true,
    "tags": []
   },
   "outputs": [
    {
     "name": "stdout",
     "output_type": "stream",
     "text": [
      "<_sre.SRE_Match object; span=(13, 25), match='615-555-7164'>\n",
      "<_sre.SRE_Match object; span=(103, 115), match='800-555-5669'>\n",
      "<_sre.SRE_Match object; span=(192, 204), match='560-555-5153'>\n",
      "<_sre.SRE_Match object; span=(282, 294), match='900-555-9340'>\n",
      "<_sre.SRE_Match object; span=(379, 391), match='714-555-7405'>\n",
      "<_sre.SRE_Match object; span=(468, 480), match='800-555-6771'>\n",
      "<_sre.SRE_Match object; span=(558, 570), match='783-555-4799'>\n",
      "<_sre.SRE_Match object; span=(648, 660), match='516-555-4615'>\n",
      "<_sre.SRE_Match object; span=(741, 753), match='127-555-1867'>\n",
      "<_sre.SRE_Match object; span=(830, 842), match='608-555-4938'>\n",
      "<_sre.SRE_Match object; span=(916, 928), match='568-555-6051'>\n",
      "<_sre.SRE_Match object; span=(1004, 1016), match='292-555-1875'>\n",
      "<_sre.SRE_Match object; span=(1092, 1104), match='900-555-3205'>\n",
      "<_sre.SRE_Match object; span=(1181, 1193), match='614-555-1166'>\n",
      "<_sre.SRE_Match object; span=(1270, 1282), match='530-555-2676'>\n",
      "<_sre.SRE_Match object; span=(1356, 1368), match='470-555-2750'>\n",
      "<_sre.SRE_Match object; span=(1440, 1452), match='800-555-6089'>\n",
      "<_sre.SRE_Match object; span=(1527, 1539), match='880-555-8319'>\n",
      "<_sre.SRE_Match object; span=(1615, 1627), match='777-555-8378'>\n",
      "<_sre.SRE_Match object; span=(1698, 1710), match='998-555-7385'>\n",
      "<_sre.SRE_Match object; span=(1791, 1803), match='800-555-7100'>\n",
      "<_sre.SRE_Match object; span=(1875, 1887), match='903-555-8277'>\n",
      "<_sre.SRE_Match object; span=(1963, 1975), match='196-555-5674'>\n",
      "<_sre.SRE_Match object; span=(2052, 2064), match='900-555-5118'>\n",
      "<_sre.SRE_Match object; span=(2136, 2148), match='905-555-1630'>\n",
      "<_sre.SRE_Match object; span=(2217, 2229), match='203-555-3475'>\n",
      "<_sre.SRE_Match object; span=(2301, 2313), match='884-555-8444'>\n",
      "<_sre.SRE_Match object; span=(2388, 2400), match='904-555-8559'>\n",
      "<_sre.SRE_Match object; span=(2476, 2488), match='889-555-7393'>\n",
      "<_sre.SRE_Match object; span=(2563, 2575), match='195-555-2405'>\n",
      "<_sre.SRE_Match object; span=(2648, 2660), match='321-555-9053'>\n",
      "<_sre.SRE_Match object; span=(2735, 2747), match='133-555-1711'>\n",
      "<_sre.SRE_Match object; span=(2827, 2839), match='900-555-5428'>\n",
      "<_sre.SRE_Match object; span=(2916, 2928), match='760-555-7147'>\n",
      "<_sre.SRE_Match object; span=(3013, 3025), match='391-555-6621'>\n",
      "<_sre.SRE_Match object; span=(3104, 3116), match='932-555-7724'>\n",
      "<_sre.SRE_Match object; span=(3193, 3205), match='609-555-7908'>\n",
      "<_sre.SRE_Match object; span=(3285, 3297), match='800-555-8810'>\n",
      "<_sre.SRE_Match object; span=(3373, 3385), match='149-555-7657'>\n",
      "<_sre.SRE_Match object; span=(3453, 3465), match='130-555-9709'>\n",
      "<_sre.SRE_Match object; span=(3536, 3548), match='143-555-9295'>\n",
      "<_sre.SRE_Match object; span=(3625, 3637), match='903-555-9878'>\n",
      "<_sre.SRE_Match object; span=(3715, 3727), match='574-555-3194'>\n",
      "<_sre.SRE_Match object; span=(3803, 3815), match='496-555-7533'>\n",
      "<_sre.SRE_Match object; span=(3888, 3900), match='210-555-3757'>\n",
      "<_sre.SRE_Match object; span=(3972, 3984), match='900-555-9598'>\n",
      "<_sre.SRE_Match object; span=(4057, 4069), match='866-555-9844'>\n",
      "<_sre.SRE_Match object; span=(4141, 4153), match='669-555-7159'>\n",
      "<_sre.SRE_Match object; span=(4226, 4238), match='152-555-7417'>\n",
      "<_sre.SRE_Match object; span=(4318, 4330), match='893-555-9832'>\n",
      "<_sre.SRE_Match object; span=(4408, 4420), match='217-555-7123'>\n",
      "<_sre.SRE_Match object; span=(4499, 4511), match='786-555-6544'>\n",
      "<_sre.SRE_Match object; span=(4589, 4601), match='780-555-2574'>\n",
      "<_sre.SRE_Match object; span=(4677, 4689), match='926-555-8735'>\n",
      "<_sre.SRE_Match object; span=(4763, 4775), match='895-555-3539'>\n",
      "<_sre.SRE_Match object; span=(4860, 4872), match='874-555-3949'>\n",
      "<_sre.SRE_Match object; span=(4946, 4958), match='800-555-2420'>\n",
      "<_sre.SRE_Match object; span=(5035, 5047), match='936-555-6340'>\n",
      "<_sre.SRE_Match object; span=(5124, 5136), match='372-555-9809'>\n",
      "<_sre.SRE_Match object; span=(5211, 5223), match='890-555-5618'>\n",
      "<_sre.SRE_Match object; span=(5293, 5305), match='670-555-3005'>\n",
      "<_sre.SRE_Match object; span=(5383, 5395), match='509-555-5997'>\n",
      "<_sre.SRE_Match object; span=(5476, 5488), match='721-555-5632'>\n",
      "<_sre.SRE_Match object; span=(5567, 5579), match='900-555-3567'>\n",
      "<_sre.SRE_Match object; span=(5657, 5669), match='147-555-6830'>\n",
      "<_sre.SRE_Match object; span=(5746, 5758), match='582-555-3426'>\n",
      "<_sre.SRE_Match object; span=(5831, 5843), match='400-555-1706'>\n",
      "<_sre.SRE_Match object; span=(5922, 5934), match='525-555-1793'>\n",
      "<_sre.SRE_Match object; span=(6012, 6024), match='317-555-6700'>\n",
      "<_sre.SRE_Match object; span=(6100, 6112), match='974-555-8301'>\n",
      "<_sre.SRE_Match object; span=(6190, 6202), match='800-555-3216'>\n",
      "<_sre.SRE_Match object; span=(6274, 6286), match='746-555-4094'>\n",
      "<_sre.SRE_Match object; span=(6361, 6373), match='922-555-1773'>\n",
      "<_sre.SRE_Match object; span=(6446, 6458), match='711-555-4427'>\n",
      "<_sre.SRE_Match object; span=(6531, 6543), match='355-555-1872'>\n",
      "<_sre.SRE_Match object; span=(6620, 6632), match='852-555-6521'>\n",
      "<_sre.SRE_Match object; span=(6712, 6724), match='691-555-5773'>\n",
      "<_sre.SRE_Match object; span=(6804, 6816), match='332-555-5441'>\n",
      "<_sre.SRE_Match object; span=(6890, 6902), match='900-555-7755'>\n",
      "<_sre.SRE_Match object; span=(6972, 6984), match='379-555-3685'>\n",
      "<_sre.SRE_Match object; span=(7062, 7074), match='127-555-9682'>\n",
      "<_sre.SRE_Match object; span=(7153, 7165), match='789-555-7032'>\n",
      "<_sre.SRE_Match object; span=(7244, 7256), match='783-555-5135'>\n",
      "<_sre.SRE_Match object; span=(7337, 7349), match='315-555-6507'>\n",
      "<_sre.SRE_Match object; span=(7428, 7440), match='481-555-5835'>\n",
      "<_sre.SRE_Match object; span=(7516, 7528), match='365-555-8287'>\n",
      "<_sre.SRE_Match object; span=(7608, 7620), match='911-555-7535'>\n",
      "<_sre.SRE_Match object; span=(7694, 7706), match='681-555-2460'>\n",
      "<_sre.SRE_Match object; span=(7780, 7792), match='274-555-9800'>\n",
      "<_sre.SRE_Match object; span=(7865, 7877), match='800-555-1372'>\n",
      "<_sre.SRE_Match object; span=(7954, 7966), match='300-555-7821'>\n",
      "<_sre.SRE_Match object; span=(8130, 8142), match='705-555-6863'>\n",
      "<_sre.SRE_Match object; span=(8219, 8231), match='215-555-9449'>\n",
      "<_sre.SRE_Match object; span=(8310, 8322), match='988-555-6112'>\n",
      "<_sre.SRE_Match object; span=(8396, 8408), match='623-555-3006'>\n",
      "<_sre.SRE_Match object; span=(8480, 8492), match='192-555-4977'>\n",
      "<_sre.SRE_Match object; span=(8565, 8577), match='178-555-4899'>\n",
      "<_sre.SRE_Match object; span=(8649, 8661), match='952-555-3089'>\n",
      "<_sre.SRE_Match object; span=(8742, 8754), match='900-555-6426'>\n"
     ]
    }
   ],
   "source": [
    "# Searching: All Mobile Numbers containing a dot or dash\n",
    "pattern = re.compile(r\"[\\d]{3}[.-][\\d]{3}[.-][\\d]{4}\")\n",
    "matches = pattern.finditer(data)\n",
    "for match in matches:\n",
    "    print(match)"
   ]
  },
  {
   "cell_type": "code",
   "execution_count": 39,
   "id": "854c39f4-bd51-4084-9e84-256eda11cef1",
   "metadata": {},
   "outputs": [],
   "source": [
    "# Searching: Same pattern does not match\n",
    "pattern = re.compile(r\"[\\d]{3}[.-][\\d]{3}[.-][\\d]{4}\")\n",
    "matches = pattern.finditer(\"900*555*9598\")\n",
    "for match in matches:\n",
    "    print(match)"
   ]
  },
  {
   "cell_type": "code",
   "execution_count": 40,
   "id": "bac3b8db-5878-4e5a-bd65-54fb953cd4a9",
   "metadata": {},
   "outputs": [
    {
     "name": "stdout",
     "output_type": "stream",
     "text": [
      "<_sre.SRE_Match object; span=(0, 12), match='900*555*9598'>\n"
     ]
    }
   ],
   "source": [
    "# Searching: 900*555*9598\n",
    "pattern = re.compile(r\"[\\d]{3}.[\\d]{3}.[\\d]{4}\")\n",
    "matches = pattern.finditer(\"900*555*9598\")\n",
    "for match in matches:\n",
    "    print(match)"
   ]
  },
  {
   "cell_type": "code",
   "execution_count": 41,
   "id": "45e14f29-80c9-4687-9cda-f45eec82f588",
   "metadata": {
    "scrolled": true,
    "tags": []
   },
   "outputs": [
    {
     "name": "stdout",
     "output_type": "stream",
     "text": [
      "<_sre.SRE_Match object; span=(13, 25), match='615-555-7164'>\n",
      "<_sre.SRE_Match object; span=(103, 115), match='800-555-5669'>\n",
      "<_sre.SRE_Match object; span=(192, 204), match='560-555-5153'>\n",
      "<_sre.SRE_Match object; span=(282, 294), match='900-555-9340'>\n",
      "<_sre.SRE_Match object; span=(379, 391), match='714-555-7405'>\n",
      "<_sre.SRE_Match object; span=(468, 480), match='800-555-6771'>\n",
      "<_sre.SRE_Match object; span=(558, 570), match='783-555-4799'>\n",
      "<_sre.SRE_Match object; span=(648, 660), match='516-555-4615'>\n",
      "<_sre.SRE_Match object; span=(741, 753), match='127-555-1867'>\n",
      "<_sre.SRE_Match object; span=(830, 842), match='608-555-4938'>\n",
      "<_sre.SRE_Match object; span=(916, 928), match='568-555-6051'>\n",
      "<_sre.SRE_Match object; span=(1004, 1016), match='292-555-1875'>\n",
      "<_sre.SRE_Match object; span=(1092, 1104), match='900-555-3205'>\n",
      "<_sre.SRE_Match object; span=(1181, 1193), match='614-555-1166'>\n",
      "<_sre.SRE_Match object; span=(1270, 1282), match='530-555-2676'>\n",
      "<_sre.SRE_Match object; span=(1356, 1368), match='470-555-2750'>\n",
      "<_sre.SRE_Match object; span=(1440, 1452), match='800-555-6089'>\n",
      "<_sre.SRE_Match object; span=(1527, 1539), match='880-555-8319'>\n",
      "<_sre.SRE_Match object; span=(1615, 1627), match='777-555-8378'>\n",
      "<_sre.SRE_Match object; span=(1698, 1710), match='998-555-7385'>\n",
      "<_sre.SRE_Match object; span=(1791, 1803), match='800-555-7100'>\n",
      "<_sre.SRE_Match object; span=(1875, 1887), match='903-555-8277'>\n",
      "<_sre.SRE_Match object; span=(1963, 1975), match='196-555-5674'>\n",
      "<_sre.SRE_Match object; span=(2052, 2064), match='900-555-5118'>\n",
      "<_sre.SRE_Match object; span=(2136, 2148), match='905-555-1630'>\n",
      "<_sre.SRE_Match object; span=(2217, 2229), match='203-555-3475'>\n",
      "<_sre.SRE_Match object; span=(2301, 2313), match='884-555-8444'>\n",
      "<_sre.SRE_Match object; span=(2388, 2400), match='904-555-8559'>\n",
      "<_sre.SRE_Match object; span=(2476, 2488), match='889-555-7393'>\n",
      "<_sre.SRE_Match object; span=(2563, 2575), match='195-555-2405'>\n",
      "<_sre.SRE_Match object; span=(2648, 2660), match='321-555-9053'>\n",
      "<_sre.SRE_Match object; span=(2735, 2747), match='133-555-1711'>\n",
      "<_sre.SRE_Match object; span=(2827, 2839), match='900-555-5428'>\n",
      "<_sre.SRE_Match object; span=(2916, 2928), match='760-555-7147'>\n",
      "<_sre.SRE_Match object; span=(3013, 3025), match='391-555-6621'>\n",
      "<_sre.SRE_Match object; span=(3104, 3116), match='932-555-7724'>\n",
      "<_sre.SRE_Match object; span=(3193, 3205), match='609-555-7908'>\n",
      "<_sre.SRE_Match object; span=(3285, 3297), match='800-555-8810'>\n",
      "<_sre.SRE_Match object; span=(3373, 3385), match='149-555-7657'>\n",
      "<_sre.SRE_Match object; span=(3453, 3465), match='130-555-9709'>\n",
      "<_sre.SRE_Match object; span=(3536, 3548), match='143-555-9295'>\n",
      "<_sre.SRE_Match object; span=(3625, 3637), match='903-555-9878'>\n",
      "<_sre.SRE_Match object; span=(3715, 3727), match='574-555-3194'>\n",
      "<_sre.SRE_Match object; span=(3803, 3815), match='496-555-7533'>\n",
      "<_sre.SRE_Match object; span=(3888, 3900), match='210-555-3757'>\n",
      "<_sre.SRE_Match object; span=(3972, 3984), match='900-555-9598'>\n",
      "<_sre.SRE_Match object; span=(4057, 4069), match='866-555-9844'>\n",
      "<_sre.SRE_Match object; span=(4141, 4153), match='669-555-7159'>\n",
      "<_sre.SRE_Match object; span=(4226, 4238), match='152-555-7417'>\n",
      "<_sre.SRE_Match object; span=(4318, 4330), match='893-555-9832'>\n",
      "<_sre.SRE_Match object; span=(4408, 4420), match='217-555-7123'>\n",
      "<_sre.SRE_Match object; span=(4499, 4511), match='786-555-6544'>\n",
      "<_sre.SRE_Match object; span=(4589, 4601), match='780-555-2574'>\n",
      "<_sre.SRE_Match object; span=(4677, 4689), match='926-555-8735'>\n",
      "<_sre.SRE_Match object; span=(4763, 4775), match='895-555-3539'>\n",
      "<_sre.SRE_Match object; span=(4860, 4872), match='874-555-3949'>\n",
      "<_sre.SRE_Match object; span=(4946, 4958), match='800-555-2420'>\n",
      "<_sre.SRE_Match object; span=(5035, 5047), match='936-555-6340'>\n",
      "<_sre.SRE_Match object; span=(5124, 5136), match='372-555-9809'>\n",
      "<_sre.SRE_Match object; span=(5211, 5223), match='890-555-5618'>\n",
      "<_sre.SRE_Match object; span=(5293, 5305), match='670-555-3005'>\n",
      "<_sre.SRE_Match object; span=(5383, 5395), match='509-555-5997'>\n",
      "<_sre.SRE_Match object; span=(5476, 5488), match='721-555-5632'>\n",
      "<_sre.SRE_Match object; span=(5567, 5579), match='900-555-3567'>\n",
      "<_sre.SRE_Match object; span=(5657, 5669), match='147-555-6830'>\n",
      "<_sre.SRE_Match object; span=(5746, 5758), match='582-555-3426'>\n",
      "<_sre.SRE_Match object; span=(5831, 5843), match='400-555-1706'>\n",
      "<_sre.SRE_Match object; span=(5922, 5934), match='525-555-1793'>\n",
      "<_sre.SRE_Match object; span=(6012, 6024), match='317-555-6700'>\n",
      "<_sre.SRE_Match object; span=(6100, 6112), match='974-555-8301'>\n",
      "<_sre.SRE_Match object; span=(6190, 6202), match='800-555-3216'>\n",
      "<_sre.SRE_Match object; span=(6274, 6286), match='746-555-4094'>\n",
      "<_sre.SRE_Match object; span=(6361, 6373), match='922-555-1773'>\n",
      "<_sre.SRE_Match object; span=(6446, 6458), match='711-555-4427'>\n",
      "<_sre.SRE_Match object; span=(6531, 6543), match='355-555-1872'>\n",
      "<_sre.SRE_Match object; span=(6620, 6632), match='852-555-6521'>\n",
      "<_sre.SRE_Match object; span=(6712, 6724), match='691-555-5773'>\n",
      "<_sre.SRE_Match object; span=(6804, 6816), match='332-555-5441'>\n",
      "<_sre.SRE_Match object; span=(6890, 6902), match='900-555-7755'>\n",
      "<_sre.SRE_Match object; span=(6972, 6984), match='379-555-3685'>\n",
      "<_sre.SRE_Match object; span=(7062, 7074), match='127-555-9682'>\n",
      "<_sre.SRE_Match object; span=(7153, 7165), match='789-555-7032'>\n",
      "<_sre.SRE_Match object; span=(7244, 7256), match='783-555-5135'>\n",
      "<_sre.SRE_Match object; span=(7337, 7349), match='315-555-6507'>\n",
      "<_sre.SRE_Match object; span=(7428, 7440), match='481-555-5835'>\n",
      "<_sre.SRE_Match object; span=(7516, 7528), match='365-555-8287'>\n",
      "<_sre.SRE_Match object; span=(7608, 7620), match='911-555-7535'>\n",
      "<_sre.SRE_Match object; span=(7694, 7706), match='681-555-2460'>\n",
      "<_sre.SRE_Match object; span=(7780, 7792), match='274-555-9800'>\n",
      "<_sre.SRE_Match object; span=(7865, 7877), match='800-555-1372'>\n",
      "<_sre.SRE_Match object; span=(7954, 7966), match='300-555-7821'>\n",
      "<_sre.SRE_Match object; span=(8044, 8056), match='900*555*9598'>\n",
      "<_sre.SRE_Match object; span=(8130, 8142), match='705-555-6863'>\n",
      "<_sre.SRE_Match object; span=(8219, 8231), match='215-555-9449'>\n",
      "<_sre.SRE_Match object; span=(8310, 8322), match='988-555-6112'>\n",
      "<_sre.SRE_Match object; span=(8396, 8408), match='623-555-3006'>\n",
      "<_sre.SRE_Match object; span=(8480, 8492), match='192-555-4977'>\n",
      "<_sre.SRE_Match object; span=(8565, 8577), match='178-555-4899'>\n",
      "<_sre.SRE_Match object; span=(8649, 8661), match='952-555-3089'>\n",
      "<_sre.SRE_Match object; span=(8742, 8754), match='900-555-6426'>\n"
     ]
    }
   ],
   "source": [
    "# Searching: 900*555*9598\n",
    "pattern = re.compile(r\"[\\d]{3}(.-*)[\\d]{3}(.-*)[\\d]{4}\")\n",
    "matches = pattern.finditer(data)\n",
    "for match in matches:\n",
    "    print(match)"
   ]
  },
  {
   "cell_type": "code",
   "execution_count": 42,
   "id": "5dc25362-348f-4a83-8589-d44b1660f1f7",
   "metadata": {},
   "outputs": [
    {
     "name": "stdout",
     "output_type": "stream",
     "text": [
      "<_sre.SRE_Match object; span=(103, 115), match='800-555-5669'>\n",
      "<_sre.SRE_Match object; span=(282, 294), match='900-555-9340'>\n",
      "<_sre.SRE_Match object; span=(468, 480), match='800-555-6771'>\n",
      "<_sre.SRE_Match object; span=(1092, 1104), match='900-555-3205'>\n",
      "<_sre.SRE_Match object; span=(1440, 1452), match='800-555-6089'>\n",
      "<_sre.SRE_Match object; span=(1791, 1803), match='800-555-7100'>\n",
      "<_sre.SRE_Match object; span=(2052, 2064), match='900-555-5118'>\n",
      "<_sre.SRE_Match object; span=(2827, 2839), match='900-555-5428'>\n",
      "<_sre.SRE_Match object; span=(3285, 3297), match='800-555-8810'>\n",
      "<_sre.SRE_Match object; span=(3972, 3984), match='900-555-9598'>\n",
      "<_sre.SRE_Match object; span=(4946, 4958), match='800-555-2420'>\n",
      "<_sre.SRE_Match object; span=(5567, 5579), match='900-555-3567'>\n",
      "<_sre.SRE_Match object; span=(6190, 6202), match='800-555-3216'>\n",
      "<_sre.SRE_Match object; span=(6890, 6902), match='900-555-7755'>\n",
      "<_sre.SRE_Match object; span=(7865, 7877), match='800-555-1372'>\n",
      "<_sre.SRE_Match object; span=(8044, 8056), match='900*555*9598'>\n",
      "<_sre.SRE_Match object; span=(8742, 8754), match='900-555-6426'>\n"
     ]
    }
   ],
   "source": [
    "# Searching: Starting with 800 or 900\n",
    "pattern = re.compile(r\"[89]00(.-*)[\\d]{3}(.-*)[\\d]{4}\")\n",
    "matches = pattern.finditer(data)\n",
    "for match in matches:\n",
    "    print(match)"
   ]
  },
  {
   "cell_type": "code",
   "execution_count": 43,
   "id": "84bd9844-0466-4aca-a34b-5826d7347856",
   "metadata": {},
   "outputs": [
    {
     "name": "stdout",
     "output_type": "stream",
     "text": [
      "<_sre.SRE_Match object; span=(56, 57), match='1'>\n",
      "<_sre.SRE_Match object; span=(57, 58), match='2'>\n",
      "<_sre.SRE_Match object; span=(58, 59), match='3'>\n",
      "<_sre.SRE_Match object; span=(59, 60), match='4'>\n",
      "<_sre.SRE_Match object; span=(161, 162), match='1'>\n",
      "<_sre.SRE_Match object; span=(162, 163), match='2'>\n",
      "<_sre.SRE_Match object; span=(166, 167), match='3'>\n",
      "<_sre.SRE_Match object; span=(167, 168), match='2'>\n",
      "<_sre.SRE_Match object; span=(168, 169), match='1'>\n",
      "<_sre.SRE_Match object; span=(170, 171), match='2'>\n",
      "<_sre.SRE_Match object; span=(172, 173), match='4'>\n",
      "<_sre.SRE_Match object; span=(177, 178), match='4'>\n",
      "<_sre.SRE_Match object; span=(179, 180), match='4'>\n",
      "<_sre.SRE_Match object; span=(183, 184), match='4'>\n",
      "<_sre.SRE_Match object; span=(187, 188), match='3'>\n",
      "<_sre.SRE_Match object; span=(190, 191), match='4'>\n"
     ]
    }
   ],
   "source": [
    "# Searching: \n",
    "pattern = re.compile(r\"[1-4]\")\n",
    "matches = pattern.finditer(text_to_search)\n",
    "for match in matches:\n",
    "    print(match)"
   ]
  },
  {
   "cell_type": "code",
   "execution_count": 44,
   "id": "e087108e-71ee-4cca-aa0b-5cd72f406482",
   "metadata": {},
   "outputs": [
    {
     "name": "stdout",
     "output_type": "stream",
     "text": [
      "<_sre.SRE_Match object; span=(2, 5), match='cat'>\n",
      "<_sre.SRE_Match object; span=(6, 9), match='mat'>\n",
      "<_sre.SRE_Match object; span=(10, 13), match='sat'>\n"
     ]
    }
   ],
   "source": [
    "new_text = \"\"\" \n",
    "cat\n",
    "mat\n",
    "sat\n",
    "bat\n",
    "\"\"\"\n",
    "\n",
    "# Search all ending with \"at\" but not starting with \"b\"\n",
    "pattern = re.compile(r\"[^b]at\")\n",
    "matches = pattern.finditer(new_text)\n",
    "for match in matches:\n",
    "    print(match)"
   ]
  },
  {
   "cell_type": "code",
   "execution_count": 45,
   "id": "66847fd6-8f5e-4629-934f-2f37e5365431",
   "metadata": {},
   "outputs": [
    {
     "name": "stdout",
     "output_type": "stream",
     "text": [
      "<_sre.SRE_Match object; span=(2, 5), match='cat'>\n",
      "<_sre.SRE_Match object; span=(6, 9), match='mat'>\n",
      "<_sre.SRE_Match object; span=(10, 13), match='sat'>\n",
      "<_sre.SRE_Match object; span=(14, 17), match='bat'>\n"
     ]
    }
   ],
   "source": [
    "# Search all ending with \"at\" \n",
    "pattern = re.compile(r\"[a-z]*at\")\n",
    "matches = pattern.finditer(new_text)\n",
    "for match in matches:\n",
    "    print(match)"
   ]
  },
  {
   "cell_type": "code",
   "execution_count": 46,
   "id": "3d05e20c-37fa-4788-87af-4bd01e40945f",
   "metadata": {},
   "outputs": [
    {
     "name": "stdout",
     "output_type": "stream",
     "text": [
      "<_sre.SRE_Match object; span=(193, 196), match='Mr.'>\n",
      "<_sre.SRE_Match object; span=(234, 237), match='Mr.'>\n"
     ]
    }
   ],
   "source": [
    "# Search all ending with \"at\" \n",
    "pattern = re.compile(r\"Mr\\.\")\n",
    "matches = pattern.finditer(text_to_search)\n",
    "for match in matches:\n",
    "    print(match)"
   ]
  },
  {
   "cell_type": "code",
   "execution_count": 47,
   "id": "86751c25-12f0-4fe4-9516-c314cb20fe97",
   "metadata": {},
   "outputs": [
    {
     "name": "stdout",
     "output_type": "stream",
     "text": [
      "<_sre.SRE_Match object; span=(193, 196), match='Mr.'>\n",
      "<_sre.SRE_Match object; span=(205, 207), match='Mr'>\n",
      "<_sre.SRE_Match object; span=(223, 225), match='Mr'>\n",
      "<_sre.SRE_Match object; span=(234, 237), match='Mr.'>\n"
     ]
    }
   ],
   "source": [
    "# Search \n",
    "pattern = re.compile(r\"Mr\\.?\")\n",
    "matches = pattern.finditer(text_to_search)\n",
    "for match in matches:\n",
    "    print(match)"
   ]
  },
  {
   "cell_type": "code",
   "execution_count": 48,
   "id": "e72ca7bc-e8e5-42dd-890d-32f6a9cf864c",
   "metadata": {},
   "outputs": [
    {
     "name": "stdout",
     "output_type": "stream",
     "text": [
      "<_sre.SRE_Match object; span=(193, 197), match='Mr. '>\n",
      "<_sre.SRE_Match object; span=(205, 208), match='Mr '>\n",
      "<_sre.SRE_Match object; span=(234, 238), match='Mr. '>\n"
     ]
    }
   ],
   "source": [
    "# Search \n",
    "pattern = re.compile(r\"Mr\\.?\\s\")\n",
    "matches = pattern.finditer(text_to_search)\n",
    "for match in matches:\n",
    "    print(match)"
   ]
  },
  {
   "cell_type": "code",
   "execution_count": 49,
   "id": "2e800fc2-ed15-47ef-9c73-01437257d8bb",
   "metadata": {},
   "outputs": [
    {
     "name": "stdout",
     "output_type": "stream",
     "text": [
      "<_sre.SRE_Match object; span=(193, 198), match='Mr. S'>\n",
      "<_sre.SRE_Match object; span=(205, 209), match='Mr S'>\n",
      "<_sre.SRE_Match object; span=(234, 239), match='Mr. T'>\n"
     ]
    }
   ],
   "source": [
    "# Search \n",
    "pattern = re.compile(r\"Mr\\.?\\s[A-Z]\")\n",
    "matches = pattern.finditer(text_to_search)\n",
    "for match in matches:\n",
    "    print(match)"
   ]
  },
  {
   "cell_type": "code",
   "execution_count": 50,
   "id": "a4de5533-d604-438f-950c-f2960463d16e",
   "metadata": {},
   "outputs": [
    {
     "name": "stdout",
     "output_type": "stream",
     "text": [
      "<_sre.SRE_Match object; span=(193, 199), match='Mr. Sc'>\n",
      "<_sre.SRE_Match object; span=(205, 210), match='Mr Sm'>\n"
     ]
    }
   ],
   "source": [
    "# Search \n",
    "pattern = re.compile(r\"Mr\\.?\\s[A-Z]\\w\")\n",
    "matches = pattern.finditer(text_to_search)\n",
    "for match in matches:\n",
    "    print(match)"
   ]
  },
  {
   "cell_type": "code",
   "execution_count": 51,
   "id": "6fc4579e-34ba-4f7d-8211-a240c063f8fd",
   "metadata": {},
   "outputs": [
    {
     "name": "stdout",
     "output_type": "stream",
     "text": [
      "<_sre.SRE_Match object; span=(193, 204), match='Mr. Schafer'>\n",
      "<_sre.SRE_Match object; span=(205, 213), match='Mr Smith'>\n"
     ]
    }
   ],
   "source": [
    "# Search \n",
    "pattern = re.compile(r\"Mr\\.?\\s[A-Z]\\w+\")\n",
    "matches = pattern.finditer(text_to_search)\n",
    "for match in matches:\n",
    "    print(match)"
   ]
  },
  {
   "cell_type": "code",
   "execution_count": 52,
   "id": "a67f2ae9-690b-4888-bdc5-3c9efd31a944",
   "metadata": {},
   "outputs": [
    {
     "name": "stdout",
     "output_type": "stream",
     "text": [
      "<_sre.SRE_Match object; span=(193, 204), match='Mr. Schafer'>\n",
      "<_sre.SRE_Match object; span=(205, 213), match='Mr Smith'>\n",
      "<_sre.SRE_Match object; span=(234, 239), match='Mr. T'>\n"
     ]
    }
   ],
   "source": [
    "# Search \n",
    "pattern = re.compile(r\"Mr\\.?\\s[A-Z]\\w*\")\n",
    "matches = pattern.finditer(text_to_search)\n",
    "for match in matches:\n",
    "    print(match)"
   ]
  },
  {
   "cell_type": "code",
   "execution_count": 53,
   "id": "7075051c-467b-479b-93bd-754f53b84ef6",
   "metadata": {},
   "outputs": [
    {
     "name": "stdout",
     "output_type": "stream",
     "text": [
      "<_sre.SRE_Match object; span=(193, 204), match='Mr. Schafer'>\n",
      "<_sre.SRE_Match object; span=(205, 213), match='Mr Smith'>\n",
      "<_sre.SRE_Match object; span=(214, 222), match='Ms Davis'>\n",
      "<_sre.SRE_Match object; span=(234, 239), match='Mr. T'>\n"
     ]
    }
   ],
   "source": [
    "# Search \n",
    "pattern = re.compile(r\"M(r|s)\\.?\\s[A-Z]\\w*\")\n",
    "matches = pattern.finditer(text_to_search)\n",
    "for match in matches:\n",
    "    print(match)"
   ]
  },
  {
   "cell_type": "code",
   "execution_count": 54,
   "id": "f1097a94-1cbf-40ab-891f-486534b7047c",
   "metadata": {},
   "outputs": [
    {
     "name": "stdout",
     "output_type": "stream",
     "text": [
      "<_sre.SRE_Match object; span=(193, 204), match='Mr. Schafer'>\n",
      "<_sre.SRE_Match object; span=(205, 213), match='Mr Smith'>\n",
      "<_sre.SRE_Match object; span=(214, 222), match='Ms Davis'>\n",
      "<_sre.SRE_Match object; span=(223, 233), match='Mrs. Robin'>\n",
      "<_sre.SRE_Match object; span=(234, 239), match='Mr. T'>\n"
     ]
    }
   ],
   "source": [
    "# Search \n",
    "pattern = re.compile(r\"M(r|s|rs)\\.?\\s[A-Z]\\w*\")\n",
    "matches = pattern.finditer(text_to_search)\n",
    "for match in matches:\n",
    "    print(match)"
   ]
  },
  {
   "cell_type": "code",
   "execution_count": 55,
   "id": "a704d915-9905-4e38-b996-49c37c2cb745",
   "metadata": {},
   "outputs": [
    {
     "name": "stdout",
     "output_type": "stream",
     "text": [
      "<_sre.SRE_Match object; span=(193, 204), match='Mr. Schafer'>\n",
      "<_sre.SRE_Match object; span=(205, 213), match='Mr Smith'>\n",
      "<_sre.SRE_Match object; span=(214, 222), match='Ms Davis'>\n",
      "<_sre.SRE_Match object; span=(223, 233), match='Mrs. Robin'>\n",
      "<_sre.SRE_Match object; span=(234, 239), match='Mr. T'>\n"
     ]
    }
   ],
   "source": [
    "# Search \n",
    "pattern = re.compile(r\"(Mr|Ms|Mrs)\\.?\\s[A-Z]\\w*\")\n",
    "matches = pattern.finditer(text_to_search)\n",
    "for match in matches:\n",
    "    print(match)"
   ]
  },
  {
   "cell_type": "code",
   "execution_count": 56,
   "id": "3ec2137d-e953-4868-bc05-00ab18ca1313",
   "metadata": {},
   "outputs": [
    {
     "name": "stdout",
     "output_type": "stream",
     "text": [
      "<_sre.SRE_Match object; span=(193, 204), match='Mr. Schafer'>\n",
      "<_sre.SRE_Match object; span=(205, 213), match='Mr Smith'>\n",
      "<_sre.SRE_Match object; span=(214, 222), match='Ms Davis'>\n",
      "<_sre.SRE_Match object; span=(223, 233), match='Mrs. Robin'>\n",
      "<_sre.SRE_Match object; span=(234, 239), match='Mr. T'>\n"
     ]
    }
   ],
   "source": [
    "# Search \n",
    "pattern = re.compile(r\"(Mr|Ms|Mrs)\\.?\\s[A-Z]\\w*\")\n",
    "matches = pattern.finditer(text_to_search)\n",
    "for match in matches:\n",
    "    print(match)"
   ]
  },
  {
   "cell_type": "code",
   "execution_count": 84,
   "id": "4a93e6b0-7760-42df-9178-d10872f07e86",
   "metadata": {},
   "outputs": [],
   "source": [
    "emails = '''\n",
    "RajivMSchafer@gmail.com\n",
    "rajiv.schafer@university.edu\n",
    "rajiv-321-schafer@my-work.net\n",
    "'''"
   ]
  },
  {
   "cell_type": "code",
   "execution_count": 85,
   "id": "feccc428-02f2-4c4a-8699-775c15a5e6b9",
   "metadata": {},
   "outputs": [
    {
     "name": "stdout",
     "output_type": "stream",
     "text": [
      "<_sre.SRE_Match object; span=(1, 24), match='RajivMSchafer@gmail.com'>\n"
     ]
    }
   ],
   "source": [
    "# Search \n",
    "pattern = re.compile(r\"[a-zA-Z]+@[a-zA-Z]+\\.com\")\n",
    "matches = pattern.finditer(emails)\n",
    "for match in matches:\n",
    "    print(match)"
   ]
  },
  {
   "cell_type": "code",
   "execution_count": 86,
   "id": "e03a86b5-f31c-4a35-b098-23b57b75bc8c",
   "metadata": {},
   "outputs": [
    {
     "name": "stdout",
     "output_type": "stream",
     "text": [
      "<_sre.SRE_Match object; span=(1, 24), match='RajivMSchafer@gmail.com'>\n",
      "<_sre.SRE_Match object; span=(25, 53), match='rajiv.schafer@university.edu'>\n"
     ]
    }
   ],
   "source": [
    "# Search \n",
    "pattern = re.compile(r\"[a-zA-Z.]+@[a-zA-Z]+\\.(com|edu)\")\n",
    "matches = pattern.finditer(emails)\n",
    "for match in matches:\n",
    "    print(match)"
   ]
  },
  {
   "cell_type": "code",
   "execution_count": 87,
   "id": "826f6d66-8d81-4049-ba07-8fcdc392ecd1",
   "metadata": {},
   "outputs": [
    {
     "name": "stdout",
     "output_type": "stream",
     "text": [
      "<_sre.SRE_Match object; span=(1, 24), match='RajivMSchafer@gmail.com'>\n",
      "<_sre.SRE_Match object; span=(25, 53), match='rajiv.schafer@university.edu'>\n",
      "<_sre.SRE_Match object; span=(54, 83), match='rajiv-321-schafer@my-work.net'>\n"
     ]
    }
   ],
   "source": [
    "# Search \n",
    "pattern = re.compile(r\"[a-zA-Z0-9.-]+@[a-zA-Z-]+\\.(com|edu|net)\")\n",
    "matches = pattern.finditer(emails)\n",
    "for match in matches:\n",
    "    print(match)"
   ]
  },
  {
   "cell_type": "code",
   "execution_count": 88,
   "id": "4a8a6ef4-5257-4cc9-944b-8794c2629cb5",
   "metadata": {},
   "outputs": [
    {
     "name": "stdout",
     "output_type": "stream",
     "text": [
      "<_sre.SRE_Match object; span=(1, 24), match='RajivMSchafer@gmail.com'>\n",
      "<_sre.SRE_Match object; span=(25, 53), match='rajiv.schafer@university.edu'>\n",
      "<_sre.SRE_Match object; span=(54, 83), match='rajiv-321-schafer@my-work.net'>\n"
     ]
    }
   ],
   "source": [
    "# Search \n",
    "mail_expression = r'[a-zA-Z0-9_.+-]+@[a-zA-Z0-9-]+\\.[a-zA-Z0-9-.]+'\n",
    "pattern = re.compile(mail_expression)\n",
    "matches = pattern.finditer(emails)\n",
    "for match in matches:\n",
    "    print(match)"
   ]
  },
  {
   "cell_type": "code",
   "execution_count": 89,
   "id": "9d185bba-e79c-4e4e-9005-46c9324fd70c",
   "metadata": {},
   "outputs": [],
   "source": [
    "urls = '''\n",
    "https://www.google.com\n",
    "http://rajiv.com\n",
    "https://youtube.com\n",
    "https://www.nasa.gov\n",
    "'''"
   ]
  },
  {
   "cell_type": "code",
   "execution_count": 90,
   "id": "039dd406-fcca-461b-bc49-3e8cc5b90063",
   "metadata": {},
   "outputs": [
    {
     "name": "stdout",
     "output_type": "stream",
     "text": [
      "<_sre.SRE_Match object; span=(1, 13), match='https://www.'>\n",
      "<_sre.SRE_Match object; span=(24, 31), match='http://'>\n",
      "<_sre.SRE_Match object; span=(41, 49), match='https://'>\n",
      "<_sre.SRE_Match object; span=(61, 73), match='https://www.'>\n"
     ]
    }
   ],
   "source": [
    "expression = r'https?://(www\\.)?'\n",
    "pattern = re.compile(expression)\n",
    "matches = pattern.finditer(urls)\n",
    "for match in matches:\n",
    "    print(match)"
   ]
  },
  {
   "cell_type": "code",
   "execution_count": 91,
   "id": "0f02d14a-800f-4cd2-a083-581f46d93e97",
   "metadata": {},
   "outputs": [
    {
     "name": "stdout",
     "output_type": "stream",
     "text": [
      "<_sre.SRE_Match object; span=(1, 23), match='https://www.google.com'>\n",
      "<_sre.SRE_Match object; span=(24, 40), match='http://rajiv.com'>\n",
      "<_sre.SRE_Match object; span=(41, 60), match='https://youtube.com'>\n",
      "<_sre.SRE_Match object; span=(61, 81), match='https://www.nasa.gov'>\n"
     ]
    }
   ],
   "source": [
    "expression = r'https?://(www\\.)?\\w+\\.\\w+'\n",
    "pattern = re.compile(expression)\n",
    "matches = pattern.finditer(urls)\n",
    "for match in matches:\n",
    "    print(match)"
   ]
  },
  {
   "cell_type": "code",
   "execution_count": 92,
   "id": "1961e160-51a8-4ad7-af03-b53be41d5c5c",
   "metadata": {},
   "outputs": [
    {
     "name": "stdout",
     "output_type": "stream",
     "text": [
      "<_sre.SRE_Match object; span=(1, 23), match='https://www.google.com'>\n",
      "<_sre.SRE_Match object; span=(24, 40), match='http://rajiv.com'>\n",
      "<_sre.SRE_Match object; span=(41, 60), match='https://youtube.com'>\n",
      "<_sre.SRE_Match object; span=(61, 81), match='https://www.nasa.gov'>\n"
     ]
    }
   ],
   "source": [
    "expression = r'https?://(www\\.)?(\\w+)(\\.\\w+)'\n",
    "pattern = re.compile(expression)\n",
    "matches = pattern.finditer(urls)\n",
    "for match in matches:\n",
    "    print(match)"
   ]
  },
  {
   "cell_type": "code",
   "execution_count": 93,
   "id": "81629100-9cbc-4ea1-b35d-190b4762db63",
   "metadata": {},
   "outputs": [
    {
     "name": "stdout",
     "output_type": "stream",
     "text": [
      "https://www.google.com\n",
      "http://rajiv.com\n",
      "https://youtube.com\n",
      "https://www.nasa.gov\n"
     ]
    }
   ],
   "source": [
    "expression = r'https?://(www\\.)?(\\w+)(\\.\\w+)'\n",
    "pattern = re.compile(expression)\n",
    "matches = pattern.finditer(urls)\n",
    "for match in matches:\n",
    "    print(match.group(0))"
   ]
  },
  {
   "cell_type": "code",
   "execution_count": 67,
   "id": "ca561579-4e3d-4e2e-9474-0a15242bb5bc",
   "metadata": {},
   "outputs": [
    {
     "name": "stdout",
     "output_type": "stream",
     "text": [
      "www.\n",
      "None\n",
      "None\n",
      "www.\n"
     ]
    }
   ],
   "source": [
    "expression = r'https?://(www\\.)?(\\w+)(\\.\\w+)'\n",
    "pattern = re.compile(expression)\n",
    "matches = pattern.finditer(urls)\n",
    "for match in matches:\n",
    "    print(match.group(1))"
   ]
  },
  {
   "cell_type": "code",
   "execution_count": 94,
   "id": "572c6fd8-474a-4266-a41f-a03d48d1feae",
   "metadata": {},
   "outputs": [
    {
     "name": "stdout",
     "output_type": "stream",
     "text": [
      "google\n",
      "rajiv\n",
      "youtube\n",
      "nasa\n"
     ]
    }
   ],
   "source": [
    "expression = r'https?://(www\\.)?(\\w+)(\\.\\w+)'\n",
    "pattern = re.compile(expression)\n",
    "matches = pattern.finditer(urls)\n",
    "for match in matches:\n",
    "    print(match.group(2))"
   ]
  },
  {
   "cell_type": "code",
   "execution_count": 69,
   "id": "167d49d0-579a-4a36-8336-98ed5c53164a",
   "metadata": {},
   "outputs": [
    {
     "name": "stdout",
     "output_type": "stream",
     "text": [
      ".com\n",
      ".com\n",
      ".com\n",
      ".gov\n"
     ]
    }
   ],
   "source": [
    "expression = r'https?://(www\\.)?(\\w+)(\\.\\w+)'\n",
    "pattern = re.compile(expression)\n",
    "matches = pattern.finditer(urls)\n",
    "for match in matches:\n",
    "    print(match.group(3))"
   ]
  },
  {
   "cell_type": "code",
   "execution_count": 95,
   "id": "805ed9ca-2a53-4b57-98c9-96e5dc9aeff4",
   "metadata": {},
   "outputs": [
    {
     "name": "stdout",
     "output_type": "stream",
     "text": [
      "\n",
      "google.com\n",
      "rajiv.com\n",
      "youtube.com\n",
      "nasa.gov\n",
      "\n"
     ]
    }
   ],
   "source": [
    "expression = r'https?://(www\\.)?(\\w+)(\\.\\w+)'\n",
    "pattern = re.compile(expression)\n",
    "\n",
    "subbed_urls = pattern.sub(r\"\\2\\3\", urls)\n",
    "print(subbed_urls)"
   ]
  },
  {
   "cell_type": "code",
   "execution_count": 71,
   "id": "a3865f51-511d-43fd-abae-886b2b491e73",
   "metadata": {},
   "outputs": [
    {
     "name": "stdout",
     "output_type": "stream",
     "text": [
      "Mr\n",
      "Mr\n",
      "Ms\n",
      "Mrs\n",
      "Mr\n"
     ]
    }
   ],
   "source": [
    "# Search \n",
    "pattern = re.compile(r\"(Mr|Ms|Mrs)\\.?\\s[A-Z]\\w*\")\n",
    "matches = pattern.findall(text_to_search)\n",
    "for match in matches:\n",
    "    print(match)"
   ]
  },
  {
   "cell_type": "code",
   "execution_count": 72,
   "id": "0ffa276e-9974-400f-858b-b27981065519",
   "metadata": {},
   "outputs": [
    {
     "ename": "TypeError",
     "evalue": "'_sre.SRE_Match' object is not iterable",
     "output_type": "error",
     "traceback": [
      "\u001b[1;31m---------------------------------------------------------------------------\u001b[0m",
      "\u001b[1;31mTypeError\u001b[0m                                 Traceback (most recent call last)",
      "\u001b[1;32m<ipython-input-72-3bc563aef97b>\u001b[0m in \u001b[0;36m<module>\u001b[1;34m()\u001b[0m\n\u001b[0;32m      2\u001b[0m \u001b[0mpattern\u001b[0m \u001b[1;33m=\u001b[0m \u001b[0mre\u001b[0m\u001b[1;33m.\u001b[0m\u001b[0mcompile\u001b[0m\u001b[1;33m(\u001b[0m\u001b[1;34mr\"Start\"\u001b[0m\u001b[1;33m)\u001b[0m\u001b[1;33m\u001b[0m\u001b[1;33m\u001b[0m\u001b[0m\n\u001b[0;32m      3\u001b[0m \u001b[0mmatches\u001b[0m \u001b[1;33m=\u001b[0m \u001b[0mpattern\u001b[0m\u001b[1;33m.\u001b[0m\u001b[0mmatch\u001b[0m\u001b[1;33m(\u001b[0m\u001b[0msentence\u001b[0m\u001b[1;33m)\u001b[0m\u001b[1;33m\u001b[0m\u001b[1;33m\u001b[0m\u001b[0m\n\u001b[1;32m----> 4\u001b[1;33m \u001b[1;32mfor\u001b[0m \u001b[0mmatch\u001b[0m \u001b[1;32min\u001b[0m \u001b[0mmatches\u001b[0m\u001b[1;33m:\u001b[0m\u001b[1;33m\u001b[0m\u001b[1;33m\u001b[0m\u001b[0m\n\u001b[0m\u001b[0;32m      5\u001b[0m     \u001b[0mprint\u001b[0m\u001b[1;33m(\u001b[0m\u001b[0mmatch\u001b[0m\u001b[1;33m)\u001b[0m\u001b[1;33m\u001b[0m\u001b[1;33m\u001b[0m\u001b[0m\n",
      "\u001b[1;31mTypeError\u001b[0m: '_sre.SRE_Match' object is not iterable"
     ]
    }
   ],
   "source": [
    "# Search \n",
    "pattern = re.compile(r\"Start\")\n",
    "matches = pattern.match(sentence)\n",
    "for match in matches:\n",
    "    print(match)"
   ]
  },
  {
   "cell_type": "code",
   "execution_count": 74,
   "id": "962d25ec-d2a2-44ee-b02a-d220fd9f18fb",
   "metadata": {},
   "outputs": [
    {
     "name": "stdout",
     "output_type": "stream",
     "text": [
      "<_sre.SRE_Match object; span=(0, 5), match='Start'>\n"
     ]
    }
   ],
   "source": [
    "# Search \n",
    "pattern = re.compile(r\"Start\")\n",
    "matches = pattern.match(sentence)\n",
    "print(matches)"
   ]
  },
  {
   "cell_type": "code",
   "execution_count": 75,
   "id": "d37389f1-3577-4f2b-bc5c-5fc4c7fa5e8d",
   "metadata": {},
   "outputs": [
    {
     "name": "stdout",
     "output_type": "stream",
     "text": [
      "<_sre.SRE_Match object; span=(0, 5), match='Start'>\n"
     ]
    }
   ],
   "source": [
    "# Search \n",
    "pattern = re.compile(r\"Start\")\n",
    "matches = pattern.search(sentence)\n",
    "print(matches)"
   ]
  },
  {
   "cell_type": "code",
   "execution_count": 76,
   "id": "847e9cb4-a698-41e9-a65e-de339469fb48",
   "metadata": {},
   "outputs": [
    {
     "name": "stdout",
     "output_type": "stream",
     "text": [
      "None\n"
     ]
    }
   ],
   "source": [
    "# Search \n",
    "pattern = re.compile(r\"asads\")\n",
    "matches = pattern.search(sentence)\n",
    "print(matches)"
   ]
  },
  {
   "cell_type": "markdown",
   "id": "ba57646b-c71e-4e10-9171-57ba95a5b377",
   "metadata": {},
   "source": [
    "## Flags"
   ]
  },
  {
   "cell_type": "code",
   "execution_count": 77,
   "id": "e6bc016c-f1e5-4119-bb08-85473c5f5596",
   "metadata": {},
   "outputs": [
    {
     "name": "stdout",
     "output_type": "stream",
     "text": [
      "<_sre.SRE_Match object; span=(0, 5), match='Start'>\n"
     ]
    }
   ],
   "source": [
    "# Search \n",
    "pattern = re.compile(r\"start\", re.I)\n",
    "matches = pattern.search(sentence)\n",
    "print(matches)"
   ]
  },
  {
   "cell_type": "markdown",
   "id": "521bb27d-8e7d-4f94-9dda-3e0782604e12",
   "metadata": {},
   "source": [
    "# What are Regular Expressions and how to learn it"
   ]
  },
  {
   "cell_type": "markdown",
   "id": "9fb494c7-0217-41c1-953a-a7837cdf0ed3",
   "metadata": {},
   "source": [
    "RegEx can be used to: \n",
    "\n",
    "    - Mail ID's in a document\n",
    "\n",
    "    - Mobile Numbers in a document\n",
    "\n",
    "    - Credit card format\n",
    "    \n",
    "    - Password Rules: Upper case, lower case, special chars, numbers etc..,\n",
    "    \n",
    "    \n",
    "[Best Site to Learn Regex](https://regexr.com/)"
   ]
  }
 ],
 "metadata": {
  "kernelspec": {
   "display_name": "atlantis_anaconda_venv",
   "language": "python",
   "name": "atlantis_anaconda_venv"
  },
  "language_info": {
   "codemirror_mode": {
    "name": "ipython",
    "version": 3
   },
   "file_extension": ".py",
   "mimetype": "text/x-python",
   "name": "python",
   "nbconvert_exporter": "python",
   "pygments_lexer": "ipython3",
   "version": "3.6.10"
  }
 },
 "nbformat": 4,
 "nbformat_minor": 5
}
